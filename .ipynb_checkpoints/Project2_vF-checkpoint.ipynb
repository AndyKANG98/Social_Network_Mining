{
 "cells": [
  {
   "cell_type": "code",
   "execution_count": 1,
   "metadata": {},
   "outputs": [
    {
     "name": "stderr",
     "output_type": "stream",
     "text": [
      "unable to import 'smart_open.gcs', disabling that module\n"
     ]
    }
   ],
   "source": [
    "import networkx as nx\n",
    "import numpy as np\n",
    "import os\n",
    "import time\n",
    "import pandas as pd\n",
    "from itertools import chain\n",
    "from collections import defaultdict\n",
    "from gensim.models import Word2Vec\n",
    "from sklearn.model_selection import KFold\n",
    "from sklearn.metrics import roc_auc_score"
   ]
  },
  {
   "cell_type": "markdown",
   "metadata": {},
   "source": [
    "# Pipeline"
   ]
  },
  {
   "cell_type": "markdown",
   "metadata": {},
   "source": [
    "### Data Loader"
   ]
  },
  {
   "cell_type": "code",
   "execution_count": 2,
   "metadata": {},
   "outputs": [],
   "source": [
    "def load_data(file_name):\n",
    "    \"\"\"\n",
    "    read edges from an edge file\n",
    "    \"\"\"\n",
    "    edges = list()\n",
    "    df = pd.read_csv(file_name)\n",
    "    for idx, row in df.iterrows():\n",
    "        user_id, friends = row[\"user_id\"], eval(row[\"friends\"])\n",
    "        for friend in friends:\n",
    "            # add each friend relation as an edge\n",
    "            edges.append((user_id, friend))\n",
    "    edges = sorted(edges)\n",
    "    \n",
    "    return edges\n",
    "\n",
    "def generate_false_edges(true_edges, num_false_edges=5):\n",
    "    \"\"\"\n",
    "    generate false edges given true edges\n",
    "    \"\"\"\n",
    "    np.random.seed(0)\n",
    "    nodes = list(set(chain.from_iterable(true_edges)))\n",
    "    true_edges = set(true_edges)\n",
    "    false_edges = set()\n",
    "    \n",
    "    while len(false_edges) < num_false_edges:\n",
    "        # randomly sample two different nodes and check whether the pair exisit or not\n",
    "        head, tail = np.random.choice(nodes, 2)\n",
    "        if head != tail and (head, tail) not in true_edges and (head, tail) not in false_edges:\n",
    "            false_edges.add((head, tail))    \n",
    "    false_edges = sorted(false_edges)\n",
    "    \n",
    "    return false_edges\n",
    "\n",
    "def construct_graph_from_edges(edges):\n",
    "    \"\"\"\n",
    "    generate a directed graph object given true edges\n",
    "    DiGraph documentation: https://networkx.github.io/documentation/stable/reference/classes/digraph.html\n",
    "    \"\"\"\n",
    "    # convert a list of edges {(u, v)} to a list of edges with weights {(u, v, w)}\n",
    "    edge_weight = defaultdict(float)\n",
    "    for e in edges:\n",
    "        edge_weight[e] += 1.0\n",
    "    weighed_edge_list = list()\n",
    "    for e in sorted(edge_weight.keys()):\n",
    "        weighed_edge_list.append((e[0], e[1], edge_weight[e]))\n",
    "        \n",
    "    graph = nx.DiGraph()\n",
    "    graph.add_weighted_edges_from(weighed_edge_list)\n",
    "    \n",
    "    print(\"number of nodes:\", graph.number_of_nodes())\n",
    "    print(\"number of edges:\", graph.number_of_edges())\n",
    "    \n",
    "    return graph"
   ]
  },
  {
   "cell_type": "markdown",
   "metadata": {},
   "source": [
    "### Random Walk Generator"
   ]
  },
  {
   "cell_type": "code",
   "execution_count": 3,
   "metadata": {},
   "outputs": [],
   "source": [
    "def alias_setup(probs):\n",
    "    \"\"\"\n",
    "    compute utility lists for non-uniform sampling from discrete distributions.\n",
    "    details: https://lips.cs.princeton.edu/the-alias-method-efficient-sampling-with-many-discrete-outcomes/\n",
    "    \"\"\"\n",
    "    K = len(probs)\n",
    "    q = np.zeros(K)\n",
    "    J = np.zeros(K, dtype=np.int)\n",
    "\n",
    "    smaller = list()\n",
    "    larger = list()\n",
    "    for kk, prob in enumerate(probs):\n",
    "        q[kk] = K * prob\n",
    "        if q[kk] < 1.0:\n",
    "            smaller.append(kk)\n",
    "        else:\n",
    "            larger.append(kk)\n",
    "\n",
    "    while len(smaller) > 0 and len(larger) > 0:\n",
    "        small = smaller.pop()\n",
    "        large = larger.pop()\n",
    "\n",
    "        J[small] = large\n",
    "        q[large] = q[large] + q[small] - 1.0\n",
    "        if q[large] < 1.0:\n",
    "            smaller.append(large)\n",
    "        else:\n",
    "            larger.append(large)\n",
    "\n",
    "    return J, q\n",
    "\n",
    "def get_alias_node(graph, node):\n",
    "    \"\"\"\n",
    "    get the alias node setup lists for a given node.\n",
    "    \"\"\"\n",
    "    # get the unnormalized probabilities with the first-order information\n",
    "    unnormalized_probs = list()\n",
    "    for nbr in graph.neighbors(node):\n",
    "        unnormalized_probs.append(graph[node][nbr]['weight'])\n",
    "    unnormalized_probs = np.array(unnormalized_probs)\n",
    "    if len(unnormalized_probs) > 0:\n",
    "        normalized_probs = unnormalized_probs / unnormalized_probs.sum()\n",
    "    else:\n",
    "        normalized_probs = unnormalized_probs\n",
    "        \n",
    "    return alias_setup(normalized_probs)\n",
    "    \n",
    "def get_alias_edge(graph, src, dst, p=1, q=1):\n",
    "    \"\"\"\n",
    "    get the alias edge setup lists for a given edge.\n",
    "    \"\"\"\n",
    "    # get the unnormalized probabilities with the second-order information\n",
    "    unnormalized_probs = list()\n",
    "    for dst_nbr in graph.neighbors(dst):\n",
    "        if dst_nbr == src: # distance is 0\n",
    "            unnormalized_probs.append(graph[dst][dst_nbr]['weight'] / p)\n",
    "        elif graph.has_edge(dst_nbr, src): # distance is 1\n",
    "            unnormalized_probs.append(graph[dst][dst_nbr]['weight'])\n",
    "        else: # distance is 2\n",
    "            unnormalized_probs.append(graph[dst][dst_nbr]['weight'] / q)\n",
    "    unnormalized_probs = np.array(unnormalized_probs)\n",
    "    if len(unnormalized_probs) > 0:\n",
    "        normalized_probs = unnormalized_probs / unnormalized_probs.sum()\n",
    "    else:\n",
    "        normalized_probs = unnormalized_probs\n",
    "\n",
    "    return alias_setup(normalized_probs)\n",
    "\n",
    "def preprocess_transition_probs(graph, p=1, q=1):\n",
    "    \"\"\"\n",
    "    preprocess transition probabilities for guiding the random walks.\n",
    "    \"\"\"\n",
    "    alias_nodes = dict()\n",
    "    for node in graph.nodes():\n",
    "        alias_nodes[node] = get_alias_node(graph, node)\n",
    "\n",
    "    alias_edges = dict()\n",
    "    for edge in graph.edges():\n",
    "        alias_edges[edge] = get_alias_edge(graph, edge[0], edge[1], p=p, q=q)\n",
    "\n",
    "    return alias_nodes, alias_edges"
   ]
  },
  {
   "cell_type": "code",
   "execution_count": 4,
   "metadata": {},
   "outputs": [],
   "source": [
    "def alias_draw(J, q):\n",
    "    \"\"\"\n",
    "    draw sample from a non-uniform discrete distribution using alias sampling.\n",
    "    \"\"\"\n",
    "    K = len(J)\n",
    "\n",
    "    kk = int(np.floor(np.random.rand() * K))\n",
    "    if np.random.rand() < q[kk]:\n",
    "        return kk\n",
    "    else:\n",
    "        return J[kk]\n",
    "\n",
    "def generate_first_order_random_walk(graph, alias_nodes, walk_length=10, start_node=None):\n",
    "    \"\"\"\n",
    "    simulate a random walk starting from start node and considering the first order information.\n",
    "    \"\"\"\n",
    "    if start_node == None:\n",
    "        start_node = np.random.choice(graph.nodes())\n",
    "    walk = [start_node]\n",
    "    cur = start_node\n",
    "    while len(walk) < walk_length:\n",
    "        cur_nbrs = list(graph.neighbors(cur))\n",
    "        if len(cur_nbrs) > 0:\n",
    "            # sample the next node based on alias_nodes\n",
    "            cur = cur_nbrs[alias_draw(*alias_nodes[cur])]\n",
    "            walk.append(cur)\n",
    "        else:\n",
    "            break\n",
    "\n",
    "    return walk\n",
    "    \n",
    "def generate_second_order_random_walk(graph, alias_nodes, alias_edges, walk_length=10, start_node=None):\n",
    "    \"\"\"\n",
    "    simulate a random walk starting from start node and considering the second order information.\n",
    "    \"\"\"\n",
    "    if start_node == None:\n",
    "        start_node = np.random.choice(graph.nodes())\n",
    "    walk = [start_node]\n",
    "    \n",
    "    prev = None\n",
    "    cur = start_node\n",
    "    while len(walk) < walk_length:\n",
    "        cur_nbrs = list(graph.neighbors(cur))\n",
    "        if len(cur_nbrs) > 0:\n",
    "            if prev is None:\n",
    "                # sample the next node based on alias_nodes\n",
    "                prev, cur = cur, cur_nbrs[alias_draw(*alias_nodes[cur])]\n",
    "            else:\n",
    "                # sample the next node based on alias_edges\n",
    "                prev, cur = cur, cur_nbrs[alias_draw(*alias_edges[(prev, cur)])]\n",
    "            walk.append(cur)\n",
    "        else:\n",
    "            break\n",
    "\n",
    "    return walk"
   ]
  },
  {
   "cell_type": "markdown",
   "metadata": {},
   "source": [
    "### Network Embedding Algorithms"
   ]
  },
  {
   "cell_type": "code",
   "execution_count": 5,
   "metadata": {},
   "outputs": [],
   "source": [
    "def build_deepwalk(graph, alias_nodes, node_dim=10, num_walks=10, walk_length=10):\n",
    "    \"\"\"\n",
    "    build a deepwalk model\n",
    "    \"\"\"\n",
    "    print(\"building a DeepWalk model...\", end=\"\\t\")\n",
    "    st = time.time()\n",
    "    np.random.seed(0)\n",
    "    nodes = list(graph.nodes())\n",
    "    walks = list()\n",
    "    # generate random walks\n",
    "    for walk_iter in range(num_walks):\n",
    "        np.random.shuffle(nodes)\n",
    "        for node in nodes:\n",
    "            walks.append(generate_first_order_random_walk(\n",
    "                graph, alias_nodes, walk_length=walk_length, start_node=node))\n",
    "        \n",
    "    walk_lens = [len(w) for w in walks]\n",
    "    if len(walk_lens) > 0:\n",
    "        avg_walk_len = sum(walk_lens) / len(walk_lens)\n",
    "    else:\n",
    "        avg_walk_len = 0.0\n",
    "    print(\"number of walks: %d\\taverage walk length: %.4f\" % (len(walks), avg_walk_len), end=\"\\t\")\n",
    "    \n",
    "    # train a skip-gram model for these walks\n",
    "    model = Word2Vec(walks, size=node_dim, window=3, min_count=0, sg=1, workers=os.cpu_count(), iter=10)\n",
    "    print(\"trainig time: %.4f\" % (time.time()-st))\n",
    "    \n",
    "    return model\n",
    "\n",
    "def build_node2vec(graph, alias_nodes, alias_edges, node_dim=10, num_walks=10, walk_length=10):\n",
    "    \"\"\"\n",
    "    build a node2vec model\n",
    "    \"\"\"\n",
    "    print(\"building a node2vec model...\", end=\"\\t\")\n",
    "    st = time.time()\n",
    "    np.random.seed(0)\n",
    "    nodes = list(graph.nodes())\n",
    "    walks = list()\n",
    "    # generate random walks\n",
    "    for walk_iter in range(num_walks):\n",
    "        np.random.shuffle(nodes)\n",
    "        for node in nodes:\n",
    "            walks.append(generate_second_order_random_walk(\n",
    "                graph, alias_nodes, alias_edges, walk_length=walk_length, start_node=node))\n",
    "            \n",
    "    walk_lens = [len(w) for w in walks]\n",
    "    if len(walk_lens) > 0:\n",
    "        avg_walk_len = sum(walk_lens) / len(walk_lens)\n",
    "    else:\n",
    "        avg_walk_len = 0.0    \n",
    "    print(\"number of walks: %d\\taverage walk length: %.4f\" % (len(walks), avg_walk_len), end=\"\\t\")\n",
    "    \n",
    "    # train a skip-gram model for these walks\n",
    "    model = Word2Vec(walks, size=node_dim, window=3, min_count=0, sg=1, workers=os.cpu_count(), iter=10)\n",
    "    print(\"trainig time: %.4f\" % (time.time()-st))\n",
    "    \n",
    "    return model"
   ]
  },
  {
   "cell_type": "markdown",
   "metadata": {},
   "source": [
    "### Scorer"
   ]
  },
  {
   "cell_type": "code",
   "execution_count": 6,
   "metadata": {},
   "outputs": [],
   "source": [
    "def get_cosine_sim(model, u, v):\n",
    "    \"\"\"\n",
    "    get the cosine similarity between two nodes\n",
    "    \"\"\"\n",
    "    try:\n",
    "        u = model.wv[u]\n",
    "        v = model.wv[v]\n",
    "        return np.dot(u, v) / (np.linalg.norm(u) * np.linalg.norm(v))\n",
    "    except:\n",
    "        return 0\n",
    "\n",
    "def get_auc_score(model, true_edges, false_edges):\n",
    "    \"\"\"\n",
    "    get the auc score\n",
    "    \"\"\"\n",
    "    y_true = [1] * len(true_edges) + [0] * len(false_edges)\n",
    "    \n",
    "    y_score = list()\n",
    "    for e in true_edges:\n",
    "        y_score.append(get_cosine_sim(model, e[0], e[1]))\n",
    "    for e in false_edges:\n",
    "        y_score.append(get_cosine_sim(model, e[0], e[1]))\n",
    "    \n",
    "    pre_score = y_score\n",
    "    \n",
    "    return roc_auc_score(y_true, y_score)"
   ]
  },
  {
   "cell_type": "markdown",
   "metadata": {},
   "source": [
    "# Link Prediction"
   ]
  },
  {
   "cell_type": "code",
   "execution_count": 7,
   "metadata": {},
   "outputs": [],
   "source": [
    "train_file = \"data/train.csv\"\n",
    "train_edges = load_data(train_file)\n",
    "\n",
    "valid_file = \"data/valid.csv\"\n",
    "valid_edges = load_data(valid_file)"
   ]
  },
  {
   "cell_type": "markdown",
   "metadata": {},
   "source": [
    "- Combine train/valid edges"
   ]
  },
  {
   "cell_type": "code",
   "execution_count": 8,
   "metadata": {},
   "outputs": [],
   "source": [
    "edges = train_edges+valid_edges"
   ]
  },
  {
   "cell_type": "markdown",
   "metadata": {},
   "source": [
    "- Generate false edges and build graph neural network"
   ]
  },
  {
   "cell_type": "code",
   "execution_count": 9,
   "metadata": {},
   "outputs": [
    {
     "name": "stdout",
     "output_type": "stream",
     "text": [
      "number of nodes: 8347\n",
      "number of edges: 100000\n"
     ]
    }
   ],
   "source": [
    "np.random.seed(0)\n",
    "\n",
    "# generate the same validation size of false edges\n",
    "false_edges = generate_false_edges(edges, num_false_edges=40000-len(valid_edges))\n",
    "\n",
    "# construct the graph and preprocess transition probabilities\n",
    "graph = construct_graph_from_edges(train_edges)"
   ]
  },
  {
   "cell_type": "markdown",
   "metadata": {},
   "source": [
    "- Generate valid_ans.csv"
   ]
  },
  {
   "cell_type": "code",
   "execution_count": 10,
   "metadata": {},
   "outputs": [],
   "source": [
    "def write_predictions(file_name, src, dst, score):\n",
    "    d = {'src': src, 'dst': dst, 'score': score}\n",
    "    df = pd.DataFrame(d)\n",
    "    df.to_csv(file_name, index=False)"
   ]
  },
  {
   "cell_type": "code",
   "execution_count": 11,
   "metadata": {},
   "outputs": [],
   "source": [
    "valid_ans = valid_edges + false_edges"
   ]
  },
  {
   "cell_type": "code",
   "execution_count": 12,
   "metadata": {},
   "outputs": [],
   "source": [
    "src = list()\n",
    "dst = list()\n",
    "score = [1] * len(valid_edges) + [0] * len(false_edges)\n",
    "for e in valid_ans:\n",
    "    src.append(e[0])\n",
    "    dst.append(e[1])"
   ]
  },
  {
   "cell_type": "code",
   "execution_count": 13,
   "metadata": {},
   "outputs": [],
   "source": [
    "write_predictions('data/valid_ans.csv', src, dst, score)"
   ]
  },
  {
   "cell_type": "markdown",
   "metadata": {},
   "source": [
    "# Parameter tuning"
   ]
  },
  {
   "cell_type": "markdown",
   "metadata": {},
   "source": [
    "- p,q"
   ]
  },
  {
   "cell_type": "code",
   "execution_count": 14,
   "metadata": {
    "scrolled": true
   },
   "outputs": [
    {
     "name": "stdout",
     "output_type": "stream",
     "text": [
      "building a DeepWalk model...\tnumber of walks: 83470\taverage walk length: 9.0894\ttrainig time: 17.4439\n",
      "building a node2vec model...\tnumber of walks: 83470\taverage walk length: 9.0718\ttrainig time: 22.7595\n",
      "building a DeepWalk model...\tnumber of walks: 83470\taverage walk length: 9.0894\ttrainig time: 15.5455\n",
      "building a node2vec model...\tnumber of walks: 83470\taverage walk length: 9.0916\ttrainig time: 17.0200\n",
      "building a DeepWalk model...\tnumber of walks: 83470\taverage walk length: 9.0894\ttrainig time: 15.3219\n",
      "building a node2vec model...\tnumber of walks: 83470\taverage walk length: 9.0971\ttrainig time: 16.0052\n",
      "building a DeepWalk model...\tnumber of walks: 83470\taverage walk length: 9.0894\ttrainig time: 16.1064\n",
      "building a node2vec model...\tnumber of walks: 83470\taverage walk length: 9.1081\ttrainig time: 15.6158\n",
      "building a DeepWalk model...\tnumber of walks: 83470\taverage walk length: 9.0894\ttrainig time: 15.2459\n",
      "building a node2vec model...\tnumber of walks: 83470\taverage walk length: 9.1116\ttrainig time: 15.9321\n",
      "building a DeepWalk model...\tnumber of walks: 83470\taverage walk length: 9.0894\ttrainig time: 15.3679\n",
      "building a node2vec model...\tnumber of walks: 83470\taverage walk length: 9.1194\ttrainig time: 15.6632\n",
      "building a DeepWalk model...\tnumber of walks: 83470\taverage walk length: 9.0894\ttrainig time: 15.6051\n",
      "building a node2vec model...\tnumber of walks: 83470\taverage walk length: 9.1215\ttrainig time: 15.6165\n",
      "building a DeepWalk model...\tnumber of walks: 83470\taverage walk length: 9.0894\ttrainig time: 15.2796\n",
      "building a node2vec model...\tnumber of walks: 83470\taverage walk length: 9.1263\ttrainig time: 15.8034\n",
      "building a DeepWalk model...\tnumber of walks: 83470\taverage walk length: 9.0894\ttrainig time: 15.7004\n",
      "building a node2vec model...\tnumber of walks: 83470\taverage walk length: 9.1283\ttrainig time: 15.8601\n",
      "building a DeepWalk model...\tnumber of walks: 83470\taverage walk length: 9.0894\ttrainig time: 15.2844\n",
      "building a node2vec model...\tnumber of walks: 83470\taverage walk length: 9.1328\ttrainig time: 16.8543\n",
      "building a DeepWalk model...\tnumber of walks: 83470\taverage walk length: 9.0894\ttrainig time: 15.9806\n",
      "building a node2vec model...\tnumber of walks: 83470\taverage walk length: 9.0669\ttrainig time: 17.4462\n",
      "building a DeepWalk model...\tnumber of walks: 83470\taverage walk length: 9.0894\ttrainig time: 17.6471\n",
      "building a node2vec model...\tnumber of walks: 83470\taverage walk length: 9.0809\ttrainig time: 16.3406\n",
      "building a DeepWalk model...\tnumber of walks: 83470\taverage walk length: 9.0894\ttrainig time: 17.1364\n",
      "building a node2vec model...\tnumber of walks: 83470\taverage walk length: 9.0836\ttrainig time: 17.1612\n",
      "building a DeepWalk model...\tnumber of walks: 83470\taverage walk length: 9.0894\ttrainig time: 16.5295\n",
      "building a node2vec model...\tnumber of walks: 83470\taverage walk length: 9.0909\ttrainig time: 17.3950\n",
      "building a DeepWalk model...\tnumber of walks: 83470\taverage walk length: 9.0894\ttrainig time: 17.3921\n",
      "building a node2vec model...\tnumber of walks: 83470\taverage walk length: 9.1034\ttrainig time: 16.6275\n",
      "building a DeepWalk model...\tnumber of walks: 83470\taverage walk length: 9.0894\ttrainig time: 17.2761\n",
      "building a node2vec model...\tnumber of walks: 83470\taverage walk length: 9.1033\ttrainig time: 16.4886\n",
      "building a DeepWalk model...\tnumber of walks: 83470\taverage walk length: 9.0894\ttrainig time: 16.9242\n",
      "building a node2vec model...\tnumber of walks: 83470\taverage walk length: 9.1053\ttrainig time: 17.8533\n",
      "building a DeepWalk model...\tnumber of walks: 83470\taverage walk length: 9.0894\ttrainig time: 17.3868\n",
      "building a node2vec model...\tnumber of walks: 83470\taverage walk length: 9.1110\ttrainig time: 25.4878\n",
      "building a DeepWalk model...\tnumber of walks: 83470\taverage walk length: 9.0894\ttrainig time: 16.7918\n",
      "building a node2vec model...\tnumber of walks: 83470\taverage walk length: 9.1107\ttrainig time: 18.1213\n",
      "building a DeepWalk model...\tnumber of walks: 83470\taverage walk length: 9.0894\ttrainig time: 17.1008\n",
      "building a node2vec model...\tnumber of walks: 83470\taverage walk length: 9.1178\ttrainig time: 16.9435\n",
      "building a DeepWalk model...\tnumber of walks: 83470\taverage walk length: 9.0894\ttrainig time: 17.3361\n",
      "building a node2vec model...\tnumber of walks: 83470\taverage walk length: 9.0609\ttrainig time: 17.8802\n",
      "building a DeepWalk model...\tnumber of walks: 83470\taverage walk length: 9.0894\ttrainig time: 22.9905\n",
      "building a node2vec model...\tnumber of walks: 83470\taverage walk length: 9.0747\ttrainig time: 18.7726\n",
      "building a DeepWalk model...\tnumber of walks: 83470\taverage walk length: 9.0894\ttrainig time: 17.1639\n",
      "building a node2vec model...\tnumber of walks: 83470\taverage walk length: 9.0765\ttrainig time: 19.0201\n",
      "building a DeepWalk model...\tnumber of walks: 83470\taverage walk length: 9.0894\ttrainig time: 21.8636\n",
      "building a node2vec model...\tnumber of walks: 83470\taverage walk length: 9.0816\ttrainig time: 19.3562\n",
      "building a DeepWalk model...\tnumber of walks: 83470\taverage walk length: 9.0894\ttrainig time: 15.9894\n",
      "building a node2vec model...\tnumber of walks: 83470\taverage walk length: 9.0905\ttrainig time: 16.9545\n",
      "building a DeepWalk model...\tnumber of walks: 83470\taverage walk length: 9.0894\ttrainig time: 18.0637\n",
      "building a node2vec model...\tnumber of walks: 83470\taverage walk length: 9.1016\ttrainig time: 18.2272\n",
      "building a DeepWalk model...\tnumber of walks: 83470\taverage walk length: 9.0894\ttrainig time: 15.2606\n",
      "building a node2vec model...\tnumber of walks: 83470\taverage walk length: 9.0983\ttrainig time: 15.7585\n",
      "building a DeepWalk model...\tnumber of walks: 83470\taverage walk length: 9.0894\ttrainig time: 15.6557\n",
      "building a node2vec model...\tnumber of walks: 83470\taverage walk length: 9.0992\ttrainig time: 15.8341\n",
      "building a DeepWalk model...\tnumber of walks: 83470\taverage walk length: 9.0894\ttrainig time: 17.5787\n",
      "building a node2vec model...\tnumber of walks: 83470\taverage walk length: 9.1022\ttrainig time: 15.7738\n",
      "building a DeepWalk model...\tnumber of walks: 83470\taverage walk length: 9.0894\ttrainig time: 15.3669\n",
      "building a node2vec model...\tnumber of walks: 83470\taverage walk length: 9.1058\ttrainig time: 15.7060\n",
      "building a DeepWalk model...\tnumber of walks: 83470\taverage walk length: 9.0894\ttrainig time: 15.4850\n",
      "building a node2vec model...\tnumber of walks: 83470\taverage walk length: 9.0600\ttrainig time: 15.7453\n",
      "building a DeepWalk model...\tnumber of walks: 83470\taverage walk length: 9.0894\ttrainig time: 15.7906\n",
      "building a node2vec model...\tnumber of walks: 83470\taverage walk length: 9.0667\ttrainig time: 17.3833\n",
      "building a DeepWalk model...\tnumber of walks: 83470\taverage walk length: 9.0894\ttrainig time: 15.3093\n",
      "building a node2vec model...\tnumber of walks: 83470\taverage walk length: 9.0716\ttrainig time: 15.6525\n",
      "building a DeepWalk model...\tnumber of walks: 83470\taverage walk length: 9.0894\ttrainig time: 15.8312\n",
      "building a node2vec model...\tnumber of walks: 83470\taverage walk length: 9.0825\ttrainig time: 15.7660\n",
      "building a DeepWalk model...\tnumber of walks: 83470\taverage walk length: 9.0894\ttrainig time: 15.4851\n",
      "building a node2vec model...\tnumber of walks: 83470\taverage walk length: 9.0783\ttrainig time: 15.7369\n",
      "building a DeepWalk model...\tnumber of walks: 83470\taverage walk length: 9.0894\ttrainig time: 15.2938\n",
      "building a node2vec model...\tnumber of walks: 83470\taverage walk length: 9.0911\ttrainig time: 15.5286\n",
      "building a DeepWalk model...\tnumber of walks: 83470\taverage walk length: 9.0894\ttrainig time: 15.1888\n",
      "building a node2vec model...\tnumber of walks: 83470\taverage walk length: 9.0893\ttrainig time: 16.0012\n",
      "building a DeepWalk model...\tnumber of walks: 83470\taverage walk length: 9.0894\ttrainig time: 15.3156\n",
      "building a node2vec model...\tnumber of walks: 83470\taverage walk length: 9.0959\ttrainig time: 15.9743\n",
      "building a DeepWalk model...\tnumber of walks: 83470\taverage walk length: 9.0894\ttrainig time: 15.4037\n",
      "building a node2vec model...\tnumber of walks: 83470\taverage walk length: 9.0962\ttrainig time: 15.4461\n",
      "building a DeepWalk model...\tnumber of walks: 83470\taverage walk length: 9.0894\ttrainig time: 15.3690\n",
      "building a node2vec model...\tnumber of walks: 83470\taverage walk length: 9.1031\ttrainig time: 15.8868\n",
      "building a DeepWalk model...\tnumber of walks: 83470\taverage walk length: 9.0894\ttrainig time: 15.3331\n",
      "building a node2vec model...\tnumber of walks: 83470\taverage walk length: 9.0576\ttrainig time: 15.7436\n",
      "building a DeepWalk model...\tnumber of walks: 83470\taverage walk length: 9.0894\ttrainig time: 16.4367\n",
      "building a node2vec model...\tnumber of walks: 83470\taverage walk length: 9.0674\ttrainig time: 15.6983\n",
      "building a DeepWalk model...\tnumber of walks: 83470\taverage walk length: 9.0894\ttrainig time: 15.2065\n",
      "building a node2vec model...\tnumber of walks: 83470\taverage walk length: 9.0762\ttrainig time: 15.6711\n",
      "building a DeepWalk model...\tnumber of walks: 83470\taverage walk length: 9.0894\ttrainig time: 15.1722\n",
      "building a node2vec model...\tnumber of walks: 83470\taverage walk length: 9.0764\ttrainig time: 15.6990\n",
      "building a DeepWalk model...\tnumber of walks: 83470\taverage walk length: 9.0894\ttrainig time: 14.9282\n",
      "building a node2vec model...\tnumber of walks: 83470\taverage walk length: 9.0835\ttrainig time: 15.3924\n",
      "building a DeepWalk model...\tnumber of walks: 83470\taverage walk length: 9.0894\ttrainig time: 23.8631\n",
      "building a node2vec model...\tnumber of walks: 83470\taverage walk length: 9.0836\ttrainig time: 17.6157\n",
      "building a DeepWalk model...\tnumber of walks: 83470\taverage walk length: 9.0894\ttrainig time: 15.2143\n",
      "building a node2vec model...\tnumber of walks: 83470\taverage walk length: 9.0877\ttrainig time: 15.7747\n",
      "building a DeepWalk model...\tnumber of walks: 83470\taverage walk length: 9.0894\ttrainig time: 15.4232\n",
      "building a node2vec model...\tnumber of walks: 83470\taverage walk length: 9.0900\ttrainig time: 16.8709\n",
      "building a DeepWalk model...\tnumber of walks: 83470\taverage walk length: 9.0894\ttrainig time: 15.6183\n",
      "building a node2vec model...\tnumber of walks: 83470\taverage walk length: 9.0965\ttrainig time: 15.7895\n",
      "building a DeepWalk model...\tnumber of walks: 83470\taverage walk length: 9.0894\ttrainig time: 17.7246\n",
      "building a node2vec model...\tnumber of walks: 83470\taverage walk length: 9.1014\ttrainig time: 19.0929\n",
      "building a DeepWalk model...\tnumber of walks: 83470\taverage walk length: 9.0894\ttrainig time: 15.7947\n",
      "building a node2vec model...\tnumber of walks: 83470\taverage walk length: 9.0588\ttrainig time: 15.8116\n",
      "building a DeepWalk model...\tnumber of walks: 83470\taverage walk length: 9.0894\ttrainig time: 15.3211\n",
      "building a node2vec model...\tnumber of walks: 83470\taverage walk length: 9.0666\ttrainig time: 15.8418\n",
      "building a DeepWalk model...\tnumber of walks: 83470\taverage walk length: 9.0894\ttrainig time: 15.3575\n",
      "building a node2vec model...\tnumber of walks: 83470\taverage walk length: 9.0661\ttrainig time: 16.1006\n",
      "building a DeepWalk model...\tnumber of walks: 83470\taverage walk length: 9.0894\ttrainig time: 15.3771\n",
      "building a node2vec model...\tnumber of walks: 83470\taverage walk length: 9.0766\ttrainig time: 20.3687\n",
      "building a DeepWalk model...\tnumber of walks: 83470\taverage walk length: 9.0894\ttrainig time: 15.3826\n",
      "building a node2vec model...\tnumber of walks: 83470\taverage walk length: 9.0757\ttrainig time: 15.7838\n",
      "building a DeepWalk model...\tnumber of walks: 83470\taverage walk length: 9.0894\ttrainig time: 15.3883\n",
      "building a node2vec model...\tnumber of walks: 83470\taverage walk length: 9.0853\ttrainig time: 15.6551\n",
      "building a DeepWalk model...\tnumber of walks: 83470\taverage walk length: 9.0894\ttrainig time: 15.4999\n",
      "building a node2vec model...\tnumber of walks: 83470\taverage walk length: 9.0851\ttrainig time: 15.9184\n",
      "building a DeepWalk model...\tnumber of walks: 83470\taverage walk length: 9.0894\ttrainig time: 15.2891\n",
      "building a node2vec model...\tnumber of walks: 83470\taverage walk length: 9.0893\ttrainig time: 16.8556\n",
      "building a DeepWalk model...\tnumber of walks: 83470\taverage walk length: 9.0894\ttrainig time: 15.5712\n",
      "building a node2vec model...\tnumber of walks: 83470\taverage walk length: 9.0934\ttrainig time: 15.6376\n",
      "building a DeepWalk model...\tnumber of walks: 83470\taverage walk length: 9.0894\ttrainig time: 15.4711\n",
      "building a node2vec model...\tnumber of walks: 83470\taverage walk length: 9.0957\ttrainig time: 15.7787\n",
      "building a DeepWalk model...\tnumber of walks: 83470\taverage walk length: 9.0894\ttrainig time: 15.6465\n",
      "building a node2vec model...\tnumber of walks: 83470\taverage walk length: 9.0512\ttrainig time: 15.7581\n",
      "building a DeepWalk model...\tnumber of walks: 83470\taverage walk length: 9.0894\ttrainig time: 15.2535\n",
      "building a node2vec model...\tnumber of walks: 83470\taverage walk length: 9.0587\ttrainig time: 15.8959\n",
      "building a DeepWalk model...\tnumber of walks: 83470\taverage walk length: 9.0894\ttrainig time: 16.1240\n",
      "building a node2vec model...\tnumber of walks: 83470\taverage walk length: 9.0697\ttrainig time: 15.7396\n",
      "building a DeepWalk model...\tnumber of walks: 83470\taverage walk length: 9.0894\ttrainig time: 15.3018\n",
      "building a node2vec model...\tnumber of walks: 83470\taverage walk length: 9.0733\ttrainig time: 15.8418\n",
      "building a DeepWalk model...\tnumber of walks: 83470\taverage walk length: 9.0894\ttrainig time: 15.1997\n",
      "building a node2vec model...\tnumber of walks: 83470\taverage walk length: 9.0810\ttrainig time: 15.8271\n",
      "building a DeepWalk model...\tnumber of walks: 83470\taverage walk length: 9.0894\ttrainig time: 15.3104\n",
      "building a node2vec model...\tnumber of walks: 83470\taverage walk length: 9.0823\ttrainig time: 15.7690\n",
      "building a DeepWalk model...\tnumber of walks: 83470\taverage walk length: 9.0894\ttrainig time: 15.1932\n",
      "building a node2vec model...\tnumber of walks: 83470\taverage walk length: 9.0775\ttrainig time: 15.5865\n",
      "building a DeepWalk model...\tnumber of walks: 83470\taverage walk length: 9.0894\ttrainig time: 15.2927\n",
      "building a node2vec model...\tnumber of walks: 83470\taverage walk length: 9.0800\ttrainig time: 15.7013\n",
      "building a DeepWalk model...\tnumber of walks: 83470\taverage walk length: 9.0894\ttrainig time: 15.2954\n",
      "building a node2vec model...\tnumber of walks: 83470\taverage walk length: 9.0864\ttrainig time: 15.7260\n",
      "building a DeepWalk model...\tnumber of walks: 83470\taverage walk length: 9.0894\ttrainig time: 15.3887\n",
      "building a node2vec model...\tnumber of walks: 83470\taverage walk length: 9.0865\ttrainig time: 16.1377\n",
      "building a DeepWalk model...\tnumber of walks: 83470\taverage walk length: 9.0894\ttrainig time: 15.3548\n",
      "building a node2vec model...\tnumber of walks: 83470\taverage walk length: 9.0597\ttrainig time: 15.7353\n",
      "building a DeepWalk model...\tnumber of walks: 83470\taverage walk length: 9.0894\ttrainig time: 15.4218\n",
      "building a node2vec model...\tnumber of walks: 83470\taverage walk length: 9.0611\ttrainig time: 15.9285\n",
      "building a DeepWalk model...\tnumber of walks: 83470\taverage walk length: 9.0894\ttrainig time: 15.5555\n",
      "building a node2vec model...\tnumber of walks: 83470\taverage walk length: 9.0658\ttrainig time: 15.8379\n",
      "building a DeepWalk model...\tnumber of walks: 83470\taverage walk length: 9.0894\ttrainig time: 15.1625\n",
      "building a node2vec model...\tnumber of walks: 83470\taverage walk length: 9.0737\ttrainig time: 16.0081\n",
      "building a DeepWalk model...\tnumber of walks: 83470\taverage walk length: 9.0894\ttrainig time: 17.1561\n",
      "building a node2vec model...\tnumber of walks: 83470\taverage walk length: 9.0791\ttrainig time: 15.8148\n",
      "building a DeepWalk model...\tnumber of walks: 83470\taverage walk length: 9.0894\ttrainig time: 15.2162\n",
      "building a node2vec model...\tnumber of walks: 83470\taverage walk length: 9.0854\ttrainig time: 15.7869\n",
      "building a DeepWalk model...\tnumber of walks: 83470\taverage walk length: 9.0894\ttrainig time: 15.2378\n",
      "building a node2vec model...\tnumber of walks: 83470\taverage walk length: 9.0812\ttrainig time: 15.6038\n",
      "building a DeepWalk model...\tnumber of walks: 83470\taverage walk length: 9.0894\ttrainig time: 15.2882\n",
      "building a node2vec model...\tnumber of walks: 83470\taverage walk length: 9.0813\ttrainig time: 15.6378\n",
      "building a DeepWalk model...\tnumber of walks: 83470\taverage walk length: 9.0894\ttrainig time: 20.5440\n",
      "building a node2vec model...\tnumber of walks: 83470\taverage walk length: 9.0866\ttrainig time: 16.3792\n",
      "building a DeepWalk model...\tnumber of walks: 83470\taverage walk length: 9.0894\ttrainig time: 15.4200\n",
      "building a node2vec model...\tnumber of walks: 83470\taverage walk length: 9.0907\ttrainig time: 15.7343\n"
     ]
    },
    {
     "name": "stdout",
     "output_type": "stream",
     "text": [
      "building a DeepWalk model...\tnumber of walks: 83470\taverage walk length: 9.0894\ttrainig time: 15.3579\n",
      "building a node2vec model...\tnumber of walks: 83470\taverage walk length: 9.0557\ttrainig time: 15.7641\n",
      "building a DeepWalk model...\tnumber of walks: 83470\taverage walk length: 9.0894\ttrainig time: 15.7824\n",
      "building a node2vec model...\tnumber of walks: 83470\taverage walk length: 9.0605\ttrainig time: 16.0704\n",
      "building a DeepWalk model...\tnumber of walks: 83470\taverage walk length: 9.0894\ttrainig time: 15.2602\n",
      "building a node2vec model...\tnumber of walks: 83470\taverage walk length: 9.0631\ttrainig time: 20.5371\n",
      "building a DeepWalk model...\tnumber of walks: 83470\taverage walk length: 9.0894\ttrainig time: 15.5030\n",
      "building a node2vec model...\tnumber of walks: 83470\taverage walk length: 9.0768\ttrainig time: 16.1922\n",
      "building a DeepWalk model...\tnumber of walks: 83470\taverage walk length: 9.0894\ttrainig time: 15.2775\n",
      "building a node2vec model...\tnumber of walks: 83470\taverage walk length: 9.0744\ttrainig time: 15.7548\n",
      "building a DeepWalk model...\tnumber of walks: 83470\taverage walk length: 9.0894\ttrainig time: 15.5976\n",
      "building a node2vec model...\tnumber of walks: 83470\taverage walk length: 9.0798\ttrainig time: 16.0209\n",
      "building a DeepWalk model...\tnumber of walks: 83470\taverage walk length: 9.0894\ttrainig time: 15.4526\n",
      "building a node2vec model...\tnumber of walks: 83470\taverage walk length: 9.0770\ttrainig time: 15.7706\n",
      "building a DeepWalk model...\tnumber of walks: 83470\taverage walk length: 9.0894\ttrainig time: 15.2874\n",
      "building a node2vec model...\tnumber of walks: 83470\taverage walk length: 9.0854\ttrainig time: 18.7823\n",
      "building a DeepWalk model...\tnumber of walks: 83470\taverage walk length: 9.0894\ttrainig time: 15.4914\n",
      "building a node2vec model...\tnumber of walks: 83470\taverage walk length: 9.0830\ttrainig time: 15.7770\n",
      "building a DeepWalk model...\tnumber of walks: 83470\taverage walk length: 9.0894\ttrainig time: 27.1446\n",
      "building a node2vec model...\tnumber of walks: 83470\taverage walk length: 9.0881\ttrainig time: 26.3232\n",
      "building a DeepWalk model...\tnumber of walks: 83470\taverage walk length: 9.0894\ttrainig time: 22.6923\n",
      "building a node2vec model...\tnumber of walks: 83470\taverage walk length: 9.0604\ttrainig time: 16.8001\n",
      "building a DeepWalk model...\tnumber of walks: 83470\taverage walk length: 9.0894\ttrainig time: 19.8644\n",
      "building a node2vec model...\tnumber of walks: 83470\taverage walk length: 9.0652\ttrainig time: 19.1368\n",
      "building a DeepWalk model...\tnumber of walks: 83470\taverage walk length: 9.0894\ttrainig time: 17.7291\n",
      "building a node2vec model...\tnumber of walks: 83470\taverage walk length: 9.0633\ttrainig time: 15.9917\n",
      "building a DeepWalk model...\tnumber of walks: 83470\taverage walk length: 9.0894\ttrainig time: 16.0205\n",
      "building a node2vec model...\tnumber of walks: 83470\taverage walk length: 9.0669\ttrainig time: 15.7344\n",
      "building a DeepWalk model...\tnumber of walks: 83470\taverage walk length: 9.0894\ttrainig time: 19.4171\n",
      "building a node2vec model...\tnumber of walks: 83470\taverage walk length: 9.0719\ttrainig time: 15.9868\n",
      "building a DeepWalk model...\tnumber of walks: 83470\taverage walk length: 9.0894\ttrainig time: 15.7113\n",
      "building a node2vec model...\tnumber of walks: 83470\taverage walk length: 9.0733\ttrainig time: 15.9029\n",
      "building a DeepWalk model...\tnumber of walks: 83470\taverage walk length: 9.0894\ttrainig time: 15.5147\n",
      "building a node2vec model...\tnumber of walks: 83470\taverage walk length: 9.0772\ttrainig time: 15.8303\n",
      "building a DeepWalk model...\tnumber of walks: 83470\taverage walk length: 9.0894\ttrainig time: 17.0035\n",
      "building a node2vec model...\tnumber of walks: 83470\taverage walk length: 9.0790\ttrainig time: 15.9725\n",
      "building a DeepWalk model...\tnumber of walks: 83470\taverage walk length: 9.0894\ttrainig time: 20.1601\n",
      "building a node2vec model...\tnumber of walks: 83470\taverage walk length: 9.0835\ttrainig time: 15.9470\n",
      "building a DeepWalk model...\tnumber of walks: 83470\taverage walk length: 9.0894\ttrainig time: 15.3361\n",
      "building a node2vec model...\tnumber of walks: 83470\taverage walk length: 9.0894\ttrainig time: 16.4275\n"
     ]
    }
   ],
   "source": [
    "np.random.seed(0)\n",
    "\n",
    "node_dim = 10\n",
    "num_walks = 10  \n",
    "walk_length = 10 \n",
    "p_list = [0.1,0.2,0.3,0.4,0.5,0.6,0.7,0.8,0.9,1.0]\n",
    "q_list = [0.1,0.2,0.3,0.4,0.5,0.6,0.7,0.8,0.9,1.0]\n",
    "\n",
    "deepwalk_auc_scores = list()\n",
    "node2vec_auc_scores = list()\n",
    "\n",
    "for p in p_list:\n",
    "    \n",
    "    deepwalk_scores = list()\n",
    "    node2vec_scores = list()\n",
    "    \n",
    "    for q in q_list:\n",
    "        alias_nodes, alias_edges = preprocess_transition_probs(graph, p=p, q=q)\n",
    "\n",
    "        # build models and get auc scores\n",
    "        model_deepwalk = build_deepwalk(graph, alias_nodes,\n",
    "                            node_dim=node_dim, num_walks=num_walks, walk_length=walk_length)\n",
    "        deepwalk_scores.append(get_auc_score(model_deepwalk, valid_edges, false_edges))\n",
    "    \n",
    "        model_node2vec = build_node2vec(graph, alias_nodes, alias_edges,\n",
    "                            node_dim=node_dim, num_walks=num_walks, walk_length=walk_length)\n",
    "        node2vec_scores.append(get_auc_score(model_node2vec, valid_edges, false_edges))\n",
    "    \n",
    "    deepwalk_auc_scores.append(deepwalk_scores)\n",
    "    node2vec_auc_scores.append(node2vec_scores)\n",
    "    \n",
    "deepwalk_auc_scores = np.array(deepwalk_auc_scores)\n",
    "node2vec_auc_scores = np.array(node2vec_auc_scores)"
   ]
  },
  {
   "cell_type": "code",
   "execution_count": 22,
   "metadata": {},
   "outputs": [],
   "source": [
    "# save auc_scores to local disk\n",
    "np.savetxt(\"data/deepwalk_pq_tune.csv\", deepwalk_auc_scores, delimiter=\",\")\n",
    "np.savetxt(\"data/node2vec_pq_tune.csv\", node2vec_auc_scores, delimiter=\",\")"
   ]
  },
  {
   "cell_type": "code",
   "execution_count": 16,
   "metadata": {},
   "outputs": [],
   "source": [
    "import matplotlib.pyplot as plt\n",
    "import seaborn as sns"
   ]
  },
  {
   "cell_type": "code",
   "execution_count": 19,
   "metadata": {},
   "outputs": [
    {
     "data": {
      "image/png": "[encoded data removed]",
      "text/plain": [
       "<Figure size 432x288 with 2 Axes>"
      ]
     },
     "metadata": {
      "needs_background": "light"
     },
     "output_type": "display_data"
    }
   ],
   "source": [
    "ax_deepwalk = sns.heatmap(deepwalk_auc_scores, linewidth=0.5, xticklabels=q_list, yticklabels=p_list)\n",
    "ax_deepwalk.set_title(\"Tune p,q Deepwalk\")\n",
    "plt.show()"
   ]
  },
  {
   "cell_type": "code",
   "execution_count": 20,
   "metadata": {},
   "outputs": [
    {
     "data": {
      "image/png": "[encoded data removed]",
      "text/plain": [
       "<Figure size 432x288 with 2 Axes>"
      ]
     },
     "metadata": {
      "needs_background": "light"
     },
     "output_type": "display_data"
    }
   ],
   "source": [
    "ax_node2vec = sns.heatmap(node2vec_auc_scores, linewidth=0.5, xticklabels=q_list, yticklabels=p_list)\n",
    "ax_node2vec.set_title(\"Tune p,q node2vec\")\n",
    "plt.show()"
   ]
  },
  {
   "cell_type": "markdown",
   "metadata": {},
   "source": [
    "- num_walks / walk_length"
   ]
  },
  {
   "cell_type": "code",
   "execution_count": 14,
   "metadata": {
    "scrolled": true
   },
   "outputs": [
    {
     "name": "stdout",
     "output_type": "stream",
     "text": [
      "building a DeepWalk model...\tnumber of walks: 83470\taverage walk length: 9.0894\ttrainig time: 15.5215\n",
      "building a DeepWalk model...\tnumber of walks: 83470\taverage walk length: 13.4127\ttrainig time: 23.6587\n",
      "building a DeepWalk model...\tnumber of walks: 83470\taverage walk length: 17.6472\ttrainig time: 35.8753\n",
      "building a DeepWalk model...\tnumber of walks: 83470\taverage walk length: 21.7593\ttrainig time: 40.0662\n",
      "building a DeepWalk model...\tnumber of walks: 83470\taverage walk length: 25.7928\ttrainig time: 45.6101\n",
      "building a DeepWalk model...\tnumber of walks: 125205\taverage walk length: 9.0864\ttrainig time: 22.8459\n",
      "building a DeepWalk model...\tnumber of walks: 125205\taverage walk length: 13.4104\ttrainig time: 35.1986\n",
      "building a DeepWalk model...\tnumber of walks: 125205\taverage walk length: 17.6439\ttrainig time: 49.6028\n",
      "building a DeepWalk model...\tnumber of walks: 125205\taverage walk length: 21.7568\ttrainig time: 74.9833\n",
      "building a DeepWalk model...\tnumber of walks: 125205\taverage walk length: 25.8040\ttrainig time: 143.2986\n",
      "building a DeepWalk model...\tnumber of walks: 166940\taverage walk length: 9.0859\ttrainig time: 57.7028\n",
      "building a DeepWalk model...\tnumber of walks: 166940\taverage walk length: 13.4092\ttrainig time: 89.4794\n",
      "building a DeepWalk model...\tnumber of walks: 166940\taverage walk length: 17.6393\ttrainig time: 129.5463\n",
      "building a DeepWalk model...\tnumber of walks: 166940\taverage walk length: 21.7531\ttrainig time: 134.6587\n",
      "building a DeepWalk model...\tnumber of walks: 166940\taverage walk length: 25.8061\ttrainig time: 157.9100\n",
      "building a DeepWalk model...\tnumber of walks: 208675\taverage walk length: 9.0855\ttrainig time: 77.1333\n",
      "building a DeepWalk model...\tnumber of walks: 208675\taverage walk length: 13.4092\ttrainig time: 101.1945\n",
      "building a DeepWalk model...\tnumber of walks: 208675\taverage walk length: 17.6386\ttrainig time: 134.1708\n",
      "building a DeepWalk model...\tnumber of walks: 208675\taverage walk length: 21.7598\ttrainig time: 176.8938\n",
      "building a DeepWalk model...\tnumber of walks: 208675\taverage walk length: 25.8089\ttrainig time: 207.6143\n",
      "building a DeepWalk model...\tnumber of walks: 250410\taverage walk length: 9.0854\ttrainig time: 86.4854\n",
      "building a DeepWalk model...\tnumber of walks: 250410\taverage walk length: 13.4093\ttrainig time: 123.9312\n",
      "building a DeepWalk model...\tnumber of walks: 250410\taverage walk length: 17.6372\ttrainig time: 176.0440\n",
      "building a DeepWalk model...\tnumber of walks: 250410\taverage walk length: 21.7623\ttrainig time: 201.6260\n",
      "building a DeepWalk model...\tnumber of walks: 250410\taverage walk length: 25.8127\ttrainig time: 244.8652\n"
     ]
    }
   ],
   "source": [
    "## For Deepwalk model\n",
    "np.random.seed(0)\n",
    "\n",
    "node_dim = 10\n",
    "num_walks_list = [10,15,20,25,30]  # 10-30\n",
    "walk_length_list =[10,15,20,25,30]  # 10-30\n",
    "p = 0.2\n",
    "q = 0.8\n",
    "\n",
    "deepwalk_auc_scores = list()\n",
    "\n",
    "alias_nodes, alias_edges = preprocess_transition_probs(graph, p=p, q=q)\n",
    "\n",
    "for num_walks in num_walks_list:\n",
    "    \n",
    "    deepwalk_scores = list()\n",
    "    \n",
    "    for walk_length in walk_length_list:\n",
    "        \n",
    "        # build models and get auc scores\n",
    "        model_deepwalk = build_deepwalk(graph, alias_nodes,\n",
    "                            node_dim=node_dim, num_walks=num_walks, walk_length=walk_length)\n",
    "        deepwalk_scores.append(get_auc_score(model_deepwalk, valid_edges, false_edges))\n",
    "    \n",
    "    \n",
    "    deepwalk_auc_scores.append(deepwalk_scores)\n",
    "    \n",
    "deepwalk_auc_scores = np.array(deepwalk_auc_scores)"
   ]
  },
  {
   "cell_type": "code",
   "execution_count": 17,
   "metadata": {},
   "outputs": [
    {
     "data": {
      "image/png": "[encoded data removed]",
      "text/plain": [
       "<Figure size 432x288 with 2 Axes>"
      ]
     },
     "metadata": {
      "needs_background": "light"
     },
     "output_type": "display_data"
    }
   ],
   "source": [
    "ax_deepwalk_2 = sns.heatmap(deepwalk_auc_scores,annot=True,fmt='.4g', linewidth=0.5, xticklabels=walk_length_list, yticklabels=num_walks_list)\n",
    "ax_deepwalk_2.set_title(\"Tune num_walks/walk_length Deepwalk\")\n",
    "plt.show()"
   ]
  },
  {
   "cell_type": "code",
   "execution_count": 18,
   "metadata": {
    "scrolled": true
   },
   "outputs": [
    {
     "name": "stdout",
     "output_type": "stream",
     "text": [
      "building a node2vec model...\tnumber of walks: 83470\taverage walk length: 9.1033\ttrainig time: 28.7198\n",
      "building a node2vec model...\tnumber of walks: 83470\taverage walk length: 13.4489\ttrainig time: 42.4881\n",
      "building a node2vec model...\tnumber of walks: 83470\taverage walk length: 17.6690\ttrainig time: 61.4208\n",
      "building a node2vec model...\tnumber of walks: 83470\taverage walk length: 21.8670\ttrainig time: 69.9386\n",
      "building a node2vec model...\tnumber of walks: 83470\taverage walk length: 25.9008\ttrainig time: 90.6883\n",
      "building a node2vec model...\tnumber of walks: 125205\taverage walk length: 9.1053\ttrainig time: 41.2024\n",
      "building a node2vec model...\tnumber of walks: 125205\taverage walk length: 13.4425\ttrainig time: 62.2128\n",
      "building a node2vec model...\tnumber of walks: 125205\taverage walk length: 17.6738\ttrainig time: 83.7917\n",
      "building a node2vec model...\tnumber of walks: 125205\taverage walk length: 21.8550\ttrainig time: 115.7572\n",
      "building a node2vec model...\tnumber of walks: 125205\taverage walk length: 25.9032\ttrainig time: 123.6325\n",
      "building a node2vec model...\tnumber of walks: 166940\taverage walk length: 9.1051\ttrainig time: 55.1391\n",
      "building a node2vec model...\tnumber of walks: 166940\taverage walk length: 13.4373\ttrainig time: 82.9111\n",
      "building a node2vec model...\tnumber of walks: 166940\taverage walk length: 17.6755\ttrainig time: 118.8435\n",
      "building a node2vec model...\tnumber of walks: 166940\taverage walk length: 21.8530\ttrainig time: 135.4944\n",
      "building a node2vec model...\tnumber of walks: 166940\taverage walk length: 25.9135\ttrainig time: 176.7653\n",
      "building a node2vec model...\tnumber of walks: 208675\taverage walk length: 9.1048\ttrainig time: 68.7625\n",
      "building a node2vec model...\tnumber of walks: 208675\taverage walk length: 13.4359\ttrainig time: 103.0930\n",
      "building a node2vec model...\tnumber of walks: 208675\taverage walk length: 17.6771\ttrainig time: 147.9066\n",
      "building a node2vec model...\tnumber of walks: 208675\taverage walk length: 21.8448\ttrainig time: 174.3665\n",
      "building a node2vec model...\tnumber of walks: 208675\taverage walk length: 25.9032\ttrainig time: 214.4307\n",
      "building a node2vec model...\tnumber of walks: 250410\taverage walk length: 9.1049\ttrainig time: 79.5738\n",
      "building a node2vec model...\tnumber of walks: 250410\taverage walk length: 13.4370\ttrainig time: 124.0822\n",
      "building a node2vec model...\tnumber of walks: 250410\taverage walk length: 17.6752\ttrainig time: 170.7454\n",
      "building a node2vec model...\tnumber of walks: 250410\taverage walk length: 21.8431\ttrainig time: 201.5960\n",
      "building a node2vec model...\tnumber of walks: 250410\taverage walk length: 25.8964\ttrainig time: 248.3161\n"
     ]
    }
   ],
   "source": [
    "## For node2vec model\n",
    "np.random.seed(0)\n",
    "\n",
    "node_dim = 10\n",
    "num_walks_list = [10,15,20,25,30]  # 10-30\n",
    "walk_length_list =[10,15,20,25,30]  # 10-30\n",
    "p = 0.2\n",
    "q = 0.6\n",
    "\n",
    "node2vec_auc_scores = list()\n",
    "\n",
    "alias_nodes, alias_edges = preprocess_transition_probs(graph, p=p, q=q)\n",
    "\n",
    "for num_walks in num_walks_list:\n",
    "    \n",
    "    node2vec_scores = list()\n",
    "    \n",
    "    for walk_length in walk_length_list:\n",
    "        \n",
    "        # build models and get auc scores\n",
    "        model_node2vec = build_node2vec(graph, alias_nodes, alias_edges,\n",
    "                            node_dim=node_dim, num_walks=num_walks, walk_length=walk_length)\n",
    "        node2vec_scores.append(get_auc_score(model_node2vec, valid_edges, false_edges))\n",
    "    \n",
    "    \n",
    "    node2vec_auc_scores.append(node2vec_scores)\n",
    "    \n",
    "node2vec_auc_scores = np.array(node2vec_auc_scores)"
   ]
  },
  {
   "cell_type": "code",
   "execution_count": 19,
   "metadata": {},
   "outputs": [
    {
     "data": {
      "image/png": "[encoded data removed]",
      "text/plain": [
       "<Figure size 432x288 with 2 Axes>"
      ]
     },
     "metadata": {
      "needs_background": "light"
     },
     "output_type": "display_data"
    }
   ],
   "source": [
    "ax_node2vec_2 = sns.heatmap(node2vec_auc_scores, annot=True, fmt='.4g', linewidth=0.5, xticklabels=walk_length_list, yticklabels=num_walks_list)\n",
    "ax_node2vec_2.set_title(\"Tune num_walks/walk_length node2vec\")\n",
    "plt.show()"
   ]
  },
  {
   "cell_type": "markdown",
   "metadata": {},
   "source": [
    "- Final adjustment: DeepWalk"
   ]
  },
  {
   "cell_type": "code",
   "execution_count": 20,
   "metadata": {
    "scrolled": true
   },
   "outputs": [
    {
     "name": "stdout",
     "output_type": "stream",
     "text": [
      "building a DeepWalk model...\tnumber of walks: 166940\taverage walk length: 13.4092\ttrainig time: 80.5694\n",
      "building a DeepWalk model...\tnumber of walks: 166940\taverage walk length: 13.4092\ttrainig time: 94.2160\n",
      "building a DeepWalk model...\tnumber of walks: 166940\taverage walk length: 13.4092\ttrainig time: 88.9643\n",
      "building a DeepWalk model...\tnumber of walks: 166940\taverage walk length: 13.4092\ttrainig time: 80.4461\n",
      "building a DeepWalk model...\tnumber of walks: 166940\taverage walk length: 13.4092\ttrainig time: 81.2493\n",
      "building a DeepWalk model...\tnumber of walks: 166940\taverage walk length: 13.4092\ttrainig time: 83.0173\n",
      "building a DeepWalk model...\tnumber of walks: 166940\taverage walk length: 13.4092\ttrainig time: 81.7398\n",
      "building a DeepWalk model...\tnumber of walks: 166940\taverage walk length: 13.4092\ttrainig time: 78.7661\n",
      "building a DeepWalk model...\tnumber of walks: 166940\taverage walk length: 13.4092\ttrainig time: 84.0044\n",
      "building a DeepWalk model...\tnumber of walks: 166940\taverage walk length: 13.4092\ttrainig time: 82.0347\n",
      "building a DeepWalk model...\tnumber of walks: 166940\taverage walk length: 13.4092\ttrainig time: 81.5942\n",
      "building a DeepWalk model...\tnumber of walks: 166940\taverage walk length: 13.4092\ttrainig time: 80.5514\n",
      "building a DeepWalk model...\tnumber of walks: 166940\taverage walk length: 13.4092\ttrainig time: 47.4408\n",
      "building a DeepWalk model...\tnumber of walks: 166940\taverage walk length: 13.4092\ttrainig time: 54.4733\n",
      "building a DeepWalk model...\tnumber of walks: 166940\taverage walk length: 13.4092\ttrainig time: 47.6663\n",
      "building a DeepWalk model...\tnumber of walks: 166940\taverage walk length: 13.4092\ttrainig time: 48.0725\n",
      "building a DeepWalk model...\tnumber of walks: 166940\taverage walk length: 13.4092\ttrainig time: 46.9681\n",
      "building a DeepWalk model...\tnumber of walks: 166940\taverage walk length: 13.4092\ttrainig time: 46.4984\n",
      "building a DeepWalk model...\tnumber of walks: 166940\taverage walk length: 13.4092\ttrainig time: 46.5851\n",
      "building a DeepWalk model...\tnumber of walks: 166940\taverage walk length: 13.4092\ttrainig time: 47.4332\n",
      "building a DeepWalk model...\tnumber of walks: 166940\taverage walk length: 13.4092\ttrainig time: 50.4275\n",
      "building a DeepWalk model...\tnumber of walks: 166940\taverage walk length: 13.4092\ttrainig time: 47.0669\n",
      "building a DeepWalk model...\tnumber of walks: 166940\taverage walk length: 13.4092\ttrainig time: 46.2380\n",
      "building a DeepWalk model...\tnumber of walks: 166940\taverage walk length: 13.4092\ttrainig time: 51.3524\n",
      "building a DeepWalk model...\tnumber of walks: 166940\taverage walk length: 13.4092\ttrainig time: 45.5176\n",
      "building a DeepWalk model...\tnumber of walks: 166940\taverage walk length: 13.4092\ttrainig time: 45.7878\n",
      "building a DeepWalk model...\tnumber of walks: 166940\taverage walk length: 13.4092\ttrainig time: 45.6722\n",
      "building a DeepWalk model...\tnumber of walks: 166940\taverage walk length: 13.4092\ttrainig time: 48.9424\n",
      "building a DeepWalk model...\tnumber of walks: 166940\taverage walk length: 13.4092\ttrainig time: 46.4948\n",
      "building a DeepWalk model...\tnumber of walks: 166940\taverage walk length: 13.4092\ttrainig time: 46.0299\n",
      "building a DeepWalk model...\tnumber of walks: 166940\taverage walk length: 13.4092\ttrainig time: 48.9063\n",
      "building a DeepWalk model...\tnumber of walks: 166940\taverage walk length: 13.4092\ttrainig time: 47.3068\n",
      "building a DeepWalk model...\tnumber of walks: 166940\taverage walk length: 13.4092\ttrainig time: 51.9655\n",
      "building a DeepWalk model...\tnumber of walks: 166940\taverage walk length: 13.4092\ttrainig time: 46.4797\n",
      "building a DeepWalk model...\tnumber of walks: 166940\taverage walk length: 13.4092\ttrainig time: 46.7514\n",
      "building a DeepWalk model...\tnumber of walks: 166940\taverage walk length: 13.4092\ttrainig time: 46.1480\n",
      "building a DeepWalk model...\tnumber of walks: 166940\taverage walk length: 13.4092\ttrainig time: 52.2885\n",
      "building a DeepWalk model...\tnumber of walks: 166940\taverage walk length: 13.4092\ttrainig time: 54.3985\n",
      "building a DeepWalk model...\tnumber of walks: 166940\taverage walk length: 13.4092\ttrainig time: 46.7260\n",
      "building a DeepWalk model...\tnumber of walks: 166940\taverage walk length: 13.4092\ttrainig time: 46.4985\n",
      "building a DeepWalk model...\tnumber of walks: 166940\taverage walk length: 13.4092\ttrainig time: 47.5758\n",
      "building a DeepWalk model...\tnumber of walks: 166940\taverage walk length: 13.4092\ttrainig time: 46.3236\n",
      "building a DeepWalk model...\tnumber of walks: 166940\taverage walk length: 13.4092\ttrainig time: 49.9260\n",
      "building a DeepWalk model...\tnumber of walks: 166940\taverage walk length: 13.4092\ttrainig time: 46.6737\n",
      "building a DeepWalk model...\tnumber of walks: 166940\taverage walk length: 13.4092\ttrainig time: 50.2994\n",
      "building a DeepWalk model...\tnumber of walks: 166940\taverage walk length: 13.4092\ttrainig time: 53.2516\n",
      "building a DeepWalk model...\tnumber of walks: 166940\taverage walk length: 13.4092\ttrainig time: 49.0242\n",
      "building a DeepWalk model...\tnumber of walks: 166940\taverage walk length: 13.4092\ttrainig time: 55.5222\n",
      "building a DeepWalk model...\tnumber of walks: 166940\taverage walk length: 13.4092\ttrainig time: 50.7075\n",
      "building a DeepWalk model...\tnumber of walks: 166940\taverage walk length: 13.4092\ttrainig time: 57.2512\n",
      "building a DeepWalk model...\tnumber of walks: 166940\taverage walk length: 13.4092\ttrainig time: 47.0317\n",
      "building a DeepWalk model...\tnumber of walks: 166940\taverage walk length: 13.4092\ttrainig time: 46.2603\n",
      "building a DeepWalk model...\tnumber of walks: 166940\taverage walk length: 13.4092\ttrainig time: 46.4315\n",
      "building a DeepWalk model...\tnumber of walks: 166940\taverage walk length: 13.4092\ttrainig time: 55.9580\n",
      "building a DeepWalk model...\tnumber of walks: 166940\taverage walk length: 13.4092\ttrainig time: 49.9323\n",
      "building a DeepWalk model...\tnumber of walks: 166940\taverage walk length: 13.4092\ttrainig time: 46.9306\n",
      "building a DeepWalk model...\tnumber of walks: 166940\taverage walk length: 13.4092\ttrainig time: 48.2996\n",
      "building a DeepWalk model...\tnumber of walks: 166940\taverage walk length: 13.4092\ttrainig time: 56.0401\n",
      "building a DeepWalk model...\tnumber of walks: 166940\taverage walk length: 13.4092\ttrainig time: 47.1705\n",
      "building a DeepWalk model...\tnumber of walks: 166940\taverage walk length: 13.4092\ttrainig time: 47.0546\n",
      "building a DeepWalk model...\tnumber of walks: 166940\taverage walk length: 13.4092\ttrainig time: 51.0036\n",
      "building a DeepWalk model...\tnumber of walks: 166940\taverage walk length: 13.4092\ttrainig time: 50.2664\n",
      "building a DeepWalk model...\tnumber of walks: 166940\taverage walk length: 13.4092\ttrainig time: 47.4694\n",
      "building a DeepWalk model...\tnumber of walks: 166940\taverage walk length: 13.4092\ttrainig time: 46.1681\n",
      "building a DeepWalk model...\tnumber of walks: 166940\taverage walk length: 13.4092\ttrainig time: 53.0601\n",
      "building a DeepWalk model...\tnumber of walks: 166940\taverage walk length: 13.4092\ttrainig time: 46.2303\n",
      "building a DeepWalk model...\tnumber of walks: 166940\taverage walk length: 13.4092\ttrainig time: 55.7465\n",
      "building a DeepWalk model...\tnumber of walks: 166940\taverage walk length: 13.4092\ttrainig time: 50.7939\n",
      "building a DeepWalk model...\tnumber of walks: 166940\taverage walk length: 13.4092\ttrainig time: 46.9732\n",
      "building a DeepWalk model...\tnumber of walks: 166940\taverage walk length: 13.4092\ttrainig time: 46.6846\n",
      "building a DeepWalk model...\tnumber of walks: 166940\taverage walk length: 13.4092\ttrainig time: 46.5212\n",
      "building a DeepWalk model...\tnumber of walks: 166940\taverage walk length: 13.4092\ttrainig time: 53.0980\n",
      "building a DeepWalk model...\tnumber of walks: 166940\taverage walk length: 13.4092\ttrainig time: 46.4871\n",
      "building a DeepWalk model...\tnumber of walks: 166940\taverage walk length: 13.4092\ttrainig time: 48.2565\n",
      "building a DeepWalk model...\tnumber of walks: 166940\taverage walk length: 13.4092\ttrainig time: 58.0656\n",
      "building a DeepWalk model...\tnumber of walks: 166940\taverage walk length: 13.4092\ttrainig time: 48.8451\n",
      "building a DeepWalk model...\tnumber of walks: 166940\taverage walk length: 13.4092\ttrainig time: 51.6666\n",
      "building a DeepWalk model...\tnumber of walks: 166940\taverage walk length: 13.4092\ttrainig time: 71.1548\n"
     ]
    },
    {
     "name": "stdout",
     "output_type": "stream",
     "text": [
      "building a DeepWalk model...\tnumber of walks: 166940\taverage walk length: 13.4092\ttrainig time: 53.0166\n",
      "building a DeepWalk model...\tnumber of walks: 166940\taverage walk length: 13.4092\ttrainig time: 54.3311\n",
      "building a DeepWalk model...\tnumber of walks: 166940\taverage walk length: 13.4092\ttrainig time: 60.0384\n",
      "building a DeepWalk model...\tnumber of walks: 166940\taverage walk length: 13.4092\ttrainig time: 49.5278\n",
      "building a DeepWalk model...\tnumber of walks: 166940\taverage walk length: 13.4092\ttrainig time: 46.3626\n",
      "building a DeepWalk model...\tnumber of walks: 166940\taverage walk length: 13.4092\ttrainig time: 45.9054\n",
      "building a DeepWalk model...\tnumber of walks: 166940\taverage walk length: 13.4092\ttrainig time: 45.7405\n",
      "building a DeepWalk model...\tnumber of walks: 166940\taverage walk length: 13.4092\ttrainig time: 46.1261\n",
      "building a DeepWalk model...\tnumber of walks: 166940\taverage walk length: 13.4092\ttrainig time: 45.7896\n",
      "building a DeepWalk model...\tnumber of walks: 166940\taverage walk length: 13.4092\ttrainig time: 51.9510\n",
      "building a DeepWalk model...\tnumber of walks: 166940\taverage walk length: 13.4092\ttrainig time: 44.8361\n",
      "building a DeepWalk model...\tnumber of walks: 166940\taverage walk length: 13.4092\ttrainig time: 44.8204\n",
      "building a DeepWalk model...\tnumber of walks: 166940\taverage walk length: 13.4092\ttrainig time: 44.7479\n",
      "building a DeepWalk model...\tnumber of walks: 166940\taverage walk length: 13.4092\ttrainig time: 44.9421\n",
      "building a DeepWalk model...\tnumber of walks: 166940\taverage walk length: 13.4092\ttrainig time: 44.5556\n",
      "building a DeepWalk model...\tnumber of walks: 166940\taverage walk length: 13.4092\ttrainig time: 45.0061\n",
      "building a DeepWalk model...\tnumber of walks: 166940\taverage walk length: 13.4092\ttrainig time: 49.3244\n",
      "building a DeepWalk model...\tnumber of walks: 166940\taverage walk length: 13.4092\ttrainig time: 44.4633\n",
      "building a DeepWalk model...\tnumber of walks: 166940\taverage walk length: 13.4092\ttrainig time: 44.7352\n",
      "building a DeepWalk model...\tnumber of walks: 166940\taverage walk length: 13.4092\ttrainig time: 44.8508\n",
      "building a DeepWalk model...\tnumber of walks: 166940\taverage walk length: 13.4092\ttrainig time: 50.5897\n",
      "building a DeepWalk model...\tnumber of walks: 166940\taverage walk length: 13.4092\ttrainig time: 44.5010\n"
     ]
    }
   ],
   "source": [
    "np.random.seed(0)\n",
    "\n",
    "node_dim = 10\n",
    "num_walks = 20  \n",
    "walk_length = 15 \n",
    "p_list = [0.1,0.2,0.3,0.4,0.5,0.6,0.7,0.8,0.9,1.0]\n",
    "q_list = [0.1,0.2,0.3,0.4,0.5,0.6,0.7,0.8,0.9,1.0]\n",
    "\n",
    "deepwalk_auc_scores = list()\n",
    "\n",
    "for p in p_list:\n",
    "    \n",
    "    deepwalk_scores = list()\n",
    "    \n",
    "    for q in q_list:\n",
    "        alias_nodes, alias_edges = preprocess_transition_probs(graph, p=p, q=q)\n",
    "\n",
    "        # build models and get auc scores\n",
    "        model_deepwalk = build_deepwalk(graph, alias_nodes,\n",
    "                            node_dim=node_dim, num_walks=num_walks, walk_length=walk_length)\n",
    "        deepwalk_scores.append(get_auc_score(model_deepwalk, valid_edges, false_edges))\n",
    "    \n",
    "    deepwalk_auc_scores.append(deepwalk_scores)\n",
    "    \n",
    "deepwalk_auc_scores = np.array(deepwalk_auc_scores)"
   ]
  },
  {
   "cell_type": "code",
   "execution_count": 26,
   "metadata": {},
   "outputs": [
    {
     "data": {
      "image/png": "[encoded data removed]",
      "text/plain": [
       "<Figure size 432x288 with 2 Axes>"
      ]
     },
     "metadata": {
      "needs_background": "light"
     },
     "output_type": "display_data"
    }
   ],
   "source": [
    "ax_deepwalk = sns.heatmap(deepwalk_auc_scores,linewidth=0.5, xticklabels=q_list, yticklabels=p_list)\n",
    "ax_deepwalk.set_title(\"Tune p,q Deepwalk\")\n",
    "plt.show()"
   ]
  },
  {
   "cell_type": "markdown",
   "metadata": {},
   "source": [
    "- Final adjustment: Node2Vec"
   ]
  },
  {
   "cell_type": "code",
   "execution_count": 27,
   "metadata": {
    "scrolled": true
   },
   "outputs": [
    {
     "name": "stdout",
     "output_type": "stream",
     "text": [
      "building a node2vec model...\tnumber of walks: 166940\taverage walk length: 13.4839\ttrainig time: 54.7790\n",
      "building a node2vec model...\tnumber of walks: 166940\taverage walk length: 13.5013\ttrainig time: 53.8764\n",
      "building a node2vec model...\tnumber of walks: 166940\taverage walk length: 13.4970\ttrainig time: 46.2641\n",
      "building a node2vec model...\tnumber of walks: 166940\taverage walk length: 13.5132\ttrainig time: 46.5300\n",
      "building a node2vec model...\tnumber of walks: 166940\taverage walk length: 13.5147\ttrainig time: 45.5629\n",
      "building a node2vec model...\tnumber of walks: 166940\taverage walk length: 13.4373\ttrainig time: 46.1258\n",
      "building a node2vec model...\tnumber of walks: 166940\taverage walk length: 13.4575\ttrainig time: 45.6609\n",
      "building a node2vec model...\tnumber of walks: 166940\taverage walk length: 13.4669\ttrainig time: 47.5066\n",
      "building a node2vec model...\tnumber of walks: 166940\taverage walk length: 13.4715\ttrainig time: 53.1740\n",
      "building a node2vec model...\tnumber of walks: 166940\taverage walk length: 13.4807\ttrainig time: 46.1934\n",
      "building a node2vec model...\tnumber of walks: 166940\taverage walk length: 13.4243\ttrainig time: 46.9909\n",
      "building a node2vec model...\tnumber of walks: 166940\taverage walk length: 13.4317\ttrainig time: 55.0122\n",
      "building a node2vec model...\tnumber of walks: 166940\taverage walk length: 13.4369\ttrainig time: 55.2750\n",
      "building a node2vec model...\tnumber of walks: 166940\taverage walk length: 13.4473\ttrainig time: 55.7398\n",
      "building a node2vec model...\tnumber of walks: 166940\taverage walk length: 13.4619\ttrainig time: 46.8676\n",
      "building a node2vec model...\tnumber of walks: 166940\taverage walk length: 13.4096\ttrainig time: 47.2125\n",
      "building a node2vec model...\tnumber of walks: 166940\taverage walk length: 13.4136\ttrainig time: 47.9027\n",
      "building a node2vec model...\tnumber of walks: 166940\taverage walk length: 13.4311\ttrainig time: 51.5202\n",
      "building a node2vec model...\tnumber of walks: 166940\taverage walk length: 13.4294\ttrainig time: 55.7838\n",
      "building a node2vec model...\tnumber of walks: 166940\taverage walk length: 13.4354\ttrainig time: 46.3733\n"
     ]
    }
   ],
   "source": [
    "np.random.seed(0)\n",
    "\n",
    "node_dim = 10\n",
    "num_walks = 20\n",
    "walk_length = 15 \n",
    "p_list = [0.1,0.2,0.3,0.4]\n",
    "q_list = [0.6,0.7,0.8,0.9,1.0]\n",
    "\n",
    "node2vec_auc_scores = list()\n",
    "\n",
    "for p in p_list:\n",
    "    \n",
    "    node2vec_scores = list()\n",
    "    \n",
    "    for q in q_list:\n",
    "        alias_nodes, alias_edges = preprocess_transition_probs(graph, p=p, q=q)\n",
    "\n",
    "        # build models and get auc scores\n",
    "        model_node2vec = build_node2vec(graph, alias_nodes, alias_edges,\n",
    "                            node_dim=node_dim, num_walks=num_walks, walk_length=walk_length)\n",
    "        node2vec_scores.append(get_auc_score(model_node2vec, valid_edges, false_edges))\n",
    "    \n",
    "    \n",
    "    node2vec_auc_scores.append(node2vec_scores)\n",
    "    \n",
    "node2vec_auc_scores = np.array(node2vec_auc_scores)"
   ]
  },
  {
   "cell_type": "code",
   "execution_count": 28,
   "metadata": {},
   "outputs": [
    {
     "data": {
      "image/png": "[encoded data removed]",
      "text/plain": [
       "<Figure size 432x288 with 2 Axes>"
      ]
     },
     "metadata": {
      "needs_background": "light"
     },
     "output_type": "display_data"
    }
   ],
   "source": [
    "ax_node2vec = sns.heatmap(node2vec_auc_scores,annot=True,fmt='.4g', linewidth=0.5, xticklabels=q_list, yticklabels=p_list)\n",
    "ax_node2vec.set_title(\"Tune p,q Node2vec\")\n",
    "plt.show()"
   ]
  },
  {
   "cell_type": "markdown",
   "metadata": {},
   "source": [
    "# Ensembled Model"
   ]
  },
  {
   "cell_type": "markdown",
   "metadata": {},
   "source": [
    "- Ensemble 2 DeepWalk and 2 Node2Vec models"
   ]
  },
  {
   "cell_type": "code",
   "execution_count": 38,
   "metadata": {},
   "outputs": [],
   "source": [
    "pred_scores = []"
   ]
  },
  {
   "cell_type": "code",
   "execution_count": 39,
   "metadata": {},
   "outputs": [],
   "source": [
    "def get_pred_score(model, true_edges, false_edges):\n",
    "   \n",
    "    y_score = list()\n",
    "    for e in true_edges:\n",
    "        y_score.append(get_cosine_sim(model, e[0], e[1]))\n",
    "    for e in false_edges:\n",
    "        y_score.append(get_cosine_sim(model, e[0], e[1]))\n",
    "    \n",
    "    return y_score"
   ]
  },
  {
   "cell_type": "markdown",
   "metadata": {},
   "source": [
    "- Deepwalk model"
   ]
  },
  {
   "cell_type": "code",
   "execution_count": 40,
   "metadata": {},
   "outputs": [],
   "source": [
    "np.random.seed(0)\n",
    "\n",
    "node_dim = 10\n",
    "num_walks = 20  \n",
    "walk_length = 15 \n",
    "p = 0.2\n",
    "q = 0.2"
   ]
  },
  {
   "cell_type": "code",
   "execution_count": 41,
   "metadata": {
    "scrolled": true
   },
   "outputs": [
    {
     "name": "stdout",
     "output_type": "stream",
     "text": [
      "building a DeepWalk model...\tnumber of walks: 166940\taverage walk length: 13.4092\ttrainig time: 52.4836\n",
      "DeepWalk: auc score: 0.9345\n",
      "building a DeepWalk model...\tnumber of walks: 166940\taverage walk length: 13.4092\ttrainig time: 54.4283\n",
      "DeepWalk: auc score: 0.9348\n"
     ]
    }
   ],
   "source": [
    "alias_nodes, alias_edges = preprocess_transition_probs(graph, p=p, q=q)\n",
    "\n",
    "    # build models and get auc scores\n",
    "model_deepwalk_1 = build_deepwalk(graph, alias_nodes,\n",
    "                                node_dim=node_dim, num_walks=num_walks, walk_length=walk_length)\n",
    "deepwalk_auc_score_1 = get_auc_score(model_deepwalk_1, valid_edges, false_edges)\n",
    "print(\"DeepWalk: auc score: %.4f\" %(deepwalk_auc_score_1)) \n",
    "    \n",
    "pre_score_1 = get_pred_score(model_deepwalk_1, valid_edges, false_edges) \n",
    "pred_scores.append(pre_score_1)\n",
    "\n",
    "model_deepwalk_2 = build_deepwalk(graph, alias_nodes,\n",
    "                                node_dim=node_dim, num_walks=num_walks, walk_length=walk_length)\n",
    "deepwalk_auc_score_2 = get_auc_score(model_deepwalk_2, valid_edges, false_edges)\n",
    "print(\"DeepWalk: auc score: %.4f\" %(deepwalk_auc_score_2)) \n",
    "    \n",
    "pre_score_2 = get_pred_score(model_deepwalk_2, valid_edges, false_edges) \n",
    "pred_scores.append(pre_score_2)"
   ]
  },
  {
   "cell_type": "markdown",
   "metadata": {},
   "source": [
    "- Node2Vec"
   ]
  },
  {
   "cell_type": "code",
   "execution_count": 42,
   "metadata": {},
   "outputs": [],
   "source": [
    "node_dim = 10\n",
    "num_walks = 20\n",
    "walk_length = 15 \n",
    "p = 0.3\n",
    "q = 0.9"
   ]
  },
  {
   "cell_type": "code",
   "execution_count": 43,
   "metadata": {},
   "outputs": [
    {
     "name": "stdout",
     "output_type": "stream",
     "text": [
      "building a node2vec model...\tnumber of walks: 166940\taverage walk length: 13.4473\ttrainig time: 51.0520\n",
      "Node2vec: auc score: 0.9344\n",
      "building a node2vec model...\tnumber of walks: 166940\taverage walk length: 13.4473\ttrainig time: 50.4791\n",
      "Node2vec: auc score: 0.9348\n"
     ]
    }
   ],
   "source": [
    "alias_nodes, alias_edges = preprocess_transition_probs(graph, p=p, q=q)\n",
    "\n",
    "    # build models and get auc scores\n",
    "model_node2vec_1 = build_node2vec(graph, alias_nodes,alias_edges,\n",
    "                                node_dim=node_dim, num_walks=num_walks, walk_length=walk_length) \n",
    "node2vec_auc_score_1 = get_auc_score(model_node2vec_1, valid_edges, false_edges)\n",
    "print(\"Node2vec: auc score: %.4f\" %(node2vec_auc_score_1 )) \n",
    "    \n",
    "pre_score_1 = get_pred_score(model_node2vec_1, valid_edges, false_edges)\n",
    "pred_scores.append(pre_score_1)\n",
    "\n",
    "model_node2vec_2 = build_node2vec(graph, alias_nodes,alias_edges,\n",
    "                                node_dim=node_dim, num_walks=num_walks, walk_length=walk_length) \n",
    "node2vec_auc_score_2 = get_auc_score(model_node2vec_2, valid_edges, false_edges)\n",
    "print(\"Node2vec: auc score: %.4f\" %(node2vec_auc_score_2 )) \n",
    "    \n",
    "pre_score_2 = get_pred_score(model_node2vec_2, valid_edges, false_edges)\n",
    "pred_scores.append(pre_score_2)"
   ]
  },
  {
   "cell_type": "markdown",
   "metadata": {},
   "source": [
    "- Average across Prediction"
   ]
  },
  {
   "cell_type": "code",
   "execution_count": 44,
   "metadata": {},
   "outputs": [],
   "source": [
    "pred_scores = np.array(pred_scores)\n",
    "pred_scores = list(np.mean(pred_scores, axis = 0))"
   ]
  },
  {
   "cell_type": "code",
   "execution_count": 45,
   "metadata": {},
   "outputs": [],
   "source": [
    "write_predictions('data/valid_pred.csv', src, dst, pred_scores)"
   ]
  },
  {
   "cell_type": "markdown",
   "metadata": {},
   "source": [
    "# AUC Score"
   ]
  },
  {
   "cell_type": "code",
   "execution_count": 46,
   "metadata": {},
   "outputs": [
    {
     "name": "stdout",
     "output_type": "stream",
     "text": [
      "auc score: 0.9381084312802056\n"
     ]
    }
   ],
   "source": [
    "ans = pd.read_csv(\"data/valid_ans.csv\", usecols=[\"src\", \"dst\", \"score\"])\n",
    "pred = pd.read_csv(r\"data/valid_pred.csv\", usecols=[\"src\", \"dst\", \"score\"])\n",
    "df = pd.merge(ans, pred, how=\"left\", on=[\"src\", \"dst\"])\n",
    "df.fillna(0, inplace=True)\n",
    "auc_score = roc_auc_score(df[\"score_x\"], df[\"score_y\"])\n",
    "print(\"auc score:\", auc_score)"
   ]
  },
  {
   "cell_type": "markdown",
   "metadata": {},
   "source": [
    "# Write Prediction on Testing data"
   ]
  },
  {
   "cell_type": "code",
   "execution_count": 47,
   "metadata": {},
   "outputs": [],
   "source": [
    "test = pd.read_csv(\"data/test.csv\")\n",
    "test = test.drop(columns=\"score\")"
   ]
  },
  {
   "cell_type": "code",
   "execution_count": 48,
   "metadata": {},
   "outputs": [],
   "source": [
    "test_edges = list(test.to_records(index=False))"
   ]
  },
  {
   "cell_type": "code",
   "execution_count": 49,
   "metadata": {},
   "outputs": [],
   "source": [
    "def get_test_score(model, test_edges):\n",
    "   \n",
    "    y_score = list()\n",
    "    for e in test_edges:\n",
    "        y_score.append(get_cosine_sim(model, e[0], e[1]))\n",
    "    \n",
    "    return y_score"
   ]
  },
  {
   "cell_type": "code",
   "execution_count": 50,
   "metadata": {},
   "outputs": [],
   "source": [
    "pre_test_score = []\n",
    "pre_test_score_1 = get_test_score(model_deepwalk_1, test_edges)\n",
    "pre_test_score.append(pre_test_score_1)\n",
    "pre_test_score_2 = get_test_score(model_deepwalk_2, test_edges)\n",
    "pre_test_score.append(pre_test_score_2)\n",
    "pre_test_score_3 = get_test_score(model_node2vec_1, test_edges)\n",
    "pre_test_score.append(pre_test_score_3)\n",
    "pre_test_score_4 = get_test_score(model_node2vec_2, test_edges)\n",
    "pre_test_score.append(pre_test_score_4)"
   ]
  },
  {
   "cell_type": "code",
   "execution_count": 51,
   "metadata": {},
   "outputs": [],
   "source": [
    "pre_test_score = np.array(pre_test_score)\n",
    "pre_test_score = list(np.mean(pre_test_score, axis = 0))"
   ]
  },
  {
   "cell_type": "code",
   "execution_count": 52,
   "metadata": {},
   "outputs": [],
   "source": [
    "write_predictions('data/test_pred.csv', list(test[\"src\"]), list(test[\"dst\"]), pre_test_score)"
   ]
  }
 ],
 "metadata": {
  "kernelspec": {
   "display_name": "Python 3",
   "language": "python",
   "name": "python3"
  },
  "language_info": {
   "codemirror_mode": {
    "name": "ipython",
    "version": 3
   },
   "file_extension": ".py",
   "mimetype": "text/x-python",
   "name": "python",
   "nbconvert_exporter": "python",
   "pygments_lexer": "ipython3",
   "version": "3.6.10"
  }
 },
 "nbformat": 4,
 "nbformat_minor": 4
}
