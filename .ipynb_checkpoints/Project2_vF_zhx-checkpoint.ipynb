{
 "cells": [
  {
   "cell_type": "code",
   "execution_count": 1,
   "metadata": {},
   "outputs": [
    {
     "name": "stderr",
     "output_type": "stream",
     "text": [
      "unable to import 'smart_open.gcs', disabling that module\n"
     ]
    }
   ],
   "source": [
    "import networkx as nx\n",
    "import numpy as np\n",
    "import os\n",
    "import time\n",
    "import pandas as pd\n",
    "from itertools import chain\n",
    "from collections import defaultdict\n",
    "from gensim.models import Word2Vec\n",
    "from sklearn.model_selection import KFold\n",
    "from sklearn.metrics import roc_auc_score"
   ]
  },
  {
   "cell_type": "markdown",
   "metadata": {},
   "source": [
    "# Pipeline"
   ]
  },
  {
   "cell_type": "markdown",
   "metadata": {},
   "source": [
    "### Data Loader"
   ]
  },
  {
   "cell_type": "code",
   "execution_count": 2,
   "metadata": {},
   "outputs": [],
   "source": [
    "def load_data(file_name):\n",
    "    \"\"\"\n",
    "    read edges from an edge file\n",
    "    \"\"\"\n",
    "    edges = list()\n",
    "    df = pd.read_csv(file_name)\n",
    "    for idx, row in df.iterrows():\n",
    "        user_id, friends = row[\"user_id\"], eval(row[\"friends\"])\n",
    "        for friend in friends:\n",
    "            # add each friend relation as an edge\n",
    "            edges.append((user_id, friend))\n",
    "    edges = sorted(edges)\n",
    "    \n",
    "    return edges\n",
    "\n",
    "def generate_false_edges(true_edges, num_false_edges=5):\n",
    "    \"\"\"\n",
    "    generate false edges given true edges\n",
    "    \"\"\"\n",
    "    np.random.seed(0)\n",
    "    nodes = list(set(chain.from_iterable(true_edges)))\n",
    "    true_edges = set(true_edges)\n",
    "    false_edges = set()\n",
    "    \n",
    "    while len(false_edges) < num_false_edges:\n",
    "        # randomly sample two different nodes and check whether the pair exisit or not\n",
    "        head, tail = np.random.choice(nodes, 2)\n",
    "        if head != tail and (head, tail) not in true_edges and (head, tail) not in false_edges:\n",
    "            false_edges.add((head, tail))    \n",
    "    false_edges = sorted(false_edges)\n",
    "    \n",
    "    return false_edges\n",
    "\n",
    "def construct_graph_from_edges(edges):\n",
    "    \"\"\"\n",
    "    generate a directed graph object given true edges\n",
    "    DiGraph documentation: https://networkx.github.io/documentation/stable/reference/classes/digraph.html\n",
    "    \"\"\"\n",
    "    # convert a list of edges {(u, v)} to a list of edges with weights {(u, v, w)}\n",
    "    edge_weight = defaultdict(float)\n",
    "    for e in edges:\n",
    "        edge_weight[e] += 1.0\n",
    "    weighed_edge_list = list()\n",
    "    for e in sorted(edge_weight.keys()):\n",
    "        weighed_edge_list.append((e[0], e[1], edge_weight[e]))\n",
    "        \n",
    "    graph = nx.DiGraph()\n",
    "    graph.add_weighted_edges_from(weighed_edge_list)\n",
    "    \n",
    "    print(\"number of nodes:\", graph.number_of_nodes())\n",
    "    print(\"number of edges:\", graph.number_of_edges())\n",
    "    \n",
    "    return graph"
   ]
  },
  {
   "cell_type": "markdown",
   "metadata": {},
   "source": [
    "### Random Walk Generator"
   ]
  },
  {
   "cell_type": "code",
   "execution_count": 3,
   "metadata": {},
   "outputs": [],
   "source": [
    "def alias_setup(probs):\n",
    "    \"\"\"\n",
    "    compute utility lists for non-uniform sampling from discrete distributions.\n",
    "    details: https://lips.cs.princeton.edu/the-alias-method-efficient-sampling-with-many-discrete-outcomes/\n",
    "    \"\"\"\n",
    "    K = len(probs)\n",
    "    q = np.zeros(K)\n",
    "    J = np.zeros(K, dtype=np.int)\n",
    "\n",
    "    smaller = list()\n",
    "    larger = list()\n",
    "    for kk, prob in enumerate(probs):\n",
    "        q[kk] = K * prob\n",
    "        if q[kk] < 1.0:\n",
    "            smaller.append(kk)\n",
    "        else:\n",
    "            larger.append(kk)\n",
    "\n",
    "    while len(smaller) > 0 and len(larger) > 0:\n",
    "        small = smaller.pop()\n",
    "        large = larger.pop()\n",
    "\n",
    "        J[small] = large\n",
    "        q[large] = q[large] + q[small] - 1.0\n",
    "        if q[large] < 1.0:\n",
    "            smaller.append(large)\n",
    "        else:\n",
    "            larger.append(large)\n",
    "\n",
    "    return J, q\n",
    "\n",
    "def get_alias_node(graph, node):\n",
    "    \"\"\"\n",
    "    get the alias node setup lists for a given node.\n",
    "    \"\"\"\n",
    "    # get the unnormalized probabilities with the first-order information\n",
    "    unnormalized_probs = list()\n",
    "    for nbr in graph.neighbors(node):\n",
    "        unnormalized_probs.append(graph[node][nbr]['weight'])\n",
    "    unnormalized_probs = np.array(unnormalized_probs)\n",
    "    if len(unnormalized_probs) > 0:\n",
    "        normalized_probs = unnormalized_probs / unnormalized_probs.sum()\n",
    "    else:\n",
    "        normalized_probs = unnormalized_probs\n",
    "        \n",
    "    return alias_setup(normalized_probs)\n",
    "    \n",
    "def get_alias_edge(graph, src, dst, p=1, q=1):\n",
    "    \"\"\"\n",
    "    get the alias edge setup lists for a given edge.\n",
    "    \"\"\"\n",
    "    # get the unnormalized probabilities with the second-order information\n",
    "    unnormalized_probs = list()\n",
    "    for dst_nbr in graph.neighbors(dst):\n",
    "        if dst_nbr == src: # distance is 0\n",
    "            unnormalized_probs.append(graph[dst][dst_nbr]['weight'] / p)\n",
    "        elif graph.has_edge(dst_nbr, src): # distance is 1\n",
    "            unnormalized_probs.append(graph[dst][dst_nbr]['weight'])\n",
    "        else: # distance is 2\n",
    "            unnormalized_probs.append(graph[dst][dst_nbr]['weight'] / q)\n",
    "    unnormalized_probs = np.array(unnormalized_probs)\n",
    "    if len(unnormalized_probs) > 0:\n",
    "        normalized_probs = unnormalized_probs / unnormalized_probs.sum()\n",
    "    else:\n",
    "        normalized_probs = unnormalized_probs\n",
    "\n",
    "    return alias_setup(normalized_probs)\n",
    "\n",
    "def preprocess_transition_probs(graph, p=1, q=1):\n",
    "    \"\"\"\n",
    "    preprocess transition probabilities for guiding the random walks.\n",
    "    \"\"\"\n",
    "    alias_nodes = dict()\n",
    "    for node in graph.nodes():\n",
    "        alias_nodes[node] = get_alias_node(graph, node)\n",
    "\n",
    "    alias_edges = dict()\n",
    "    for edge in graph.edges():\n",
    "        alias_edges[edge] = get_alias_edge(graph, edge[0], edge[1], p=p, q=q)\n",
    "\n",
    "    return alias_nodes, alias_edges"
   ]
  },
  {
   "cell_type": "code",
   "execution_count": 4,
   "metadata": {},
   "outputs": [],
   "source": [
    "def alias_draw(J, q):\n",
    "    \"\"\"\n",
    "    draw sample from a non-uniform discrete distribution using alias sampling.\n",
    "    \"\"\"\n",
    "    K = len(J)\n",
    "\n",
    "    kk = int(np.floor(np.random.rand() * K))\n",
    "    if np.random.rand() < q[kk]:\n",
    "        return kk\n",
    "    else:\n",
    "        return J[kk]\n",
    "\n",
    "def generate_first_order_random_walk(graph, alias_nodes, walk_length=10, start_node=None):\n",
    "    \"\"\"\n",
    "    simulate a random walk starting from start node and considering the first order information.\n",
    "    \"\"\"\n",
    "    if start_node == None:\n",
    "        start_node = np.random.choice(graph.nodes())\n",
    "    walk = [start_node]\n",
    "    cur = start_node\n",
    "    while len(walk) < walk_length:\n",
    "        cur_nbrs = list(graph.neighbors(cur))\n",
    "        if len(cur_nbrs) > 0:\n",
    "            # sample the next node based on alias_nodes\n",
    "            cur = cur_nbrs[alias_draw(*alias_nodes[cur])]\n",
    "            walk.append(cur)\n",
    "        else:\n",
    "            break\n",
    "\n",
    "    return walk\n",
    "    \n",
    "def generate_second_order_random_walk(graph, alias_nodes, alias_edges, walk_length=10, start_node=None):\n",
    "    \"\"\"\n",
    "    simulate a random walk starting from start node and considering the second order information.\n",
    "    \"\"\"\n",
    "    if start_node == None:\n",
    "        start_node = np.random.choice(graph.nodes())\n",
    "    walk = [start_node]\n",
    "    \n",
    "    prev = None\n",
    "    cur = start_node\n",
    "    while len(walk) < walk_length:\n",
    "        cur_nbrs = list(graph.neighbors(cur))\n",
    "        if len(cur_nbrs) > 0:\n",
    "            if prev is None:\n",
    "                # sample the next node based on alias_nodes\n",
    "                prev, cur = cur, cur_nbrs[alias_draw(*alias_nodes[cur])]\n",
    "            else:\n",
    "                # sample the next node based on alias_edges\n",
    "                prev, cur = cur, cur_nbrs[alias_draw(*alias_edges[(prev, cur)])]\n",
    "            walk.append(cur)\n",
    "        else:\n",
    "            break\n",
    "\n",
    "    return walk"
   ]
  },
  {
   "cell_type": "markdown",
   "metadata": {},
   "source": [
    "### Network Embedding Algorithms"
   ]
  },
  {
   "cell_type": "code",
   "execution_count": 5,
   "metadata": {},
   "outputs": [],
   "source": [
    "def build_deepwalk(graph, alias_nodes, node_dim=10, num_walks=10, walk_length=10):\n",
    "    \"\"\"\n",
    "    build a deepwalk model\n",
    "    \"\"\"\n",
    "    print(\"building a DeepWalk model...\", end=\"\\t\")\n",
    "    st = time.time()\n",
    "    np.random.seed(0)\n",
    "    nodes = list(graph.nodes())\n",
    "    walks = list()\n",
    "    # generate random walks\n",
    "    for walk_iter in range(num_walks):\n",
    "        np.random.shuffle(nodes)\n",
    "        for node in nodes:\n",
    "            walks.append(generate_first_order_random_walk(\n",
    "                graph, alias_nodes, walk_length=walk_length, start_node=node))\n",
    "        \n",
    "    walk_lens = [len(w) for w in walks]\n",
    "    if len(walk_lens) > 0:\n",
    "        avg_walk_len = sum(walk_lens) / len(walk_lens)\n",
    "    else:\n",
    "        avg_walk_len = 0.0\n",
    "    print(\"number of walks: %d\\taverage walk length: %.4f\" % (len(walks), avg_walk_len), end=\"\\t\")\n",
    "    \n",
    "    # train a skip-gram model for these walks\n",
    "    model = Word2Vec(walks, size=node_dim, window=3, min_count=0, sg=1, workers=os.cpu_count(), iter=10)\n",
    "    print(\"trainig time: %.4f\" % (time.time()-st))\n",
    "    \n",
    "    return model\n",
    "\n",
    "def build_node2vec(graph, alias_nodes, alias_edges, node_dim=10, num_walks=10, walk_length=10):\n",
    "    \"\"\"\n",
    "    build a node2vec model\n",
    "    \"\"\"\n",
    "    print(\"building a node2vec model...\", end=\"\\t\")\n",
    "    st = time.time()\n",
    "    np.random.seed(0)\n",
    "    nodes = list(graph.nodes())\n",
    "    walks = list()\n",
    "    # generate random walks\n",
    "    for walk_iter in range(num_walks):\n",
    "        np.random.shuffle(nodes)\n",
    "        for node in nodes:\n",
    "            walks.append(generate_second_order_random_walk(\n",
    "                graph, alias_nodes, alias_edges, walk_length=walk_length, start_node=node))\n",
    "            \n",
    "    walk_lens = [len(w) for w in walks]\n",
    "    if len(walk_lens) > 0:\n",
    "        avg_walk_len = sum(walk_lens) / len(walk_lens)\n",
    "    else:\n",
    "        avg_walk_len = 0.0    \n",
    "    print(\"number of walks: %d\\taverage walk length: %.4f\" % (len(walks), avg_walk_len), end=\"\\t\")\n",
    "    \n",
    "    # train a skip-gram model for these walks\n",
    "    model = Word2Vec(walks, size=node_dim, window=3, min_count=0, sg=1, workers=os.cpu_count(), iter=10)\n",
    "    print(\"trainig time: %.4f\" % (time.time()-st))\n",
    "    \n",
    "    return model"
   ]
  },
  {
   "cell_type": "markdown",
   "metadata": {},
   "source": [
    "### Scorer"
   ]
  },
  {
   "cell_type": "code",
   "execution_count": 6,
   "metadata": {},
   "outputs": [],
   "source": [
    "def get_cosine_sim(model, u, v):\n",
    "    \"\"\"\n",
    "    get the cosine similarity between two nodes\n",
    "    \"\"\"\n",
    "    try:\n",
    "        u = model.wv[u]\n",
    "        v = model.wv[v]\n",
    "        return np.dot(u, v) / (np.linalg.norm(u) * np.linalg.norm(v))\n",
    "    except:\n",
    "        return 0\n",
    "\n",
    "def get_auc_score(model, true_edges, false_edges):\n",
    "    \"\"\"\n",
    "    get the auc score\n",
    "    \"\"\"\n",
    "    y_true = [1] * len(true_edges) + [0] * len(false_edges)\n",
    "    \n",
    "    y_score = list()\n",
    "    for e in true_edges:\n",
    "        y_score.append(get_cosine_sim(model, e[0], e[1]))\n",
    "    for e in false_edges:\n",
    "        y_score.append(get_cosine_sim(model, e[0], e[1]))\n",
    "    \n",
    "    pre_score = y_score\n",
    "    \n",
    "    return roc_auc_score(y_true, y_score)"
   ]
  },
  {
   "cell_type": "markdown",
   "metadata": {},
   "source": [
    "# Link Prediction"
   ]
  },
  {
   "cell_type": "code",
   "execution_count": 7,
   "metadata": {},
   "outputs": [],
   "source": [
    "train_file = \"data/train.csv\"\n",
    "train_edges = load_data(train_file)\n",
    "\n",
    "valid_file = \"data/valid.csv\"\n",
    "valid_edges = load_data(valid_file)"
   ]
  },
  {
   "cell_type": "markdown",
   "metadata": {},
   "source": [
    "- Combine train/valid edges"
   ]
  },
  {
   "cell_type": "code",
   "execution_count": 8,
   "metadata": {},
   "outputs": [],
   "source": [
    "edges = train_edges+valid_edges"
   ]
  },
  {
   "cell_type": "markdown",
   "metadata": {},
   "source": [
    "- Generate false edges and build graph neural network"
   ]
  },
  {
   "cell_type": "code",
   "execution_count": 9,
   "metadata": {},
   "outputs": [
    {
     "name": "stdout",
     "output_type": "stream",
     "text": [
      "number of nodes: 8347\n",
      "number of edges: 100000\n"
     ]
    }
   ],
   "source": [
    "np.random.seed(0)\n",
    "\n",
    "# generate the same validation size of false edges\n",
    "false_edges = generate_false_edges(edges, num_false_edges=40000-len(valid_edges))\n",
    "\n",
    "# construct the graph and preprocess transition probabilities\n",
    "graph = construct_graph_from_edges(train_edges)"
   ]
  },
  {
   "cell_type": "markdown",
   "metadata": {},
   "source": [
    "- Generate valid_ans.csv"
   ]
  },
  {
   "cell_type": "code",
   "execution_count": 10,
   "metadata": {},
   "outputs": [],
   "source": [
    "def write_predictions(file_name, src, dst, score):\n",
    "    d = {'src': src, 'dst': dst, 'score': score}\n",
    "    df = pd.DataFrame(d)\n",
    "    df.to_csv(file_name, index=False)"
   ]
  },
  {
   "cell_type": "code",
   "execution_count": 11,
   "metadata": {},
   "outputs": [],
   "source": [
    "valid_ans = valid_edges + false_edges"
   ]
  },
  {
   "cell_type": "code",
   "execution_count": 12,
   "metadata": {},
   "outputs": [],
   "source": [
    "src = list()\n",
    "dst = list()\n",
    "score = [1] * len(valid_edges) + [0] * len(false_edges)\n",
    "for e in valid_ans:\n",
    "    src.append(e[0])\n",
    "    dst.append(e[1])"
   ]
  },
  {
   "cell_type": "code",
   "execution_count": 13,
   "metadata": {},
   "outputs": [],
   "source": [
    "write_predictions('data/valid_ans.csv', src, dst, score)"
   ]
  },
  {
   "cell_type": "markdown",
   "metadata": {},
   "source": [
    "# Parameter tuning"
   ]
  },
  {
   "cell_type": "markdown",
   "metadata": {},
   "source": [
    "- p,q"
   ]
  },
  {
   "cell_type": "code",
   "execution_count": 14,
   "metadata": {
    "scrolled": false
   },
   "outputs": [
    {
     "name": "stdout",
     "output_type": "stream",
     "text": [
      "building a DeepWalk model...\tnumber of walks: 83470\taverage walk length: 9.0894\ttrainig time: 18.2596\n",
      "building a node2vec model...\tnumber of walks: 83470\taverage walk length: 9.0718\ttrainig time: 18.0913\n",
      "building a DeepWalk model...\tnumber of walks: 83470\taverage walk length: 9.0894\ttrainig time: 17.7033\n",
      "building a node2vec model...\tnumber of walks: 83470\taverage walk length: 9.0916\ttrainig time: 18.4730\n",
      "building a DeepWalk model...\tnumber of walks: 83470\taverage walk length: 9.0894\ttrainig time: 17.9882\n",
      "building a node2vec model...\tnumber of walks: 83470\taverage walk length: 9.0971\ttrainig time: 18.6623\n",
      "building a DeepWalk model...\tnumber of walks: 83470\taverage walk length: 9.0894\ttrainig time: 17.6084\n",
      "building a node2vec model...\tnumber of walks: 83470\taverage walk length: 9.1081\ttrainig time: 18.0120\n",
      "building a DeepWalk model...\tnumber of walks: 83470\taverage walk length: 9.0894\ttrainig time: 18.1216\n",
      "building a node2vec model...\tnumber of walks: 83470\taverage walk length: 9.1116\ttrainig time: 17.8813\n",
      "building a DeepWalk model...\tnumber of walks: 83470\taverage walk length: 9.0894\ttrainig time: 18.0522\n",
      "building a node2vec model...\tnumber of walks: 83470\taverage walk length: 9.1194\ttrainig time: 18.3304\n",
      "building a DeepWalk model...\tnumber of walks: 83470\taverage walk length: 9.0894\ttrainig time: 17.7232\n",
      "building a node2vec model...\tnumber of walks: 83470\taverage walk length: 9.1215\ttrainig time: 17.8931\n",
      "building a DeepWalk model...\tnumber of walks: 83470\taverage walk length: 9.0894\ttrainig time: 17.6763\n",
      "building a node2vec model...\tnumber of walks: 83470\taverage walk length: 9.1263\ttrainig time: 17.9241\n",
      "building a DeepWalk model...\tnumber of walks: 83470\taverage walk length: 9.0894\ttrainig time: 18.0104\n",
      "building a node2vec model...\tnumber of walks: 83470\taverage walk length: 9.1283\ttrainig time: 17.8085\n",
      "building a DeepWalk model...\tnumber of walks: 83470\taverage walk length: 9.0894\ttrainig time: 18.7699\n",
      "building a node2vec model...\tnumber of walks: 83470\taverage walk length: 9.1328\ttrainig time: 18.5222\n",
      "building a DeepWalk model...\tnumber of walks: 83470\taverage walk length: 9.0894\ttrainig time: 17.7137\n",
      "building a node2vec model...\tnumber of walks: 83470\taverage walk length: 9.0669\ttrainig time: 18.0647\n",
      "building a DeepWalk model...\tnumber of walks: 83470\taverage walk length: 9.0894\ttrainig time: 17.7045\n",
      "building a node2vec model...\tnumber of walks: 83470\taverage walk length: 9.0809\ttrainig time: 18.1402\n",
      "building a DeepWalk model...\tnumber of walks: 83470\taverage walk length: 9.0894\ttrainig time: 18.0652\n",
      "building a node2vec model...\tnumber of walks: 83470\taverage walk length: 9.0836\ttrainig time: 18.1219\n",
      "building a DeepWalk model...\tnumber of walks: 83470\taverage walk length: 9.0894\ttrainig time: 17.7741\n",
      "building a node2vec model...\tnumber of walks: 83470\taverage walk length: 9.0909\ttrainig time: 18.2756\n",
      "building a DeepWalk model...\tnumber of walks: 83470\taverage walk length: 9.0894\ttrainig time: 17.5988\n",
      "building a node2vec model...\tnumber of walks: 83470\taverage walk length: 9.1034\ttrainig time: 18.0918\n",
      "building a DeepWalk model...\tnumber of walks: 83470\taverage walk length: 9.0894\ttrainig time: 17.7281\n",
      "building a node2vec model...\tnumber of walks: 83470\taverage walk length: 9.1033\ttrainig time: 17.9010\n",
      "building a DeepWalk model...\tnumber of walks: 83470\taverage walk length: 9.0894\ttrainig time: 18.2311\n",
      "building a node2vec model...\tnumber of walks: 83470\taverage walk length: 9.1053\ttrainig time: 18.2010\n",
      "building a DeepWalk model...\tnumber of walks: 83470\taverage walk length: 9.0894\ttrainig time: 17.6710\n",
      "building a node2vec model...\tnumber of walks: 83470\taverage walk length: 9.1110\ttrainig time: 18.1008\n",
      "building a DeepWalk model...\tnumber of walks: 83470\taverage walk length: 9.0894\ttrainig time: 17.6635\n",
      "building a node2vec model...\tnumber of walks: 83470\taverage walk length: 9.1107\ttrainig time: 17.9151\n",
      "building a DeepWalk model...\tnumber of walks: 83470\taverage walk length: 9.0894\ttrainig time: 17.8867\n",
      "building a node2vec model...\tnumber of walks: 83470\taverage walk length: 9.1178\ttrainig time: 18.2573\n",
      "building a DeepWalk model...\tnumber of walks: 83470\taverage walk length: 9.0894\ttrainig time: 18.2074\n",
      "building a node2vec model...\tnumber of walks: 83470\taverage walk length: 9.0609\ttrainig time: 18.2461\n",
      "building a DeepWalk model...\tnumber of walks: 83470\taverage walk length: 9.0894\ttrainig time: 18.0439\n",
      "building a node2vec model...\tnumber of walks: 83470\taverage walk length: 9.0747\ttrainig time: 18.0658\n",
      "building a DeepWalk model...\tnumber of walks: 83470\taverage walk length: 9.0894\ttrainig time: 17.6415\n",
      "building a node2vec model...\tnumber of walks: 83470\taverage walk length: 9.0765\ttrainig time: 18.0090\n",
      "building a DeepWalk model...\tnumber of walks: 83470\taverage walk length: 9.0894\ttrainig time: 17.5932\n",
      "building a node2vec model...\tnumber of walks: 83470\taverage walk length: 9.0816\ttrainig time: 18.0671\n",
      "building a DeepWalk model...\tnumber of walks: 83470\taverage walk length: 9.0894\ttrainig time: 18.3406\n",
      "building a node2vec model...\tnumber of walks: 83470\taverage walk length: 9.0905\ttrainig time: 18.0577\n",
      "building a DeepWalk model...\tnumber of walks: 83470\taverage walk length: 9.0894\ttrainig time: 17.7571\n",
      "building a node2vec model...\tnumber of walks: 83470\taverage walk length: 9.1016\ttrainig time: 18.8177\n",
      "building a DeepWalk model...\tnumber of walks: 83470\taverage walk length: 9.0894\ttrainig time: 17.7272\n",
      "building a node2vec model...\tnumber of walks: 83470\taverage walk length: 9.0983\ttrainig time: 18.0645\n",
      "building a DeepWalk model...\tnumber of walks: 83470\taverage walk length: 9.0894\ttrainig time: 17.8562\n",
      "building a node2vec model...\tnumber of walks: 83470\taverage walk length: 9.0992\ttrainig time: 17.9383\n",
      "building a DeepWalk model...\tnumber of walks: 83470\taverage walk length: 9.0894\ttrainig time: 18.1217\n",
      "building a node2vec model...\tnumber of walks: 83470\taverage walk length: 9.1022\ttrainig time: 18.0245\n",
      "building a DeepWalk model...\tnumber of walks: 83470\taverage walk length: 9.0894\ttrainig time: 17.6244\n",
      "building a node2vec model...\tnumber of walks: 83470\taverage walk length: 9.1058\ttrainig time: 18.0486\n",
      "building a DeepWalk model...\tnumber of walks: 83470\taverage walk length: 9.0894\ttrainig time: 17.6764\n",
      "building a node2vec model...\tnumber of walks: 83470\taverage walk length: 9.0600\ttrainig time: 18.1082\n",
      "building a DeepWalk model...\tnumber of walks: 83470\taverage walk length: 9.0894\ttrainig time: 17.8200\n",
      "building a node2vec model...\tnumber of walks: 83470\taverage walk length: 9.0667\ttrainig time: 18.0489\n",
      "building a DeepWalk model...\tnumber of walks: 83470\taverage walk length: 9.0894\ttrainig time: 17.7360\n",
      "building a node2vec model...\tnumber of walks: 83470\taverage walk length: 9.0716\ttrainig time: 18.6957\n",
      "building a DeepWalk model...\tnumber of walks: 83470\taverage walk length: 9.0894\ttrainig time: 17.7456\n",
      "building a node2vec model...\tnumber of walks: 83470\taverage walk length: 9.0825\ttrainig time: 18.0256\n",
      "building a DeepWalk model...\tnumber of walks: 83470\taverage walk length: 9.0894\ttrainig time: 17.6339\n",
      "building a node2vec model...\tnumber of walks: 83470\taverage walk length: 9.0783\ttrainig time: 18.0884\n",
      "building a DeepWalk model...\tnumber of walks: 83470\taverage walk length: 9.0894\ttrainig time: 17.7987\n",
      "building a node2vec model...\tnumber of walks: 83470\taverage walk length: 9.0911\ttrainig time: 17.9002\n",
      "building a DeepWalk model...\tnumber of walks: 83470\taverage walk length: 9.0894\ttrainig time: 17.7319\n",
      "building a node2vec model...\tnumber of walks: 83470\taverage walk length: 9.0893\ttrainig time: 18.6849\n",
      "building a DeepWalk model...\tnumber of walks: 83470\taverage walk length: 9.0894\ttrainig time: 17.9209\n",
      "building a node2vec model...\tnumber of walks: 83470\taverage walk length: 9.0959\ttrainig time: 17.9636\n",
      "building a DeepWalk model...\tnumber of walks: 83470\taverage walk length: 9.0894\ttrainig time: 17.7232\n",
      "building a node2vec model...\tnumber of walks: 83470\taverage walk length: 9.0962\ttrainig time: 18.0752\n",
      "building a DeepWalk model...\tnumber of walks: 83470\taverage walk length: 9.0894\ttrainig time: 18.1101\n",
      "building a node2vec model...\tnumber of walks: 83470\taverage walk length: 9.1031\ttrainig time: 17.9648\n",
      "building a DeepWalk model...\tnumber of walks: 83470\taverage walk length: 9.0894\ttrainig time: 17.6909\n",
      "building a node2vec model...\tnumber of walks: 83470\taverage walk length: 9.0576\ttrainig time: 18.9115\n",
      "building a DeepWalk model...\tnumber of walks: 83470\taverage walk length: 9.0894\ttrainig time: 17.7153\n",
      "building a node2vec model...\tnumber of walks: 83470\taverage walk length: 9.0674\ttrainig time: 18.1597\n",
      "building a DeepWalk model...\tnumber of walks: 83470\taverage walk length: 9.0894\ttrainig time: 17.6635\n",
      "building a node2vec model...\tnumber of walks: 83470\taverage walk length: 9.0762\ttrainig time: 18.1453\n",
      "building a DeepWalk model...\tnumber of walks: 83470\taverage walk length: 9.0894\ttrainig time: 18.1054\n",
      "building a node2vec model...\tnumber of walks: 83470\taverage walk length: 9.0764\ttrainig time: 18.1183\n",
      "building a DeepWalk model...\tnumber of walks: 83470\taverage walk length: 9.0894\ttrainig time: 17.6760\n",
      "building a node2vec model...\tnumber of walks: 83470\taverage walk length: 9.0835\ttrainig time: 18.4474\n",
      "building a DeepWalk model...\tnumber of walks: 83470\taverage walk length: 9.0894\ttrainig time: 17.6820\n",
      "building a node2vec model...\tnumber of walks: 83470\taverage walk length: 9.0836\ttrainig time: 18.1242\n",
      "building a DeepWalk model...\tnumber of walks: 83470\taverage walk length: 9.0894\ttrainig time: 17.7990\n",
      "building a node2vec model...\tnumber of walks: 83470\taverage walk length: 9.0877\ttrainig time: 18.0898\n",
      "building a DeepWalk model...\tnumber of walks: 83470\taverage walk length: 9.0894\ttrainig time: 18.3048\n",
      "building a node2vec model...\tnumber of walks: 83470\taverage walk length: 9.0900\ttrainig time: 18.0980\n",
      "building a DeepWalk model...\tnumber of walks: 83470\taverage walk length: 9.0894\ttrainig time: 17.8380\n",
      "building a node2vec model...\tnumber of walks: 83470\taverage walk length: 9.0965\ttrainig time: 18.1058\n",
      "building a DeepWalk model...\tnumber of walks: 83470\taverage walk length: 9.0894\ttrainig time: 17.7816\n",
      "building a node2vec model...\tnumber of walks: 83470\taverage walk length: 9.1014\ttrainig time: 17.9704\n",
      "building a DeepWalk model...\tnumber of walks: 83470\taverage walk length: 9.0894\ttrainig time: 17.7091\n",
      "building a node2vec model...\tnumber of walks: 83470\taverage walk length: 9.0588\ttrainig time: 18.2399\n",
      "building a DeepWalk model...\tnumber of walks: 83470\taverage walk length: 9.0894\ttrainig time: 22.7015\n",
      "building a node2vec model...\tnumber of walks: 83470\taverage walk length: 9.0666\ttrainig time: 21.7259\n",
      "building a DeepWalk model...\tnumber of walks: 83470\taverage walk length: 9.0894\ttrainig time: 17.7312\n",
      "building a node2vec model...\tnumber of walks: 83470\taverage walk length: 9.0661\ttrainig time: 18.5308\n",
      "building a DeepWalk model...\tnumber of walks: 83470\taverage walk length: 9.0894\ttrainig time: 17.9073\n",
      "building a node2vec model...\tnumber of walks: 83470\taverage walk length: 9.0766\ttrainig time: 18.1875\n",
      "building a DeepWalk model...\tnumber of walks: 83470\taverage walk length: 9.0894\ttrainig time: 17.7492\n",
      "building a node2vec model...\tnumber of walks: 83470\taverage walk length: 9.0757\ttrainig time: 18.2444\n",
      "building a DeepWalk model...\tnumber of walks: 83470\taverage walk length: 9.0894\ttrainig time: 18.2859\n",
      "building a node2vec model...\tnumber of walks: 83470\taverage walk length: 9.0853\ttrainig time: 18.0858\n",
      "building a DeepWalk model...\tnumber of walks: 83470\taverage walk length: 9.0894\ttrainig time: 17.7773\n",
      "building a node2vec model...\tnumber of walks: 83470\taverage walk length: 9.0851\ttrainig time: 18.1302\n",
      "building a DeepWalk model...\tnumber of walks: 83470\taverage walk length: 9.0894\ttrainig time: 17.6490\n",
      "building a node2vec model...\tnumber of walks: 83470\taverage walk length: 9.0893\ttrainig time: 18.1210\n",
      "building a DeepWalk model...\tnumber of walks: 83470\taverage walk length: 9.0894\ttrainig time: 17.7190\n",
      "building a node2vec model...\tnumber of walks: 83470\taverage walk length: 9.0934\ttrainig time: 18.0757\n",
      "building a DeepWalk model...\tnumber of walks: 83470\taverage walk length: 9.0894\ttrainig time: 18.0662\n",
      "building a node2vec model...\tnumber of walks: 83470\taverage walk length: 9.0957\ttrainig time: 18.2800\n",
      "building a DeepWalk model...\tnumber of walks: 83470\taverage walk length: 9.0894\ttrainig time: 17.8983\n",
      "building a node2vec model...\tnumber of walks: 83470\taverage walk length: 9.0512\ttrainig time: 18.1001\n",
      "building a DeepWalk model...\tnumber of walks: 83470\taverage walk length: 9.0894\ttrainig time: 17.6688\n",
      "building a node2vec model...\tnumber of walks: 83470\taverage walk length: 9.0587\ttrainig time: 18.1004\n",
      "building a DeepWalk model...\tnumber of walks: 83470\taverage walk length: 9.0894\ttrainig time: 18.0728\n",
      "building a node2vec model...\tnumber of walks: 83470\taverage walk length: 9.0697\ttrainig time: 18.4098\n",
      "building a DeepWalk model...\tnumber of walks: 83470\taverage walk length: 9.0894\ttrainig time: 17.8229\n",
      "building a node2vec model...\tnumber of walks: 83470\taverage walk length: 9.0733\ttrainig time: 18.5335\n",
      "building a DeepWalk model...\tnumber of walks: 83470\taverage walk length: 9.0894\ttrainig time: 17.7971\n",
      "building a node2vec model...\tnumber of walks: 83470\taverage walk length: 9.0810\ttrainig time: 18.0727\n",
      "building a DeepWalk model...\tnumber of walks: 83470\taverage walk length: 9.0894\ttrainig time: 17.7803\n",
      "building a node2vec model...\tnumber of walks: 83470\taverage walk length: 9.0823\ttrainig time: 18.1059\n",
      "building a DeepWalk model...\tnumber of walks: 83470\taverage walk length: 9.0894\ttrainig time: 17.6763\n",
      "building a node2vec model...\tnumber of walks: 83470\taverage walk length: 9.0775\ttrainig time: 18.2391\n",
      "building a DeepWalk model...\tnumber of walks: 83470\taverage walk length: 9.0894\ttrainig time: 17.7697\n",
      "building a node2vec model...\tnumber of walks: 83470\taverage walk length: 9.0800\ttrainig time: 18.5542\n",
      "building a DeepWalk model...\tnumber of walks: 83470\taverage walk length: 9.0894\ttrainig time: 17.7031\n",
      "building a node2vec model...\tnumber of walks: 83470\taverage walk length: 9.0864\ttrainig time: 18.0584\n",
      "building a DeepWalk model...\tnumber of walks: 83470\taverage walk length: 9.0894\ttrainig time: 17.6409\n",
      "building a node2vec model...\tnumber of walks: 83470\taverage walk length: 9.0865\ttrainig time: 17.8992\n",
      "building a DeepWalk model...\tnumber of walks: 83470\taverage walk length: 9.0894\ttrainig time: 18.2294\n",
      "building a node2vec model...\tnumber of walks: 83470\taverage walk length: 9.0597\ttrainig time: 18.2362\n",
      "building a DeepWalk model...\tnumber of walks: 83470\taverage walk length: 9.0894\ttrainig time: 17.6885\n",
      "building a node2vec model...\tnumber of walks: 83470\taverage walk length: 9.0611\ttrainig time: 18.7831\n",
      "building a DeepWalk model...\tnumber of walks: 83470\taverage walk length: 9.0894\ttrainig time: 17.6825\n",
      "building a node2vec model...\tnumber of walks: 83470\taverage walk length: 9.0658\ttrainig time: 18.1282\n",
      "building a DeepWalk model...\tnumber of walks: 83470\taverage walk length: 9.0894\ttrainig time: 17.7912\n",
      "building a node2vec model...\tnumber of walks: 83470\taverage walk length: 9.0737\ttrainig time: 18.3861\n",
      "building a DeepWalk model...\tnumber of walks: 83470\taverage walk length: 9.0894\ttrainig time: 18.2362\n",
      "building a node2vec model...\tnumber of walks: 83470\taverage walk length: 9.0791\ttrainig time: 19.3657\n",
      "building a DeepWalk model...\tnumber of walks: 83470\taverage walk length: 9.0894\ttrainig time: 17.7078\n",
      "building a node2vec model...\tnumber of walks: 83470\taverage walk length: 9.0854\ttrainig time: 19.7120\n",
      "building a DeepWalk model...\tnumber of walks: 83470\taverage walk length: 9.0894\ttrainig time: 17.6559\n",
      "building a node2vec model...\tnumber of walks: 83470\taverage walk length: 9.0812\ttrainig time: 18.0216\n",
      "building a DeepWalk model...\tnumber of walks: 83470\taverage walk length: 9.0894\ttrainig time: 17.7694\n",
      "building a node2vec model...\tnumber of walks: 83470\taverage walk length: 9.0813\ttrainig time: 18.2228\n",
      "building a DeepWalk model...\tnumber of walks: 83470\taverage walk length: 9.0894\ttrainig time: 18.6734\n",
      "building a node2vec model...\tnumber of walks: 83470\taverage walk length: 9.0866\ttrainig time: 18.1904\n",
      "building a DeepWalk model...\tnumber of walks: 83470\taverage walk length: 9.0894\ttrainig time: 17.7500\n",
      "building a node2vec model...\tnumber of walks: 83470\taverage walk length: 9.0907\ttrainig time: 18.3210\n"
     ]
    },
    {
     "name": "stdout",
     "output_type": "stream",
     "text": [
      "building a DeepWalk model...\tnumber of walks: 83470\taverage walk length: 9.0894\ttrainig time: 17.9731\n",
      "building a node2vec model...\tnumber of walks: 83470\taverage walk length: 9.0557\ttrainig time: 18.4438\n",
      "building a DeepWalk model...\tnumber of walks: 83470\taverage walk length: 9.0894\ttrainig time: 17.8278\n",
      "building a node2vec model...\tnumber of walks: 83470\taverage walk length: 9.0605\ttrainig time: 18.1855\n",
      "building a DeepWalk model...\tnumber of walks: 83470\taverage walk length: 9.0894\ttrainig time: 18.6306\n",
      "building a node2vec model...\tnumber of walks: 83470\taverage walk length: 9.0631\ttrainig time: 18.1681\n",
      "building a DeepWalk model...\tnumber of walks: 83470\taverage walk length: 9.0894\ttrainig time: 19.6594\n",
      "building a node2vec model...\tnumber of walks: 83470\taverage walk length: 9.0768\ttrainig time: 18.8006\n",
      "building a DeepWalk model...\tnumber of walks: 83470\taverage walk length: 9.0894\ttrainig time: 18.0975\n",
      "building a node2vec model...\tnumber of walks: 83470\taverage walk length: 9.0744\ttrainig time: 18.3954\n",
      "building a DeepWalk model...\tnumber of walks: 83470\taverage walk length: 9.0894\ttrainig time: 17.9259\n",
      "building a node2vec model...\tnumber of walks: 83470\taverage walk length: 9.0798\ttrainig time: 18.1212\n",
      "building a DeepWalk model...\tnumber of walks: 83470\taverage walk length: 9.0894\ttrainig time: 18.3471\n",
      "building a node2vec model...\tnumber of walks: 83470\taverage walk length: 9.0770\ttrainig time: 18.2367\n",
      "building a DeepWalk model...\tnumber of walks: 83470\taverage walk length: 9.0894\ttrainig time: 17.9590\n",
      "building a node2vec model...\tnumber of walks: 83470\taverage walk length: 9.0854\ttrainig time: 18.5322\n",
      "building a DeepWalk model...\tnumber of walks: 83470\taverage walk length: 9.0894\ttrainig time: 17.8289\n",
      "building a node2vec model...\tnumber of walks: 83470\taverage walk length: 9.0830\ttrainig time: 19.4767\n",
      "building a DeepWalk model...\tnumber of walks: 83470\taverage walk length: 9.0894\ttrainig time: 18.6626\n",
      "building a node2vec model...\tnumber of walks: 83470\taverage walk length: 9.0881\ttrainig time: 19.6377\n",
      "building a DeepWalk model...\tnumber of walks: 83470\taverage walk length: 9.0894\ttrainig time: 18.2542\n",
      "building a node2vec model...\tnumber of walks: 83470\taverage walk length: 9.0604\ttrainig time: 19.8398\n",
      "building a DeepWalk model...\tnumber of walks: 83470\taverage walk length: 9.0894\ttrainig time: 19.0618\n",
      "building a node2vec model...\tnumber of walks: 83470\taverage walk length: 9.0652\ttrainig time: 21.4293\n",
      "building a DeepWalk model...\tnumber of walks: 83470\taverage walk length: 9.0894\ttrainig time: 17.8432\n",
      "building a node2vec model...\tnumber of walks: 83470\taverage walk length: 9.0633\ttrainig time: 18.2719\n",
      "building a DeepWalk model...\tnumber of walks: 83470\taverage walk length: 9.0894\ttrainig time: 17.9361\n",
      "building a node2vec model...\tnumber of walks: 83470\taverage walk length: 9.0669\ttrainig time: 18.1185\n",
      "building a DeepWalk model...\tnumber of walks: 83470\taverage walk length: 9.0894\ttrainig time: 17.7302\n",
      "building a node2vec model...\tnumber of walks: 83470\taverage walk length: 9.0719\ttrainig time: 18.2145\n",
      "building a DeepWalk model...\tnumber of walks: 83470\taverage walk length: 9.0894\ttrainig time: 21.4611\n",
      "building a node2vec model...\tnumber of walks: 83470\taverage walk length: 9.0733\ttrainig time: 22.7241\n",
      "building a DeepWalk model...\tnumber of walks: 83470\taverage walk length: 9.0894\ttrainig time: 18.4815\n",
      "building a node2vec model...\tnumber of walks: 83470\taverage walk length: 9.0772\ttrainig time: 19.9752\n",
      "building a DeepWalk model...\tnumber of walks: 83470\taverage walk length: 9.0894\ttrainig time: 21.8051\n",
      "building a node2vec model...\tnumber of walks: 83470\taverage walk length: 9.0790\ttrainig time: 19.8855\n",
      "building a DeepWalk model...\tnumber of walks: 83470\taverage walk length: 9.0894\ttrainig time: 19.0004\n",
      "building a node2vec model...\tnumber of walks: 83470\taverage walk length: 9.0835\ttrainig time: 20.2035\n",
      "building a DeepWalk model...\tnumber of walks: 83470\taverage walk length: 9.0894\ttrainig time: 19.2620\n",
      "building a node2vec model...\tnumber of walks: 83470\taverage walk length: 9.0894\ttrainig time: 24.9374\n"
     ]
    }
   ],
   "source": [
    "np.random.seed(0)\n",
    "\n",
    "node_dim = 10\n",
    "num_walks = 10  \n",
    "walk_length = 10 \n",
    "p_list = [0.1,0.2,0.3,0.4,0.5,0.6,0.7,0.8,0.9,1.0]\n",
    "q_list = [0.1,0.2,0.3,0.4,0.5,0.6,0.7,0.8,0.9,1.0]\n",
    "\n",
    "deepwalk_auc_scores = list()\n",
    "node2vec_auc_scores = list()\n",
    "\n",
    "for p in p_list:\n",
    "    \n",
    "    deepwalk_scores = list()\n",
    "    node2vec_scores = list()\n",
    "    \n",
    "    for q in q_list:\n",
    "        alias_nodes, alias_edges = preprocess_transition_probs(graph, p=p, q=q)\n",
    "\n",
    "        # build models and get auc scores\n",
    "        model_deepwalk = build_deepwalk(graph, alias_nodes,\n",
    "                            node_dim=node_dim, num_walks=num_walks, walk_length=walk_length)\n",
    "        deepwalk_scores.append(get_auc_score(model_deepwalk, valid_edges, false_edges))\n",
    "    \n",
    "        model_node2vec = build_node2vec(graph, alias_nodes, alias_edges,\n",
    "                            node_dim=node_dim, num_walks=num_walks, walk_length=walk_length)\n",
    "        node2vec_scores.append(get_auc_score(model_node2vec, valid_edges, false_edges))\n",
    "    \n",
    "    deepwalk_auc_scores.append(deepwalk_scores)\n",
    "    node2vec_auc_scores.append(node2vec_scores)\n",
    "    \n",
    "deepwalk_auc_scores = np.array(deepwalk_auc_scores)\n",
    "node2vec_auc_scores = np.array(node2vec_auc_scores)"
   ]
  },
  {
   "cell_type": "code",
   "execution_count": 15,
   "metadata": {},
   "outputs": [],
   "source": [
    "import matplotlib.pyplot as plt\n",
    "import seaborn as sns"
   ]
  },
  {
   "cell_type": "code",
   "execution_count": 20,
   "metadata": {},
   "outputs": [
    {
     "data": {
      "image/png": "[encoded data removed]",
      "text/plain": [
       "<Figure size 432x288 with 2 Axes>"
      ]
     },
     "metadata": {
      "needs_background": "light"
     },
     "output_type": "display_data"
    }
   ],
   "source": [
    "ax_deepwalk = sns.heatmap(deepwalk_auc_scores, linewidth=0.5, xticklabels=q_list, yticklabels=p_list)\n",
    "ax_deepwalk.set_title(\"Tune p,q Deepwalk\")\n",
    "plt.show()"
   ]
  },
  {
   "cell_type": "code",
   "execution_count": 18,
   "metadata": {},
   "outputs": [
    {
     "data": {
      "image/png": "[encoded data removed]",
      "text/plain": [
       "<Figure size 432x288 with 2 Axes>"
      ]
     },
     "metadata": {
      "needs_background": "light"
     },
     "output_type": "display_data"
    }
   ],
   "source": [
    "ax_node2vec = sns.heatmap(node2vec_auc_scores, linewidth=0.5, xticklabels=q_list, yticklabels=p_list)\n",
    "ax_node2vec.set_title(\"Tune p,q node2vec\")\n",
    "plt.show()"
   ]
  },
  {
   "cell_type": "markdown",
   "metadata": {},
   "source": [
    "- num_walks / walk_length"
   ]
  },
  {
   "cell_type": "code",
   "execution_count": 21,
   "metadata": {
    "scrolled": true
   },
   "outputs": [
    {
     "name": "stdout",
     "output_type": "stream",
     "text": [
      "building a DeepWalk model...\tnumber of walks: 83470\taverage walk length: 9.0894\ttrainig time: 21.8925\n",
      "building a DeepWalk model...\tnumber of walks: 83470\taverage walk length: 13.4127\ttrainig time: 25.8959\n",
      "building a DeepWalk model...\tnumber of walks: 83470\taverage walk length: 17.6472\ttrainig time: 33.4909\n",
      "building a DeepWalk model...\tnumber of walks: 83470\taverage walk length: 21.7593\ttrainig time: 40.1336\n",
      "building a DeepWalk model...\tnumber of walks: 83470\taverage walk length: 25.7928\ttrainig time: 59.5520\n",
      "building a DeepWalk model...\tnumber of walks: 125205\taverage walk length: 9.0864\ttrainig time: 29.6178\n",
      "building a DeepWalk model...\tnumber of walks: 125205\taverage walk length: 13.4104\ttrainig time: 47.8719\n",
      "building a DeepWalk model...\tnumber of walks: 125205\taverage walk length: 17.6439\ttrainig time: 54.6048\n",
      "building a DeepWalk model...\tnumber of walks: 125205\taverage walk length: 21.7568\ttrainig time: 67.0513\n",
      "building a DeepWalk model...\tnumber of walks: 125205\taverage walk length: 25.8040\ttrainig time: 77.5941\n",
      "building a DeepWalk model...\tnumber of walks: 166940\taverage walk length: 9.0859\ttrainig time: 41.8746\n",
      "building a DeepWalk model...\tnumber of walks: 166940\taverage walk length: 13.4092\ttrainig time: 54.0229\n",
      "building a DeepWalk model...\tnumber of walks: 166940\taverage walk length: 17.6393\ttrainig time: 73.1404\n",
      "building a DeepWalk model...\tnumber of walks: 166940\taverage walk length: 21.7531\ttrainig time: 86.1818\n",
      "building a DeepWalk model...\tnumber of walks: 166940\taverage walk length: 25.8061\ttrainig time: 110.3621\n",
      "building a DeepWalk model...\tnumber of walks: 208675\taverage walk length: 9.0855\ttrainig time: 45.0907\n",
      "building a DeepWalk model...\tnumber of walks: 208675\taverage walk length: 13.4092\ttrainig time: 66.8226\n",
      "building a DeepWalk model...\tnumber of walks: 208675\taverage walk length: 17.6386\ttrainig time: 86.7573\n",
      "building a DeepWalk model...\tnumber of walks: 208675\taverage walk length: 21.7598\ttrainig time: 116.3682\n",
      "building a DeepWalk model...\tnumber of walks: 208675\taverage walk length: 25.8089\ttrainig time: 129.3723\n",
      "building a DeepWalk model...\tnumber of walks: 250410\taverage walk length: 9.0854\ttrainig time: 53.7058\n",
      "building a DeepWalk model...\tnumber of walks: 250410\taverage walk length: 13.4093\ttrainig time: 79.0106\n",
      "building a DeepWalk model...\tnumber of walks: 250410\taverage walk length: 17.6372\ttrainig time: 103.7238\n",
      "building a DeepWalk model...\tnumber of walks: 250410\taverage walk length: 21.7623\ttrainig time: 125.1658\n",
      "building a DeepWalk model...\tnumber of walks: 250410\taverage walk length: 25.8127\ttrainig time: 163.3811\n"
     ]
    }
   ],
   "source": [
    "## For Deepwalk model\n",
    "np.random.seed(0)\n",
    "\n",
    "node_dim = 10\n",
    "num_walks_list = [10,15,20,25,30]  # 10-30\n",
    "walk_length_list =[10,15,20,25,30]  # 10-30\n",
    "p = 0.2\n",
    "q = 0.2\n",
    "\n",
    "deepwalk_auc_scores = list()\n",
    "\n",
    "alias_nodes, alias_edges = preprocess_transition_probs(graph, p=p, q=q)\n",
    "\n",
    "for num_walks in num_walks_list:\n",
    "    \n",
    "    deepwalk_scores = list()\n",
    "    \n",
    "    for walk_length in walk_length_list:\n",
    "        \n",
    "        # build models and get auc scores\n",
    "        model_deepwalk = build_deepwalk(graph, alias_nodes,\n",
    "                            node_dim=node_dim, num_walks=num_walks, walk_length=walk_length)\n",
    "        deepwalk_scores.append(get_auc_score(model_deepwalk, valid_edges, false_edges))\n",
    "    \n",
    "    \n",
    "    deepwalk_auc_scores.append(deepwalk_scores)\n",
    "    \n",
    "deepwalk_auc_scores = np.array(deepwalk_auc_scores)"
   ]
  },
  {
   "cell_type": "code",
   "execution_count": 22,
   "metadata": {},
   "outputs": [
    {
     "data": {
      "image/png": "[encoded data removed]",
      "text/plain": [
       "<Figure size 432x288 with 2 Axes>"
      ]
     },
     "metadata": {
      "needs_background": "light"
     },
     "output_type": "display_data"
    }
   ],
   "source": [
    "ax_deepwalk_2 = sns.heatmap(deepwalk_auc_scores,annot=True,fmt='.4g', linewidth=0.5, xticklabels=walk_length_list, yticklabels=num_walks_list)\n",
    "ax_deepwalk_2.set_title(\"Tune num_walks/walk_length Deepwalk\")\n",
    "plt.show()"
   ]
  },
  {
   "cell_type": "code",
   "execution_count": 23,
   "metadata": {
    "scrolled": true
   },
   "outputs": [
    {
     "name": "stdout",
     "output_type": "stream",
     "text": [
      "building a node2vec model...\tnumber of walks: 83470\taverage walk length: 9.1178\ttrainig time: 19.2953\n",
      "building a node2vec model...\tnumber of walks: 83470\taverage walk length: 13.4806\ttrainig time: 29.5644\n",
      "building a node2vec model...\tnumber of walks: 83470\taverage walk length: 17.7404\ttrainig time: 37.2344\n",
      "building a node2vec model...\tnumber of walks: 83470\taverage walk length: 21.9480\ttrainig time: 45.0300\n",
      "building a node2vec model...\tnumber of walks: 83470\taverage walk length: 26.0359\ttrainig time: 56.2875\n",
      "building a node2vec model...\tnumber of walks: 125205\taverage walk length: 9.1157\ttrainig time: 27.3295\n",
      "building a node2vec model...\tnumber of walks: 125205\taverage walk length: 13.4800\ttrainig time: 41.9918\n",
      "building a node2vec model...\tnumber of walks: 125205\taverage walk length: 17.7406\ttrainig time: 52.4213\n",
      "building a node2vec model...\tnumber of walks: 125205\taverage walk length: 21.9505\ttrainig time: 68.3846\n",
      "building a node2vec model...\tnumber of walks: 125205\taverage walk length: 26.0366\ttrainig time: 83.1258\n",
      "building a node2vec model...\tnumber of walks: 166940\taverage walk length: 9.1159\ttrainig time: 37.1821\n",
      "building a node2vec model...\tnumber of walks: 166940\taverage walk length: 13.4807\ttrainig time: 57.8974\n",
      "building a node2vec model...\tnumber of walks: 166940\taverage walk length: 17.7405\ttrainig time: 71.7828\n",
      "building a node2vec model...\tnumber of walks: 166940\taverage walk length: 21.9519\ttrainig time: 109.5517\n",
      "building a node2vec model...\tnumber of walks: 166940\taverage walk length: 26.0513\ttrainig time: 109.6519\n",
      "building a node2vec model...\tnumber of walks: 208675\taverage walk length: 9.1169\ttrainig time: 45.5909\n",
      "building a node2vec model...\tnumber of walks: 208675\taverage walk length: 13.4811\ttrainig time: 64.3317\n",
      "building a node2vec model...\tnumber of walks: 208675\taverage walk length: 17.7406\ttrainig time: 84.5936\n",
      "building a node2vec model...\tnumber of walks: 208675\taverage walk length: 21.9453\ttrainig time: 99.1533\n",
      "building a node2vec model...\tnumber of walks: 208675\taverage walk length: 26.0511\ttrainig time: 117.6880\n",
      "building a node2vec model...\tnumber of walks: 250410\taverage walk length: 9.1176\ttrainig time: 49.6320\n",
      "building a node2vec model...\tnumber of walks: 250410\taverage walk length: 13.4832\ttrainig time: 72.9537\n",
      "building a node2vec model...\tnumber of walks: 250410\taverage walk length: 17.7427\ttrainig time: 98.3267\n",
      "building a node2vec model...\tnumber of walks: 250410\taverage walk length: 21.9484\ttrainig time: 116.9058\n",
      "building a node2vec model...\tnumber of walks: 250410\taverage walk length: 26.0502\ttrainig time: 169.7283\n"
     ]
    }
   ],
   "source": [
    "## For node2vec model\n",
    "np.random.seed(0)\n",
    "\n",
    "node_dim = 10\n",
    "num_walks_list = [10,15,20,25,30]  # 10-30\n",
    "walk_length_list =[10,15,20,25,30]  # 10-30\n",
    "p = 0.2\n",
    "q = 1.0\n",
    "\n",
    "node2vec_auc_scores = list()\n",
    "\n",
    "alias_nodes, alias_edges = preprocess_transition_probs(graph, p=p, q=q)\n",
    "\n",
    "for num_walks in num_walks_list:\n",
    "    \n",
    "    node2vec_scores = list()\n",
    "    \n",
    "    for walk_length in walk_length_list:\n",
    "        \n",
    "        # build models and get auc scores\n",
    "        model_node2vec = build_node2vec(graph, alias_nodes, alias_edges,\n",
    "                            node_dim=node_dim, num_walks=num_walks, walk_length=walk_length)\n",
    "        node2vec_scores.append(get_auc_score(model_node2vec, valid_edges, false_edges))\n",
    "    \n",
    "    \n",
    "    node2vec_auc_scores.append(node2vec_scores)\n",
    "    \n",
    "node2vec_auc_scores = np.array(node2vec_auc_scores)"
   ]
  },
  {
   "cell_type": "code",
   "execution_count": 24,
   "metadata": {
    "scrolled": false
   },
   "outputs": [
    {
     "data": {
      "image/png": "[encoded data removed]",
      "text/plain": [
       "<Figure size 432x288 with 2 Axes>"
      ]
     },
     "metadata": {
      "needs_background": "light"
     },
     "output_type": "display_data"
    }
   ],
   "source": [
    "ax_node2vec_2 = sns.heatmap(node2vec_auc_scores, annot=True, fmt='.4g', linewidth=0.5, xticklabels=walk_length_list, yticklabels=num_walks_list)\n",
    "ax_node2vec_2.set_title(\"Tune num_walks/walk_length node2vec\")\n",
    "plt.show()"
   ]
  },
  {
   "cell_type": "markdown",
   "metadata": {},
   "source": [
    "- Final adjustment: DeepWalk"
   ]
  },
  {
   "cell_type": "code",
   "execution_count": 33,
   "metadata": {
    "scrolled": true
   },
   "outputs": [
    {
     "name": "stdout",
     "output_type": "stream",
     "text": [
      "building a DeepWalk model...\tnumber of walks: 166940\taverage walk length: 13.4092\ttrainig time: 47.9630\n",
      "building a DeepWalk model...\tnumber of walks: 166940\taverage walk length: 13.4092\ttrainig time: 47.7352\n",
      "building a DeepWalk model...\tnumber of walks: 166940\taverage walk length: 13.4092\ttrainig time: 47.5087\n",
      "building a DeepWalk model...\tnumber of walks: 166940\taverage walk length: 13.4092\ttrainig time: 48.3327\n",
      "building a DeepWalk model...\tnumber of walks: 166940\taverage walk length: 13.4092\ttrainig time: 48.3744\n",
      "building a DeepWalk model...\tnumber of walks: 166940\taverage walk length: 13.4092\ttrainig time: 48.7772\n",
      "building a DeepWalk model...\tnumber of walks: 166940\taverage walk length: 13.4092\ttrainig time: 47.8357\n",
      "building a DeepWalk model...\tnumber of walks: 166940\taverage walk length: 13.4092\ttrainig time: 47.9428\n",
      "building a DeepWalk model...\tnumber of walks: 166940\taverage walk length: 13.4092\ttrainig time: 47.9405\n",
      "building a DeepWalk model...\tnumber of walks: 166940\taverage walk length: 13.4092\ttrainig time: 48.1834\n",
      "building a DeepWalk model...\tnumber of walks: 166940\taverage walk length: 13.4092\ttrainig time: 48.7796\n",
      "building a DeepWalk model...\tnumber of walks: 166940\taverage walk length: 13.4092\ttrainig time: 48.3076\n",
      "building a DeepWalk model...\tnumber of walks: 166940\taverage walk length: 13.4092\ttrainig time: 47.8926\n",
      "building a DeepWalk model...\tnumber of walks: 166940\taverage walk length: 13.4092\ttrainig time: 47.7028\n",
      "building a DeepWalk model...\tnumber of walks: 166940\taverage walk length: 13.4092\ttrainig time: 47.8330\n",
      "building a DeepWalk model...\tnumber of walks: 166940\taverage walk length: 13.4092\ttrainig time: 48.2695\n",
      "building a DeepWalk model...\tnumber of walks: 166940\taverage walk length: 13.4092\ttrainig time: 48.8849\n",
      "building a DeepWalk model...\tnumber of walks: 166940\taverage walk length: 13.4092\ttrainig time: 48.5473\n",
      "building a DeepWalk model...\tnumber of walks: 166940\taverage walk length: 13.4092\ttrainig time: 47.7232\n",
      "building a DeepWalk model...\tnumber of walks: 166940\taverage walk length: 13.4092\ttrainig time: 47.8722\n",
      "building a DeepWalk model...\tnumber of walks: 166940\taverage walk length: 13.4092\ttrainig time: 47.9193\n",
      "building a DeepWalk model...\tnumber of walks: 166940\taverage walk length: 13.4092\ttrainig time: 48.0582\n",
      "building a DeepWalk model...\tnumber of walks: 166940\taverage walk length: 13.4092\ttrainig time: 48.5087\n",
      "building a DeepWalk model...\tnumber of walks: 166940\taverage walk length: 13.4092\ttrainig time: 48.4602\n",
      "building a DeepWalk model...\tnumber of walks: 166940\taverage walk length: 13.4092\ttrainig time: 47.9233\n",
      "building a DeepWalk model...\tnumber of walks: 166940\taverage walk length: 13.4092\ttrainig time: 47.6289\n",
      "building a DeepWalk model...\tnumber of walks: 166940\taverage walk length: 13.4092\ttrainig time: 48.0269\n",
      "building a DeepWalk model...\tnumber of walks: 166940\taverage walk length: 13.4092\ttrainig time: 48.4839\n",
      "building a DeepWalk model...\tnumber of walks: 166940\taverage walk length: 13.4092\ttrainig time: 48.9759\n",
      "building a DeepWalk model...\tnumber of walks: 166940\taverage walk length: 13.4092\ttrainig time: 49.1045\n",
      "building a DeepWalk model...\tnumber of walks: 166940\taverage walk length: 13.4092\ttrainig time: 48.2253\n",
      "building a DeepWalk model...\tnumber of walks: 166940\taverage walk length: 13.4092\ttrainig time: 52.5498\n",
      "building a DeepWalk model...\tnumber of walks: 166940\taverage walk length: 13.4092\ttrainig time: 48.7244\n",
      "building a DeepWalk model...\tnumber of walks: 166940\taverage walk length: 13.4092\ttrainig time: 47.9834\n",
      "building a DeepWalk model...\tnumber of walks: 166940\taverage walk length: 13.4092\ttrainig time: 48.0227\n",
      "building a DeepWalk model...\tnumber of walks: 166940\taverage walk length: 13.4092\ttrainig time: 48.7070\n",
      "building a DeepWalk model...\tnumber of walks: 166940\taverage walk length: 13.4092\ttrainig time: 48.2016\n",
      "building a DeepWalk model...\tnumber of walks: 166940\taverage walk length: 13.4092\ttrainig time: 47.8813\n",
      "building a DeepWalk model...\tnumber of walks: 166940\taverage walk length: 13.4092\ttrainig time: 48.2729\n",
      "building a DeepWalk model...\tnumber of walks: 166940\taverage walk length: 13.4092\ttrainig time: 47.7485\n",
      "building a DeepWalk model...\tnumber of walks: 166940\taverage walk length: 13.4092\ttrainig time: 48.1443\n",
      "building a DeepWalk model...\tnumber of walks: 166940\taverage walk length: 13.4092\ttrainig time: 48.3477\n",
      "building a DeepWalk model...\tnumber of walks: 166940\taverage walk length: 13.4092\ttrainig time: 48.2959\n",
      "building a DeepWalk model...\tnumber of walks: 166940\taverage walk length: 13.4092\ttrainig time: 47.9545\n",
      "building a DeepWalk model...\tnumber of walks: 166940\taverage walk length: 13.4092\ttrainig time: 48.7523\n",
      "building a DeepWalk model...\tnumber of walks: 166940\taverage walk length: 13.4092\ttrainig time: 47.9052\n",
      "building a DeepWalk model...\tnumber of walks: 166940\taverage walk length: 13.4092\ttrainig time: 47.8677\n",
      "building a DeepWalk model...\tnumber of walks: 166940\taverage walk length: 13.4092\ttrainig time: 48.2147\n",
      "building a DeepWalk model...\tnumber of walks: 166940\taverage walk length: 13.4092\ttrainig time: 48.3885\n",
      "building a DeepWalk model...\tnumber of walks: 166940\taverage walk length: 13.4092\ttrainig time: 48.3286\n",
      "building a DeepWalk model...\tnumber of walks: 166940\taverage walk length: 13.4092\ttrainig time: 47.7760\n",
      "building a DeepWalk model...\tnumber of walks: 166940\taverage walk length: 13.4092\ttrainig time: 47.7767\n",
      "building a DeepWalk model...\tnumber of walks: 166940\taverage walk length: 13.4092\ttrainig time: 47.8477\n",
      "building a DeepWalk model...\tnumber of walks: 166940\taverage walk length: 13.4092\ttrainig time: 48.7465\n",
      "building a DeepWalk model...\tnumber of walks: 166940\taverage walk length: 13.4092\ttrainig time: 48.8435\n",
      "building a DeepWalk model...\tnumber of walks: 166940\taverage walk length: 13.4092\ttrainig time: 47.7405\n",
      "building a DeepWalk model...\tnumber of walks: 166940\taverage walk length: 13.4092\ttrainig time: 48.0755\n",
      "building a DeepWalk model...\tnumber of walks: 166940\taverage walk length: 13.4092\ttrainig time: 47.5824\n",
      "building a DeepWalk model...\tnumber of walks: 166940\taverage walk length: 13.4092\ttrainig time: 47.9915\n",
      "building a DeepWalk model...\tnumber of walks: 166940\taverage walk length: 13.4092\ttrainig time: 48.5394\n",
      "building a DeepWalk model...\tnumber of walks: 166940\taverage walk length: 13.4092\ttrainig time: 49.5069\n",
      "building a DeepWalk model...\tnumber of walks: 166940\taverage walk length: 13.4092\ttrainig time: 47.7597\n",
      "building a DeepWalk model...\tnumber of walks: 166940\taverage walk length: 13.4092\ttrainig time: 47.6867\n",
      "building a DeepWalk model...\tnumber of walks: 166940\taverage walk length: 13.4092\ttrainig time: 48.0661\n",
      "building a DeepWalk model...\tnumber of walks: 166940\taverage walk length: 13.4092\ttrainig time: 47.6960\n",
      "building a DeepWalk model...\tnumber of walks: 166940\taverage walk length: 13.4092\ttrainig time: 49.1956\n",
      "building a DeepWalk model...\tnumber of walks: 166940\taverage walk length: 13.4092\ttrainig time: 48.3023\n",
      "building a DeepWalk model...\tnumber of walks: 166940\taverage walk length: 13.4092\ttrainig time: 47.6091\n",
      "building a DeepWalk model...\tnumber of walks: 166940\taverage walk length: 13.4092\ttrainig time: 47.9677\n",
      "building a DeepWalk model...\tnumber of walks: 166940\taverage walk length: 13.4092\ttrainig time: 47.8857\n",
      "building a DeepWalk model...\tnumber of walks: 166940\taverage walk length: 13.4092\ttrainig time: 47.8153\n",
      "building a DeepWalk model...\tnumber of walks: 166940\taverage walk length: 13.4092\ttrainig time: 50.0148\n",
      "building a DeepWalk model...\tnumber of walks: 166940\taverage walk length: 13.4092\ttrainig time: 48.4774\n",
      "building a DeepWalk model...\tnumber of walks: 166940\taverage walk length: 13.4092\ttrainig time: 47.9522\n",
      "building a DeepWalk model...\tnumber of walks: 166940\taverage walk length: 13.4092\ttrainig time: 47.7829\n",
      "building a DeepWalk model...\tnumber of walks: 166940\taverage walk length: 13.4092\ttrainig time: 47.8365\n",
      "building a DeepWalk model...\tnumber of walks: 166940\taverage walk length: 13.4092\ttrainig time: 47.7499\n",
      "building a DeepWalk model...\tnumber of walks: 166940\taverage walk length: 13.4092\ttrainig time: 48.9226\n",
      "building a DeepWalk model...\tnumber of walks: 166940\taverage walk length: 13.4092\ttrainig time: 48.5385\n",
      "building a DeepWalk model...\tnumber of walks: 166940\taverage walk length: 13.4092\ttrainig time: 47.9409\n",
      "building a DeepWalk model...\tnumber of walks: 166940\taverage walk length: 13.4092\ttrainig time: 48.0621\n",
      "building a DeepWalk model...\tnumber of walks: 166940\taverage walk length: 13.4092\ttrainig time: 47.7839\n",
      "building a DeepWalk model...\tnumber of walks: 166940\taverage walk length: 13.4092\ttrainig time: 49.0764\n",
      "building a DeepWalk model...\tnumber of walks: 166940\taverage walk length: 13.4092\ttrainig time: 48.1398\n",
      "building a DeepWalk model...\tnumber of walks: 166940\taverage walk length: 13.4092\ttrainig time: 48.4050\n",
      "building a DeepWalk model...\tnumber of walks: 166940\taverage walk length: 13.4092\ttrainig time: 47.6017\n",
      "building a DeepWalk model...\tnumber of walks: 166940\taverage walk length: 13.4092\ttrainig time: 47.6143\n",
      "building a DeepWalk model...\tnumber of walks: 166940\taverage walk length: 13.4092\ttrainig time: 47.7972\n",
      "building a DeepWalk model...\tnumber of walks: 166940\taverage walk length: 13.4092\ttrainig time: 48.1955\n",
      "building a DeepWalk model...\tnumber of walks: 166940\taverage walk length: 13.4092\ttrainig time: 49.5243\n",
      "building a DeepWalk model...\tnumber of walks: 166940\taverage walk length: 13.4092\ttrainig time: 48.7271\n",
      "building a DeepWalk model...\tnumber of walks: 166940\taverage walk length: 13.4092\ttrainig time: 47.7651\n",
      "building a DeepWalk model...\tnumber of walks: 166940\taverage walk length: 13.4092\ttrainig time: 47.9020\n",
      "building a DeepWalk model...\tnumber of walks: 166940\taverage walk length: 13.4092\ttrainig time: 48.7267\n",
      "building a DeepWalk model...\tnumber of walks: 166940\taverage walk length: 13.4092\ttrainig time: 47.9678\n",
      "building a DeepWalk model...\tnumber of walks: 166940\taverage walk length: 13.4092\ttrainig time: 48.5105\n",
      "building a DeepWalk model...\tnumber of walks: 166940\taverage walk length: 13.4092\ttrainig time: 48.7791\n",
      "building a DeepWalk model...\tnumber of walks: 166940\taverage walk length: 13.4092\ttrainig time: 47.9438\n",
      "building a DeepWalk model...\tnumber of walks: 166940\taverage walk length: 13.4092\ttrainig time: 48.4284\n",
      "building a DeepWalk model...\tnumber of walks: 166940\taverage walk length: 13.4092\ttrainig time: 47.9775\n"
     ]
    }
   ],
   "source": [
    "np.random.seed(0)\n",
    "\n",
    "node_dim = 10\n",
    "num_walks = 20  \n",
    "walk_length = 15 \n",
    "p_list = [0.1,0.2,0.3,0.4,0.5,0.6,0.7,0.8,0.9,1.0]\n",
    "q_list = [0.1,0.2,0.3,0.4,0.5,0.6,0.7,0.8,0.9,1.0]\n",
    "\n",
    "deepwalk_auc_scores = list()\n",
    "\n",
    "for p in p_list:\n",
    "    \n",
    "    deepwalk_scores = list()\n",
    "    \n",
    "    for q in q_list:\n",
    "        alias_nodes, alias_edges = preprocess_transition_probs(graph, p=p, q=q)\n",
    "\n",
    "        # build models and get auc scores\n",
    "        model_deepwalk = build_deepwalk(graph, alias_nodes,\n",
    "                            node_dim=node_dim, num_walks=num_walks, walk_length=walk_length)\n",
    "        deepwalk_scores.append(get_auc_score(model_deepwalk, valid_edges, false_edges))\n",
    "    \n",
    "    deepwalk_auc_scores.append(deepwalk_scores)\n",
    "    \n",
    "deepwalk_auc_scores = np.array(deepwalk_auc_scores)"
   ]
  },
  {
   "cell_type": "code",
   "execution_count": 34,
   "metadata": {},
   "outputs": [
    {
     "data": {
      "image/png": "[encoded data removed]",
      "text/plain": [
       "<Figure size 432x288 with 2 Axes>"
      ]
     },
     "metadata": {
      "needs_background": "light"
     },
     "output_type": "display_data"
    }
   ],
   "source": [
    "ax_deepwalk = sns.heatmap(deepwalk_auc_scores, linewidth=0.5, xticklabels=q_list, yticklabels=p_list)\n",
    "ax_deepwalk.set_title(\"Tune p,q Deepwalk\")\n",
    "plt.show()"
   ]
  },
  {
   "cell_type": "markdown",
   "metadata": {},
   "source": [
    "- Final adjustment: Node2Vec"
   ]
  },
  {
   "cell_type": "code",
   "execution_count": 25,
   "metadata": {
    "scrolled": true
   },
   "outputs": [
    {
     "name": "stdout",
     "output_type": "stream",
     "text": [
      "building a node2vec model...\tnumber of walks: 166940\taverage walk length: 17.7580\ttrainig time: 74.4778\n",
      "building a node2vec model...\tnumber of walks: 166940\taverage walk length: 17.7997\ttrainig time: 84.8372\n",
      "building a node2vec model...\tnumber of walks: 166940\taverage walk length: 17.8033\ttrainig time: 81.9362\n",
      "building a node2vec model...\tnumber of walks: 166940\taverage walk length: 17.8286\ttrainig time: 82.2816\n",
      "building a node2vec model...\tnumber of walks: 166940\taverage walk length: 17.7002\ttrainig time: 84.6482\n",
      "building a node2vec model...\tnumber of walks: 166940\taverage walk length: 17.7385\ttrainig time: 82.3038\n",
      "building a node2vec model...\tnumber of walks: 166940\taverage walk length: 17.7315\ttrainig time: 82.1760\n",
      "building a node2vec model...\tnumber of walks: 166940\taverage walk length: 17.7405\ttrainig time: 72.5506\n",
      "building a node2vec model...\tnumber of walks: 166940\taverage walk length: 17.6670\ttrainig time: 69.7995\n",
      "building a node2vec model...\tnumber of walks: 166940\taverage walk length: 17.6781\ttrainig time: 66.3847\n",
      "building a node2vec model...\tnumber of walks: 166940\taverage walk length: 17.6966\ttrainig time: 64.3035\n",
      "building a node2vec model...\tnumber of walks: 166940\taverage walk length: 17.7240\ttrainig time: 64.7280\n",
      "building a node2vec model...\tnumber of walks: 166940\taverage walk length: 17.6550\ttrainig time: 66.3786\n",
      "building a node2vec model...\tnumber of walks: 166940\taverage walk length: 17.6694\ttrainig time: 64.5382\n",
      "building a node2vec model...\tnumber of walks: 166940\taverage walk length: 17.6878\ttrainig time: 64.4142\n",
      "building a node2vec model...\tnumber of walks: 166940\taverage walk length: 17.6972\ttrainig time: 65.1987\n"
     ]
    }
   ],
   "source": [
    "np.random.seed(0)\n",
    "\n",
    "node_dim = 10\n",
    "num_walks = 20\n",
    "walk_length = 20 \n",
    "p_list = [0.1,0.2,0.3,0.4]\n",
    "q_list = [0.7,0.8,0.9,1.0]\n",
    "\n",
    "node2vec_auc_scores = list()\n",
    "\n",
    "for p in p_list:\n",
    "    \n",
    "    node2vec_scores = list()\n",
    "    \n",
    "    for q in q_list:\n",
    "        alias_nodes, alias_edges = preprocess_transition_probs(graph, p=p, q=q)\n",
    "\n",
    "        # build models and get auc scores\n",
    "        model_node2vec = build_node2vec(graph, alias_nodes, alias_edges,\n",
    "                            node_dim=node_dim, num_walks=num_walks, walk_length=walk_length)\n",
    "        node2vec_scores.append(get_auc_score(model_node2vec, valid_edges, false_edges))\n",
    "    \n",
    "    \n",
    "    node2vec_auc_scores.append(node2vec_scores)\n",
    "    \n",
    "node2vec_auc_scores = np.array(node2vec_auc_scores)"
   ]
  },
  {
   "cell_type": "code",
   "execution_count": 26,
   "metadata": {},
   "outputs": [
    {
     "data": {
      "image/png": "[encoded data removed]",
      "text/plain": [
       "<Figure size 432x288 with 2 Axes>"
      ]
     },
     "metadata": {
      "needs_background": "light"
     },
     "output_type": "display_data"
    }
   ],
   "source": [
    "ax_node2vec = sns.heatmap(node2vec_auc_scores,annot=True,fmt='.4g', linewidth=0.5, xticklabels=q_list, yticklabels=p_list)\n",
    "ax_node2vec.set_title(\"Tune p,q Node2vec\")\n",
    "plt.show()"
   ]
  },
  {
   "cell_type": "markdown",
   "metadata": {},
   "source": [
    "# Ensembled Model"
   ]
  },
  {
   "cell_type": "markdown",
   "metadata": {},
   "source": [
    "- Ensemble 2 DeepWalk and 2 Node2Vec models"
   ]
  },
  {
   "cell_type": "code",
   "execution_count": 28,
   "metadata": {},
   "outputs": [],
   "source": [
    "pred_scores = []"
   ]
  },
  {
   "cell_type": "code",
   "execution_count": 29,
   "metadata": {},
   "outputs": [],
   "source": [
    "def get_pred_score(model, true_edges, false_edges):\n",
    "   \n",
    "    y_score = list()\n",
    "    for e in true_edges:\n",
    "        y_score.append(get_cosine_sim(model, e[0], e[1]))\n",
    "    for e in false_edges:\n",
    "        y_score.append(get_cosine_sim(model, e[0], e[1]))\n",
    "    \n",
    "    return y_score"
   ]
  },
  {
   "cell_type": "markdown",
   "metadata": {},
   "source": [
    "- Deepwalk model"
   ]
  },
  {
   "cell_type": "code",
   "execution_count": 35,
   "metadata": {},
   "outputs": [],
   "source": [
    "np.random.seed(0)\n",
    "\n",
    "node_dim = 10\n",
    "num_walks = 20 \n",
    "walk_length = 15 \n",
    "p = 0.3\n",
    "q = 0.3"
   ]
  },
  {
   "cell_type": "code",
   "execution_count": 36,
   "metadata": {
    "scrolled": true
   },
   "outputs": [
    {
     "name": "stdout",
     "output_type": "stream",
     "text": [
      "building a DeepWalk model...\tnumber of walks: 166940\taverage walk length: 13.4092\ttrainig time: 49.3838\n",
      "DeepWalk: auc score: 0.9330\n",
      "building a DeepWalk model...\tnumber of walks: 166940\taverage walk length: 13.4092\ttrainig time: 53.6110\n",
      "DeepWalk: auc score: 0.9337\n"
     ]
    }
   ],
   "source": [
    "alias_nodes, alias_edges = preprocess_transition_probs(graph, p=p, q=q)\n",
    "\n",
    "    # build models and get auc scores\n",
    "model_deepwalk_1 = build_deepwalk(graph, alias_nodes,\n",
    "                                node_dim=node_dim, num_walks=num_walks, walk_length=walk_length)\n",
    "deepwalk_auc_score_1 = get_auc_score(model_deepwalk_1, valid_edges, false_edges)\n",
    "print(\"DeepWalk: auc score: %.4f\" %(deepwalk_auc_score_1)) \n",
    "    \n",
    "pre_score_1 = get_pred_score(model_deepwalk_1, valid_edges, false_edges) \n",
    "pred_scores.append(pre_score_1)\n",
    "\n",
    "model_deepwalk_2 = build_deepwalk(graph, alias_nodes,\n",
    "                                node_dim=node_dim, num_walks=num_walks, walk_length=walk_length)\n",
    "deepwalk_auc_score_2 = get_auc_score(model_deepwalk_2, valid_edges, false_edges)\n",
    "print(\"DeepWalk: auc score: %.4f\" %(deepwalk_auc_score_2)) \n",
    "    \n",
    "pre_score_2 = get_pred_score(model_deepwalk_2, valid_edges, false_edges) \n",
    "pred_scores.append(pre_score_2)"
   ]
  },
  {
   "cell_type": "markdown",
   "metadata": {},
   "source": [
    "- Node2Vec"
   ]
  },
  {
   "cell_type": "code",
   "execution_count": 27,
   "metadata": {},
   "outputs": [],
   "source": [
    "node_dim = 10\n",
    "num_walks = 20\n",
    "walk_length = 20 \n",
    "p = 0.2\n",
    "q = 1.0"
   ]
  },
  {
   "cell_type": "code",
   "execution_count": 30,
   "metadata": {},
   "outputs": [
    {
     "name": "stdout",
     "output_type": "stream",
     "text": [
      "building a node2vec model...\tnumber of walks: 166940\taverage walk length: 17.7405\ttrainig time: 71.0130\n",
      "Node2vec: auc score: 0.9335\n",
      "building a node2vec model...\tnumber of walks: 166940\taverage walk length: 17.7405\ttrainig time: 65.5638\n",
      "Node2vec: auc score: 0.9339\n"
     ]
    }
   ],
   "source": [
    "alias_nodes, alias_edges = preprocess_transition_probs(graph, p=p, q=q)\n",
    "\n",
    "    # build models and get auc scores\n",
    "model_node2vec_1 = build_node2vec(graph, alias_nodes,alias_edges,\n",
    "                                node_dim=node_dim, num_walks=num_walks, walk_length=walk_length) \n",
    "node2vec_auc_score_1 = get_auc_score(model_node2vec_1, valid_edges, false_edges)\n",
    "print(\"Node2vec: auc score: %.4f\" %(node2vec_auc_score_1 )) \n",
    "    \n",
    "pre_score_1 = get_pred_score(model_node2vec_1, valid_edges, false_edges)\n",
    "pred_scores.append(pre_score_1)\n",
    "\n",
    "model_node2vec_2 = build_node2vec(graph, alias_nodes,alias_edges,\n",
    "                                node_dim=node_dim, num_walks=num_walks, walk_length=walk_length) \n",
    "node2vec_auc_score_2 = get_auc_score(model_node2vec_2, valid_edges, false_edges)\n",
    "print(\"Node2vec: auc score: %.4f\" %(node2vec_auc_score_2 )) \n",
    "    \n",
    "pre_score_2 = get_pred_score(model_node2vec_2, valid_edges, false_edges)\n",
    "pred_scores.append(pre_score_2)"
   ]
  },
  {
   "cell_type": "markdown",
   "metadata": {},
   "source": [
    "- Average across Prediction"
   ]
  },
  {
   "cell_type": "code",
   "execution_count": 39,
   "metadata": {},
   "outputs": [],
   "source": [
    "pred_scores = np.array(pred_scores)\n",
    "pred_scores = list(np.mean(pred_scores, axis = 0))"
   ]
  },
  {
   "cell_type": "code",
   "execution_count": 40,
   "metadata": {},
   "outputs": [],
   "source": [
    "write_predictions('data/valid_pred.csv', src, dst, pred_scores)"
   ]
  },
  {
   "cell_type": "markdown",
   "metadata": {},
   "source": [
    "# AUC Score"
   ]
  },
  {
   "cell_type": "code",
   "execution_count": 41,
   "metadata": {},
   "outputs": [
    {
     "name": "stdout",
     "output_type": "stream",
     "text": [
      "auc score: 0.9378028594484028\n"
     ]
    }
   ],
   "source": [
    "ans = pd.read_csv(\"data/valid_ans.csv\", usecols=[\"src\", \"dst\", \"score\"])\n",
    "pred = pd.read_csv(r\"data/valid_pred.csv\", usecols=[\"src\", \"dst\", \"score\"])\n",
    "df = pd.merge(ans, pred, how=\"left\", on=[\"src\", \"dst\"])\n",
    "df.fillna(0, inplace=True)\n",
    "auc_score = roc_auc_score(df[\"score_x\"], df[\"score_y\"])\n",
    "print(\"auc score:\", auc_score)"
   ]
  },
  {
   "cell_type": "markdown",
   "metadata": {},
   "source": [
    "# Write Prediction on Testing data"
   ]
  },
  {
   "cell_type": "code",
   "execution_count": 42,
   "metadata": {},
   "outputs": [],
   "source": [
    "test = pd.read_csv(\"data/test.csv\")\n",
    "test = test.drop(columns=\"score\")"
   ]
  },
  {
   "cell_type": "code",
   "execution_count": 43,
   "metadata": {},
   "outputs": [],
   "source": [
    "test_edges = list(test.to_records(index=False))"
   ]
  },
  {
   "cell_type": "code",
   "execution_count": 44,
   "metadata": {},
   "outputs": [],
   "source": [
    "def get_test_score(model, test_edges):\n",
    "   \n",
    "    y_score = list()\n",
    "    for e in test_edges:\n",
    "        y_score.append(get_cosine_sim(model, e[0], e[1]))\n",
    "    \n",
    "    return y_score"
   ]
  },
  {
   "cell_type": "code",
   "execution_count": 46,
   "metadata": {},
   "outputs": [],
   "source": [
    "pre_test_score = []\n",
    "pre_test_score_1 = get_test_score(model_deepwalk_1, test_edges)\n",
    "pre_test_score.append(pre_test_score_1)\n",
    "pre_test_score_2 = get_test_score(model_deepwalk_2, test_edges)\n",
    "pre_test_score.append(pre_test_score_2)\n",
    "pre_test_score_3 = get_test_score(model_node2vec_1, test_edges)\n",
    "pre_test_score.append(pre_test_score_3)\n",
    "pre_test_score_4 = get_test_score(model_node2vec_2, test_edges)\n",
    "pre_test_score.append(pre_test_score_4)"
   ]
  },
  {
   "cell_type": "code",
   "execution_count": 49,
   "metadata": {},
   "outputs": [],
   "source": [
    "pre_test_score = np.array(pre_test_score)\n",
    "pre_test_score = list(np.mean(pre_test_score, axis = 0))"
   ]
  },
  {
   "cell_type": "code",
   "execution_count": 52,
   "metadata": {},
   "outputs": [],
   "source": [
    "write_predictions('test_pred.csv', list(test[\"src\"]), list(test[\"dst\"]), pre_test_score)"
   ]
  }
 ],
 "metadata": {
  "kernelspec": {
   "display_name": "Python 3",
   "language": "python",
   "name": "python3"
  },
  "language_info": {
   "codemirror_mode": {
    "name": "ipython",
    "version": 3
   },
   "file_extension": ".py",
   "mimetype": "text/x-python",
   "name": "python",
   "nbconvert_exporter": "python",
   "pygments_lexer": "ipython3",
   "version": "3.6.10"
  }
 },
 "nbformat": 4,
 "nbformat_minor": 4
}
