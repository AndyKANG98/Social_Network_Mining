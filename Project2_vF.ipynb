{
 "cells": [
  {
   "cell_type": "code",
   "execution_count": 1,
   "metadata": {},
   "outputs": [
    {
     "name": "stderr",
     "output_type": "stream",
     "text": [
      "unable to import 'smart_open.gcs', disabling that module\n"
     ]
    }
   ],
   "source": [
    "import networkx as nx\n",
    "import numpy as np\n",
    "import os\n",
    "import time\n",
    "import pandas as pd\n",
    "from itertools import chain\n",
    "from collections import defaultdict\n",
    "from gensim.models import Word2Vec\n",
    "from sklearn.model_selection import KFold\n",
    "from sklearn.metrics import roc_auc_score"
   ]
  },
  {
   "cell_type": "markdown",
   "metadata": {},
   "source": [
    "# Pipeline"
   ]
  },
  {
   "cell_type": "markdown",
   "metadata": {},
   "source": [
    "### Data Loader"
   ]
  },
  {
   "cell_type": "code",
   "execution_count": 2,
   "metadata": {},
   "outputs": [],
   "source": [
    "def load_data(file_name):\n",
    "    \"\"\"\n",
    "    read edges from an edge file\n",
    "    \"\"\"\n",
    "    edges = list()\n",
    "    df = pd.read_csv(file_name)\n",
    "    for idx, row in df.iterrows():\n",
    "        user_id, friends = row[\"user_id\"], eval(row[\"friends\"])\n",
    "        for friend in friends:\n",
    "            # add each friend relation as an edge\n",
    "            edges.append((user_id, friend))\n",
    "    edges = sorted(edges)\n",
    "    \n",
    "    return edges\n",
    "\n",
    "def generate_false_edges(true_edges, num_false_edges=5):\n",
    "    \"\"\"\n",
    "    generate false edges given true edges\n",
    "    \"\"\"\n",
    "    nodes = list(set(chain.from_iterable(true_edges)))\n",
    "    true_edges = set(true_edges)\n",
    "    false_edges = set()\n",
    "    \n",
    "    while len(false_edges) < num_false_edges:\n",
    "        # randomly sample two different nodes and check whether the pair exisit or not\n",
    "        head, tail = np.random.choice(nodes, 2)\n",
    "        if head != tail and (head, tail) not in true_edges and (head, tail) not in false_edges:\n",
    "            false_edges.add((head, tail))    \n",
    "    false_edges = sorted(false_edges)\n",
    "    \n",
    "    return false_edges\n",
    "\n",
    "def construct_graph_from_edges(edges):\n",
    "    \"\"\"\n",
    "    generate a directed graph object given true edges\n",
    "    DiGraph documentation: https://networkx.github.io/documentation/stable/reference/classes/digraph.html\n",
    "    \"\"\"\n",
    "    # convert a list of edges {(u, v)} to a list of edges with weights {(u, v, w)}\n",
    "    edge_weight = defaultdict(float)\n",
    "    for e in edges:\n",
    "        edge_weight[e] += 1.0\n",
    "    weighed_edge_list = list()\n",
    "    for e in sorted(edge_weight.keys()):\n",
    "        weighed_edge_list.append((e[0], e[1], edge_weight[e]))\n",
    "        \n",
    "    graph = nx.DiGraph()\n",
    "    graph.add_weighted_edges_from(weighed_edge_list)\n",
    "    \n",
    "    print(\"number of nodes:\", graph.number_of_nodes())\n",
    "    print(\"number of edges:\", graph.number_of_edges())\n",
    "    \n",
    "    return graph"
   ]
  },
  {
   "cell_type": "markdown",
   "metadata": {},
   "source": [
    "### Random Walk Generator"
   ]
  },
  {
   "cell_type": "code",
   "execution_count": 3,
   "metadata": {},
   "outputs": [],
   "source": [
    "def alias_setup(probs):\n",
    "    \"\"\"\n",
    "    compute utility lists for non-uniform sampling from discrete distributions.\n",
    "    details: https://lips.cs.princeton.edu/the-alias-method-efficient-sampling-with-many-discrete-outcomes/\n",
    "    \"\"\"\n",
    "    K = len(probs)\n",
    "    q = np.zeros(K)\n",
    "    J = np.zeros(K, dtype=np.int)\n",
    "\n",
    "    smaller = list()\n",
    "    larger = list()\n",
    "    for kk, prob in enumerate(probs):\n",
    "        q[kk] = K * prob\n",
    "        if q[kk] < 1.0:\n",
    "            smaller.append(kk)\n",
    "        else:\n",
    "            larger.append(kk)\n",
    "\n",
    "    while len(smaller) > 0 and len(larger) > 0:\n",
    "        small = smaller.pop()\n",
    "        large = larger.pop()\n",
    "\n",
    "        J[small] = large\n",
    "        q[large] = q[large] + q[small] - 1.0\n",
    "        if q[large] < 1.0:\n",
    "            smaller.append(large)\n",
    "        else:\n",
    "            larger.append(large)\n",
    "\n",
    "    return J, q\n",
    "\n",
    "def get_alias_node(graph, node):\n",
    "    \"\"\"\n",
    "    get the alias node setup lists for a given node.\n",
    "    \"\"\"\n",
    "    # get the unnormalized probabilities with the first-order information\n",
    "    unnormalized_probs = list()\n",
    "    for nbr in graph.neighbors(node):\n",
    "        unnormalized_probs.append(graph[node][nbr]['weight'])\n",
    "    unnormalized_probs = np.array(unnormalized_probs)\n",
    "    if len(unnormalized_probs) > 0:\n",
    "        normalized_probs = unnormalized_probs / unnormalized_probs.sum()\n",
    "    else:\n",
    "        normalized_probs = unnormalized_probs\n",
    "        \n",
    "    return alias_setup(normalized_probs)\n",
    "    \n",
    "def get_alias_edge(graph, src, dst, p=1, q=1):\n",
    "    \"\"\"\n",
    "    get the alias edge setup lists for a given edge.\n",
    "    \"\"\"\n",
    "    # get the unnormalized probabilities with the second-order information\n",
    "    unnormalized_probs = list()\n",
    "    for dst_nbr in graph.neighbors(dst):\n",
    "        if dst_nbr == src: # distance is 0\n",
    "            unnormalized_probs.append(graph[dst][dst_nbr]['weight'] / p)\n",
    "        elif graph.has_edge(dst_nbr, src): # distance is 1\n",
    "            unnormalized_probs.append(graph[dst][dst_nbr]['weight'])\n",
    "        else: # distance is 2\n",
    "            unnormalized_probs.append(graph[dst][dst_nbr]['weight'] / q)\n",
    "    unnormalized_probs = np.array(unnormalized_probs)\n",
    "    if len(unnormalized_probs) > 0:\n",
    "        normalized_probs = unnormalized_probs / unnormalized_probs.sum()\n",
    "    else:\n",
    "        normalized_probs = unnormalized_probs\n",
    "\n",
    "    return alias_setup(normalized_probs)\n",
    "\n",
    "def preprocess_transition_probs(graph, p=1, q=1):\n",
    "    \"\"\"\n",
    "    preprocess transition probabilities for guiding the random walks.\n",
    "    \"\"\"\n",
    "    alias_nodes = dict()\n",
    "    for node in graph.nodes():\n",
    "        alias_nodes[node] = get_alias_node(graph, node)\n",
    "\n",
    "    alias_edges = dict()\n",
    "    for edge in graph.edges():\n",
    "        alias_edges[edge] = get_alias_edge(graph, edge[0], edge[1], p=p, q=q)\n",
    "\n",
    "    return alias_nodes, alias_edges"
   ]
  },
  {
   "cell_type": "code",
   "execution_count": 4,
   "metadata": {},
   "outputs": [],
   "source": [
    "def alias_draw(J, q):\n",
    "    \"\"\"\n",
    "    draw sample from a non-uniform discrete distribution using alias sampling.\n",
    "    \"\"\"\n",
    "    K = len(J)\n",
    "\n",
    "    kk = int(np.floor(np.random.rand() * K))\n",
    "    if np.random.rand() < q[kk]:\n",
    "        return kk\n",
    "    else:\n",
    "        return J[kk]\n",
    "\n",
    "def generate_first_order_random_walk(graph, alias_nodes, walk_length=10, start_node=None):\n",
    "    \"\"\"\n",
    "    simulate a random walk starting from start node and considering the first order information.\n",
    "    \"\"\"\n",
    "    if start_node == None:\n",
    "        start_node = np.random.choice(graph.nodes())\n",
    "    walk = [start_node]\n",
    "    cur = start_node\n",
    "    while len(walk) < walk_length:\n",
    "        cur_nbrs = list(graph.neighbors(cur))\n",
    "        if len(cur_nbrs) > 0:\n",
    "            # sample the next node based on alias_nodes\n",
    "            cur = cur_nbrs[alias_draw(*alias_nodes[cur])]\n",
    "            walk.append(cur)\n",
    "        else:\n",
    "            break\n",
    "\n",
    "    return walk\n",
    "    \n",
    "def generate_second_order_random_walk(graph, alias_nodes, alias_edges, walk_length=10, start_node=None):\n",
    "    \"\"\"\n",
    "    simulate a random walk starting from start node and considering the second order information.\n",
    "    \"\"\"\n",
    "    if start_node == None:\n",
    "        start_node = np.random.choice(graph.nodes())\n",
    "    walk = [start_node]\n",
    "    \n",
    "    prev = None\n",
    "    cur = start_node\n",
    "    while len(walk) < walk_length:\n",
    "        cur_nbrs = list(graph.neighbors(cur))\n",
    "        if len(cur_nbrs) > 0:\n",
    "            if prev is None:\n",
    "                # sample the next node based on alias_nodes\n",
    "                prev, cur = cur, cur_nbrs[alias_draw(*alias_nodes[cur])]\n",
    "            else:\n",
    "                # sample the next node based on alias_edges\n",
    "                prev, cur = cur, cur_nbrs[alias_draw(*alias_edges[(prev, cur)])]\n",
    "            walk.append(cur)\n",
    "        else:\n",
    "            break\n",
    "\n",
    "    return walk"
   ]
  },
  {
   "cell_type": "markdown",
   "metadata": {},
   "source": [
    "### Network Embedding Algorithms"
   ]
  },
  {
   "cell_type": "code",
   "execution_count": 5,
   "metadata": {},
   "outputs": [],
   "source": [
    "def build_deepwalk(graph, alias_nodes, node_dim=10, num_walks=10, walk_length=10):\n",
    "    \"\"\"\n",
    "    build a deepwalk model\n",
    "    \"\"\"\n",
    "    print(\"building a DeepWalk model...\", end=\"\\t\")\n",
    "    st = time.time()\n",
    "    np.random.seed(0)\n",
    "    nodes = list(graph.nodes())\n",
    "    walks = list()\n",
    "    # generate random walks\n",
    "    for walk_iter in range(num_walks):\n",
    "        np.random.shuffle(nodes)\n",
    "        for node in nodes:\n",
    "            walks.append(generate_first_order_random_walk(\n",
    "                graph, alias_nodes, walk_length=walk_length, start_node=node))\n",
    "        \n",
    "    walk_lens = [len(w) for w in walks]\n",
    "    if len(walk_lens) > 0:\n",
    "        avg_walk_len = sum(walk_lens) / len(walk_lens)\n",
    "    else:\n",
    "        avg_walk_len = 0.0\n",
    "    print(\"number of walks: %d\\taverage walk length: %.4f\" % (len(walks), avg_walk_len), end=\"\\t\")\n",
    "    \n",
    "    # train a skip-gram model for these walks\n",
    "    model = Word2Vec(walks, size=node_dim, window=3, min_count=0, sg=1, workers=os.cpu_count(), iter=10)\n",
    "    print(\"trainig time: %.4f\" % (time.time()-st))\n",
    "    \n",
    "    return model\n",
    "\n",
    "def build_node2vec(graph, alias_nodes, alias_edges, node_dim=10, num_walks=10, walk_length=10):\n",
    "    \"\"\"\n",
    "    build a node2vec model\n",
    "    \"\"\"\n",
    "    print(\"building a node2vec model...\", end=\"\\t\")\n",
    "    st = time.time()\n",
    "    np.random.seed(0)\n",
    "    nodes = list(graph.nodes())\n",
    "    walks = list()\n",
    "    # generate random walks\n",
    "    for walk_iter in range(num_walks):\n",
    "        np.random.shuffle(nodes)\n",
    "        for node in nodes:\n",
    "            walks.append(generate_second_order_random_walk(\n",
    "                graph, alias_nodes, alias_edges, walk_length=walk_length, start_node=node))\n",
    "            \n",
    "    walk_lens = [len(w) for w in walks]\n",
    "    if len(walk_lens) > 0:\n",
    "        avg_walk_len = sum(walk_lens) / len(walk_lens)\n",
    "    else:\n",
    "        avg_walk_len = 0.0    \n",
    "    print(\"number of walks: %d\\taverage walk length: %.4f\" % (len(walks), avg_walk_len), end=\"\\t\")\n",
    "    \n",
    "    # train a skip-gram model for these walks\n",
    "    model = Word2Vec(walks, size=node_dim, window=3, min_count=0, sg=1, workers=os.cpu_count(), iter=10)\n",
    "    print(\"trainig time: %.4f\" % (time.time()-st))\n",
    "    \n",
    "    return model"
   ]
  },
  {
   "cell_type": "markdown",
   "metadata": {},
   "source": [
    "### Scorer"
   ]
  },
  {
   "cell_type": "code",
   "execution_count": 6,
   "metadata": {},
   "outputs": [],
   "source": [
    "def get_cosine_sim(model, u, v):\n",
    "    \"\"\"\n",
    "    get the cosine similarity between two nodes\n",
    "    \"\"\"\n",
    "    try:\n",
    "        u = model.wv[u]\n",
    "        v = model.wv[v]\n",
    "        return np.dot(u, v) / (np.linalg.norm(u) * np.linalg.norm(v))\n",
    "    except:\n",
    "        return 0\n",
    "\n",
    "def get_auc_score(model, true_edges, false_edges):\n",
    "    \"\"\"\n",
    "    get the auc score\n",
    "    \"\"\"\n",
    "    y_true = [1] * len(true_edges) + [0] * len(false_edges)\n",
    "    \n",
    "    y_score = list()\n",
    "    for e in true_edges:\n",
    "        y_score.append(get_cosine_sim(model, e[0], e[1]))\n",
    "    for e in false_edges:\n",
    "        y_score.append(get_cosine_sim(model, e[0], e[1]))\n",
    "    \n",
    "    pre_score = y_score\n",
    "    \n",
    "    return roc_auc_score(y_true, y_score)"
   ]
  },
  {
   "cell_type": "markdown",
   "metadata": {},
   "source": [
    "# Link Prediction"
   ]
  },
  {
   "cell_type": "code",
   "execution_count": 7,
   "metadata": {},
   "outputs": [],
   "source": [
    "train_file = \"data/train.csv\"\n",
    "train_edges = load_data(train_file)\n",
    "\n",
    "valid_file = \"data/valid.csv\"\n",
    "valid_edges = load_data(valid_file)"
   ]
  },
  {
   "cell_type": "markdown",
   "metadata": {},
   "source": [
    "- Combine train/valid edges"
   ]
  },
  {
   "cell_type": "code",
   "execution_count": 8,
   "metadata": {},
   "outputs": [],
   "source": [
    "edges = train_edges+valid_edges"
   ]
  },
  {
   "cell_type": "markdown",
   "metadata": {},
   "source": [
    "- Set parameters"
   ]
  },
  {
   "cell_type": "code",
   "execution_count": 9,
   "metadata": {},
   "outputs": [],
   "source": [
    "np.random.seed(0)\n",
    "\n",
    "node_dim = 10\n",
    "num_walks = 10  \n",
    "walk_length = 10 \n",
    "p = 0.5\n",
    "q = 0.5\n",
    "\n",
    "deepwalk_auc_scores = list()\n",
    "node2vec_auc_scores = list()"
   ]
  },
  {
   "cell_type": "code",
   "execution_count": 10,
   "metadata": {},
   "outputs": [],
   "source": [
    "# generate the same validation size of false edges\n",
    "false_edges = generate_false_edges(edges, num_false_edges=40000-len(valid_edges))\n",
    "\n",
    "# construct the graph and preprocess transition probabilities\n",
    "graph = construct_graph_from_edges(train_edges)"
   ]
  },
  {
   "cell_type": "markdown",
   "metadata": {},
   "source": [
    "- Save the valid_ans.csv"
   ]
  },
  {
   "cell_type": "code",
   "execution_count": 11,
   "metadata": {},
   "outputs": [],
   "source": [
    "valid_ans = valid_edges + false_edges"
   ]
  },
  {
   "cell_type": "code",
   "execution_count": 12,
   "metadata": {},
   "outputs": [],
   "source": [
    "def write_predictions(file_name, src, dst, score):\n",
    "    d = {'src': src, 'dst': dst, 'score': score}\n",
    "    df = pd.DataFrame(d)\n",
    "    df.to_csv(file_name, index=False)"
   ]
  },
  {
   "cell_type": "code",
   "execution_count": 13,
   "metadata": {},
   "outputs": [],
   "source": [
    "src = list()\n",
    "dst = list()\n",
    "score = [1] * len(valid_edges) + [0] * len(false_edges)\n",
    "for e in valid_ans:\n",
    "    src.append(e[0])\n",
    "    dst.append(e[1])"
   ]
  },
  {
   "cell_type": "code",
   "execution_count": 14,
   "metadata": {},
   "outputs": [],
   "source": [
    "write_predictions('valid_ans.csv', src, dst, score)"
   ]
  },
  {
   "cell_type": "markdown",
   "metadata": {},
   "source": [
    "- Run the model prediction"
   ]
  },
  {
   "cell_type": "code",
   "execution_count": 77,
   "metadata": {},
   "outputs": [],
   "source": [
    "alias_nodes, alias_edges = preprocess_transition_probs(graph, p=p, q=q)"
   ]
  },
  {
   "cell_type": "code",
   "execution_count": 91,
   "metadata": {},
   "outputs": [
    {
     "name": "stdout",
     "output_type": "stream",
     "text": [
      "building a DeepWalk model...\tnumber of walks: 83470\taverage walk length: 9.0894\ttrainig time: 19.1692\n",
      "building a node2vec model...\tnumber of walks: 83470\taverage walk length: 9.0835\ttrainig time: 18.3940\n"
     ]
    }
   ],
   "source": [
    "# build models and get auc scores\n",
    "model_deepwalk = build_deepwalk(graph, alias_nodes,\n",
    "                            node_dim=node_dim, num_walks=num_walks, walk_length=walk_length)\n",
    "deepwalk_auc_scores.append(get_auc_score(model_deepwalk, valid_edges, false_edges))\n",
    "    \n",
    "model_node2vec = build_node2vec(graph, alias_nodes, alias_edges,\n",
    "                            node_dim=node_dim, num_walks=num_walks, walk_length=walk_length)\n",
    "node2vec_auc_scores.append(get_auc_score(model_node2vec, valid_edges, false_edges))\n",
    "    \n",
    "deepwalk_auc_scores = np.array(deepwalk_auc_scores)\n",
    "node2vec_auc_scores = np.array(node2vec_auc_scores)"
   ]
  },
  {
   "cell_type": "code",
   "execution_count": 92,
   "metadata": {},
   "outputs": [
    {
     "name": "stdout",
     "output_type": "stream",
     "text": [
      "DeepWalk: auc score: \n",
      "0.9246221631148221\n",
      "node2vec:  auc score: \n",
      "0.925648153740825\n"
     ]
    }
   ],
   "source": [
    "print(\"DeepWalk: auc score: \")  \n",
    "print(deepwalk_auc_scores[0])\n",
    "print(\"node2vec:  auc score: \")   \n",
    "print(node2vec_auc_scores[0])"
   ]
  },
  {
   "cell_type": "markdown",
   "metadata": {},
   "source": [
    "- Save valid_pred.csv"
   ]
  },
  {
   "cell_type": "code",
   "execution_count": 143,
   "metadata": {},
   "outputs": [],
   "source": [
    "write_predictions('valid_pred.csv', src, dst, pre_score)"
   ]
  },
  {
   "cell_type": "markdown",
   "metadata": {},
   "source": [
    "# Parameter tuning"
   ]
  },
  {
   "cell_type": "markdown",
   "metadata": {},
   "source": [
    "- p,q"
   ]
  },
  {
   "cell_type": "code",
   "execution_count": 99,
   "metadata": {},
   "outputs": [
    {
     "name": "stdout",
     "output_type": "stream",
     "text": [
      "number of nodes: 8347\n",
      "number of edges: 100000\n",
      "building a DeepWalk model...\tnumber of walks: 83470\taverage walk length: 9.0894\ttrainig time: 18.9151\n",
      "building a node2vec model...\tnumber of walks: 83470\taverage walk length: 9.0718\ttrainig time: 18.8858\n",
      "building a DeepWalk model...\tnumber of walks: 83470\taverage walk length: 9.0894\ttrainig time: 18.0295\n",
      "building a node2vec model...\tnumber of walks: 83470\taverage walk length: 9.0916\ttrainig time: 18.2372\n",
      "building a DeepWalk model...\tnumber of walks: 83470\taverage walk length: 9.0894\ttrainig time: 18.3145\n",
      "building a node2vec model...\tnumber of walks: 83470\taverage walk length: 9.0971\ttrainig time: 23.8281\n",
      "building a DeepWalk model...\tnumber of walks: 83470\taverage walk length: 9.0894\ttrainig time: 18.5704\n",
      "building a node2vec model...\tnumber of walks: 83470\taverage walk length: 9.1081\ttrainig time: 19.1104\n",
      "building a DeepWalk model...\tnumber of walks: 83470\taverage walk length: 9.0894\ttrainig time: 21.4522\n",
      "building a node2vec model...\tnumber of walks: 83470\taverage walk length: 9.1116\ttrainig time: 23.6598\n",
      "building a DeepWalk model...\tnumber of walks: 83470\taverage walk length: 9.0894\ttrainig time: 18.2071\n",
      "building a node2vec model...\tnumber of walks: 83470\taverage walk length: 9.1194\ttrainig time: 18.6098\n",
      "building a DeepWalk model...\tnumber of walks: 83470\taverage walk length: 9.0894\ttrainig time: 18.1167\n",
      "building a node2vec model...\tnumber of walks: 83470\taverage walk length: 9.1215\ttrainig time: 18.1467\n",
      "building a DeepWalk model...\tnumber of walks: 83470\taverage walk length: 9.0894\ttrainig time: 19.5116\n",
      "building a node2vec model...\tnumber of walks: 83470\taverage walk length: 9.1263\ttrainig time: 20.5160\n",
      "building a DeepWalk model...\tnumber of walks: 83470\taverage walk length: 9.0894\ttrainig time: 21.7242\n",
      "building a node2vec model...\tnumber of walks: 83470\taverage walk length: 9.1283\ttrainig time: 19.2504\n",
      "building a DeepWalk model...\tnumber of walks: 83470\taverage walk length: 9.0894\ttrainig time: 18.2709\n",
      "building a node2vec model...\tnumber of walks: 83470\taverage walk length: 9.1328\ttrainig time: 18.4158\n",
      "building a DeepWalk model...\tnumber of walks: 83470\taverage walk length: 9.0894\ttrainig time: 21.9589\n",
      "building a node2vec model...\tnumber of walks: 83470\taverage walk length: 9.0669\ttrainig time: 20.7728\n",
      "building a DeepWalk model...\tnumber of walks: 83470\taverage walk length: 9.0894\ttrainig time: 18.0271\n",
      "building a node2vec model...\tnumber of walks: 83470\taverage walk length: 9.0809\ttrainig time: 18.4642\n",
      "building a DeepWalk model...\tnumber of walks: 83470\taverage walk length: 9.0894\ttrainig time: 18.3789\n",
      "building a node2vec model...\tnumber of walks: 83470\taverage walk length: 9.0836\ttrainig time: 18.6343\n",
      "building a DeepWalk model...\tnumber of walks: 83470\taverage walk length: 9.0894\ttrainig time: 18.0411\n",
      "building a node2vec model...\tnumber of walks: 83470\taverage walk length: 9.0909\ttrainig time: 18.6078\n",
      "building a DeepWalk model...\tnumber of walks: 83470\taverage walk length: 9.0894\ttrainig time: 18.1589\n",
      "building a node2vec model...\tnumber of walks: 83470\taverage walk length: 9.1034\ttrainig time: 18.4879\n",
      "building a DeepWalk model...\tnumber of walks: 83470\taverage walk length: 9.0894\ttrainig time: 18.3546\n",
      "building a node2vec model...\tnumber of walks: 83470\taverage walk length: 9.1033\ttrainig time: 18.4920\n",
      "building a DeepWalk model...\tnumber of walks: 83470\taverage walk length: 9.0894\ttrainig time: 18.0216\n",
      "building a node2vec model...\tnumber of walks: 83470\taverage walk length: 9.1053\ttrainig time: 18.4555\n",
      "building a DeepWalk model...\tnumber of walks: 83470\taverage walk length: 9.0894\ttrainig time: 18.2827\n",
      "building a node2vec model...\tnumber of walks: 83470\taverage walk length: 9.1110\ttrainig time: 18.3903\n",
      "building a DeepWalk model...\tnumber of walks: 83470\taverage walk length: 9.0894\ttrainig time: 18.1033\n",
      "building a node2vec model...\tnumber of walks: 83470\taverage walk length: 9.1107\ttrainig time: 18.2762\n",
      "building a DeepWalk model...\tnumber of walks: 83470\taverage walk length: 9.0894\ttrainig time: 18.2161\n",
      "building a node2vec model...\tnumber of walks: 83470\taverage walk length: 9.1178\ttrainig time: 18.3126\n",
      "building a DeepWalk model...\tnumber of walks: 83470\taverage walk length: 9.0894\ttrainig time: 17.9162\n",
      "building a node2vec model...\tnumber of walks: 83470\taverage walk length: 9.0609\ttrainig time: 18.8949\n",
      "building a DeepWalk model...\tnumber of walks: 83470\taverage walk length: 9.0894\ttrainig time: 18.1280\n",
      "building a node2vec model...\tnumber of walks: 83470\taverage walk length: 9.0747\ttrainig time: 18.6779\n",
      "building a DeepWalk model...\tnumber of walks: 83470\taverage walk length: 9.0894\ttrainig time: 17.9359\n",
      "building a node2vec model...\tnumber of walks: 83470\taverage walk length: 9.0765\ttrainig time: 18.9533\n",
      "building a DeepWalk model...\tnumber of walks: 83470\taverage walk length: 9.0894\ttrainig time: 18.1974\n",
      "building a node2vec model...\tnumber of walks: 83470\taverage walk length: 9.0816\ttrainig time: 18.5203\n",
      "building a DeepWalk model...\tnumber of walks: 83470\taverage walk length: 9.0894\ttrainig time: 18.0153\n",
      "building a node2vec model...\tnumber of walks: 83470\taverage walk length: 9.0905\ttrainig time: 18.4986\n",
      "building a DeepWalk model...\tnumber of walks: 83470\taverage walk length: 9.0894\ttrainig time: 19.2807\n",
      "building a node2vec model...\tnumber of walks: 83470\taverage walk length: 9.1016\ttrainig time: 18.6391\n",
      "building a DeepWalk model...\tnumber of walks: 83470\taverage walk length: 9.0894\ttrainig time: 17.9839\n",
      "building a node2vec model...\tnumber of walks: 83470\taverage walk length: 9.0983\ttrainig time: 18.5053\n",
      "building a DeepWalk model...\tnumber of walks: 83470\taverage walk length: 9.0894\ttrainig time: 18.0414\n",
      "building a node2vec model...\tnumber of walks: 83470\taverage walk length: 9.0992\ttrainig time: 18.4745\n",
      "building a DeepWalk model...\tnumber of walks: 83470\taverage walk length: 9.0894\ttrainig time: 18.1586\n",
      "building a node2vec model...\tnumber of walks: 83470\taverage walk length: 9.1022\ttrainig time: 18.5767\n",
      "building a DeepWalk model...\tnumber of walks: 83470\taverage walk length: 9.0894\ttrainig time: 18.0684\n",
      "building a node2vec model...\tnumber of walks: 83470\taverage walk length: 9.1058\ttrainig time: 18.4801\n",
      "building a DeepWalk model...\tnumber of walks: 83470\taverage walk length: 9.0894\ttrainig time: 18.1704\n",
      "building a node2vec model...\tnumber of walks: 83470\taverage walk length: 9.0600\ttrainig time: 18.6320\n",
      "building a DeepWalk model...\tnumber of walks: 83470\taverage walk length: 9.0894\ttrainig time: 18.3920\n",
      "building a node2vec model...\tnumber of walks: 83470\taverage walk length: 9.0667\ttrainig time: 18.5914\n",
      "building a DeepWalk model...\tnumber of walks: 83470\taverage walk length: 9.0894\ttrainig time: 18.1368\n",
      "building a node2vec model...\tnumber of walks: 83470\taverage walk length: 9.0716\ttrainig time: 18.5103\n",
      "building a DeepWalk model...\tnumber of walks: 83470\taverage walk length: 9.0894\ttrainig time: 18.0507\n",
      "building a node2vec model...\tnumber of walks: 83470\taverage walk length: 9.0825\ttrainig time: 18.9977\n",
      "building a DeepWalk model...\tnumber of walks: 83470\taverage walk length: 9.0894\ttrainig time: 18.1790\n",
      "building a node2vec model...\tnumber of walks: 83470\taverage walk length: 9.0783\ttrainig time: 18.5306\n",
      "building a DeepWalk model...\tnumber of walks: 83470\taverage walk length: 9.0894\ttrainig time: 18.0554\n",
      "building a node2vec model...\tnumber of walks: 83470\taverage walk length: 9.0911\ttrainig time: 18.6449\n",
      "building a DeepWalk model...\tnumber of walks: 83470\taverage walk length: 9.0894\ttrainig time: 18.3200\n",
      "building a node2vec model...\tnumber of walks: 83470\taverage walk length: 9.0893\ttrainig time: 18.5477\n",
      "building a DeepWalk model...\tnumber of walks: 83470\taverage walk length: 9.0894\ttrainig time: 18.0166\n",
      "building a node2vec model...\tnumber of walks: 83470\taverage walk length: 9.0959\ttrainig time: 18.5232\n",
      "building a DeepWalk model...\tnumber of walks: 83470\taverage walk length: 9.0894\ttrainig time: 18.2866\n",
      "building a node2vec model...\tnumber of walks: 83470\taverage walk length: 9.0962\ttrainig time: 18.4181\n",
      "building a DeepWalk model...\tnumber of walks: 83470\taverage walk length: 9.0894\ttrainig time: 18.1863\n",
      "building a node2vec model...\tnumber of walks: 83470\taverage walk length: 9.1031\ttrainig time: 18.5316\n"
     ]
    },
    {
     "name": "stdout",
     "output_type": "stream",
     "text": [
      "building a DeepWalk model...\tnumber of walks: 83470\taverage walk length: 9.0894\ttrainig time: 18.0686\n",
      "building a node2vec model...\tnumber of walks: 83470\taverage walk length: 9.0576\ttrainig time: 18.5680\n",
      "building a DeepWalk model...\tnumber of walks: 83470\taverage walk length: 9.0894\ttrainig time: 18.1704\n",
      "building a node2vec model...\tnumber of walks: 83470\taverage walk length: 9.0674\ttrainig time: 18.7483\n",
      "building a DeepWalk model...\tnumber of walks: 83470\taverage walk length: 9.0894\ttrainig time: 18.5636\n",
      "building a node2vec model...\tnumber of walks: 83470\taverage walk length: 9.0762\ttrainig time: 18.4347\n",
      "building a DeepWalk model...\tnumber of walks: 83470\taverage walk length: 9.0894\ttrainig time: 18.1559\n",
      "building a node2vec model...\tnumber of walks: 83470\taverage walk length: 9.0764\ttrainig time: 18.6899\n",
      "building a DeepWalk model...\tnumber of walks: 83470\taverage walk length: 9.0894\ttrainig time: 18.0623\n",
      "building a node2vec model...\tnumber of walks: 83470\taverage walk length: 9.0835\ttrainig time: 19.0795\n",
      "building a DeepWalk model...\tnumber of walks: 83470\taverage walk length: 9.0894\ttrainig time: 18.1774\n",
      "building a node2vec model...\tnumber of walks: 83470\taverage walk length: 9.0836\ttrainig time: 18.6293\n",
      "building a DeepWalk model...\tnumber of walks: 83470\taverage walk length: 9.0894\ttrainig time: 17.9737\n",
      "building a node2vec model...\tnumber of walks: 83470\taverage walk length: 9.0877\ttrainig time: 18.5216\n",
      "building a DeepWalk model...\tnumber of walks: 83470\taverage walk length: 9.0894\ttrainig time: 18.1986\n",
      "building a node2vec model...\tnumber of walks: 83470\taverage walk length: 9.0900\ttrainig time: 18.5512\n",
      "building a DeepWalk model...\tnumber of walks: 83470\taverage walk length: 9.0894\ttrainig time: 18.8382\n",
      "building a node2vec model...\tnumber of walks: 83470\taverage walk length: 9.0965\ttrainig time: 18.5218\n",
      "building a DeepWalk model...\tnumber of walks: 83470\taverage walk length: 9.0894\ttrainig time: 18.0998\n",
      "building a node2vec model...\tnumber of walks: 83470\taverage walk length: 9.1014\ttrainig time: 18.3772\n",
      "building a DeepWalk model...\tnumber of walks: 83470\taverage walk length: 9.0894\ttrainig time: 18.2120\n",
      "building a node2vec model...\tnumber of walks: 83470\taverage walk length: 9.0588\ttrainig time: 18.6648\n",
      "building a DeepWalk model...\tnumber of walks: 83470\taverage walk length: 9.0894\ttrainig time: 17.9259\n",
      "building a node2vec model...\tnumber of walks: 83470\taverage walk length: 9.0666\ttrainig time: 18.5445\n",
      "building a DeepWalk model...\tnumber of walks: 83470\taverage walk length: 9.0894\ttrainig time: 18.1383\n",
      "building a node2vec model...\tnumber of walks: 83470\taverage walk length: 9.0661\ttrainig time: 18.4946\n",
      "building a DeepWalk model...\tnumber of walks: 83470\taverage walk length: 9.0894\ttrainig time: 18.5492\n",
      "building a node2vec model...\tnumber of walks: 83470\taverage walk length: 9.0766\ttrainig time: 18.6120\n",
      "building a DeepWalk model...\tnumber of walks: 83470\taverage walk length: 9.0894\ttrainig time: 18.2089\n",
      "building a node2vec model...\tnumber of walks: 83470\taverage walk length: 9.0757\ttrainig time: 18.5835\n",
      "building a DeepWalk model...\tnumber of walks: 83470\taverage walk length: 9.0894\ttrainig time: 17.9643\n",
      "building a node2vec model...\tnumber of walks: 83470\taverage walk length: 9.0853\ttrainig time: 19.0977\n",
      "building a DeepWalk model...\tnumber of walks: 83470\taverage walk length: 9.0894\ttrainig time: 18.2817\n",
      "building a node2vec model...\tnumber of walks: 83470\taverage walk length: 9.0851\ttrainig time: 18.5123\n",
      "building a DeepWalk model...\tnumber of walks: 83470\taverage walk length: 9.0894\ttrainig time: 18.0803\n",
      "building a node2vec model...\tnumber of walks: 83470\taverage walk length: 9.0893\ttrainig time: 18.8005\n",
      "building a DeepWalk model...\tnumber of walks: 83470\taverage walk length: 9.0894\ttrainig time: 18.1757\n",
      "building a node2vec model...\tnumber of walks: 83470\taverage walk length: 9.0934\ttrainig time: 18.4752\n",
      "building a DeepWalk model...\tnumber of walks: 83470\taverage walk length: 9.0894\ttrainig time: 18.0400\n",
      "building a node2vec model...\tnumber of walks: 83470\taverage walk length: 9.0957\ttrainig time: 18.4749\n",
      "building a DeepWalk model...\tnumber of walks: 83470\taverage walk length: 9.0894\ttrainig time: 18.1000\n",
      "building a node2vec model...\tnumber of walks: 83470\taverage walk length: 9.0512\ttrainig time: 18.5097\n",
      "building a DeepWalk model...\tnumber of walks: 83470\taverage walk length: 9.0894\ttrainig time: 18.0366\n",
      "building a node2vec model...\tnumber of walks: 83470\taverage walk length: 9.0587\ttrainig time: 18.7742\n",
      "building a DeepWalk model...\tnumber of walks: 83470\taverage walk length: 9.0894\ttrainig time: 17.9811\n",
      "building a node2vec model...\tnumber of walks: 83470\taverage walk length: 9.0697\ttrainig time: 18.6222\n",
      "building a DeepWalk model...\tnumber of walks: 83470\taverage walk length: 9.0894\ttrainig time: 18.2083\n",
      "building a node2vec model...\tnumber of walks: 83470\taverage walk length: 9.0733\ttrainig time: 18.5125\n",
      "building a DeepWalk model...\tnumber of walks: 83470\taverage walk length: 9.0894\ttrainig time: 18.2000\n",
      "building a node2vec model...\tnumber of walks: 83470\taverage walk length: 9.0810\ttrainig time: 18.8547\n",
      "building a DeepWalk model...\tnumber of walks: 83470\taverage walk length: 9.0894\ttrainig time: 18.4775\n",
      "building a node2vec model...\tnumber of walks: 83470\taverage walk length: 9.0823\ttrainig time: 18.6687\n",
      "building a DeepWalk model...\tnumber of walks: 83470\taverage walk length: 9.0894\ttrainig time: 18.6496\n",
      "building a node2vec model...\tnumber of walks: 83470\taverage walk length: 9.0775\ttrainig time: 22.8843\n",
      "building a DeepWalk model...\tnumber of walks: 83470\taverage walk length: 9.0894\ttrainig time: 25.7072\n",
      "building a node2vec model...\tnumber of walks: 83470\taverage walk length: 9.0800\ttrainig time: 26.6360\n",
      "building a DeepWalk model...\tnumber of walks: 83470\taverage walk length: 9.0894\ttrainig time: 21.3188\n",
      "building a node2vec model...\tnumber of walks: 83470\taverage walk length: 9.0864\ttrainig time: 24.8419\n",
      "building a DeepWalk model...\tnumber of walks: 83470\taverage walk length: 9.0894\ttrainig time: 19.4193\n",
      "building a node2vec model...\tnumber of walks: 83470\taverage walk length: 9.0865\ttrainig time: 19.5288\n",
      "building a DeepWalk model...\tnumber of walks: 83470\taverage walk length: 9.0894\ttrainig time: 19.0972\n",
      "building a node2vec model...\tnumber of walks: 83470\taverage walk length: 9.0597\ttrainig time: 19.7842\n",
      "building a DeepWalk model...\tnumber of walks: 83470\taverage walk length: 9.0894\ttrainig time: 19.1073\n",
      "building a node2vec model...\tnumber of walks: 83470\taverage walk length: 9.0611\ttrainig time: 20.0541\n",
      "building a DeepWalk model...\tnumber of walks: 83470\taverage walk length: 9.0894\ttrainig time: 19.2006\n",
      "building a node2vec model...\tnumber of walks: 83470\taverage walk length: 9.0658\ttrainig time: 20.0863\n",
      "building a DeepWalk model...\tnumber of walks: 83470\taverage walk length: 9.0894\ttrainig time: 19.5932\n",
      "building a node2vec model...\tnumber of walks: 83470\taverage walk length: 9.0737\ttrainig time: 19.7264\n",
      "building a DeepWalk model...\tnumber of walks: 83470\taverage walk length: 9.0894\ttrainig time: 19.7240\n",
      "building a node2vec model...\tnumber of walks: 83470\taverage walk length: 9.0791\ttrainig time: 23.9554\n",
      "building a DeepWalk model...\tnumber of walks: 83470\taverage walk length: 9.0894\ttrainig time: 23.0575\n",
      "building a node2vec model...\tnumber of walks: 83470\taverage walk length: 9.0854\ttrainig time: 23.0497\n",
      "building a DeepWalk model...\tnumber of walks: 83470\taverage walk length: 9.0894\ttrainig time: 21.8384\n",
      "building a node2vec model...\tnumber of walks: 83470\taverage walk length: 9.0812\ttrainig time: 22.5853\n",
      "building a DeepWalk model...\tnumber of walks: 83470\taverage walk length: 9.0894\ttrainig time: 19.2881\n",
      "building a node2vec model...\tnumber of walks: 83470\taverage walk length: 9.0813\ttrainig time: 19.7751\n",
      "building a DeepWalk model...\tnumber of walks: 83470\taverage walk length: 9.0894\ttrainig time: 19.4573\n",
      "building a node2vec model...\tnumber of walks: 83470\taverage walk length: 9.0866\ttrainig time: 19.7968\n",
      "building a DeepWalk model...\tnumber of walks: 83470\taverage walk length: 9.0894\ttrainig time: 19.1674\n",
      "building a node2vec model...\tnumber of walks: 83470\taverage walk length: 9.0907\ttrainig time: 19.8163\n",
      "building a DeepWalk model...\tnumber of walks: 83470\taverage walk length: 9.0894\ttrainig time: 19.1344\n",
      "building a node2vec model...\tnumber of walks: 83470\taverage walk length: 9.0557\ttrainig time: 24.6200\n",
      "building a DeepWalk model...\tnumber of walks: 83470\taverage walk length: 9.0894\ttrainig time: 21.2042\n",
      "building a node2vec model...\tnumber of walks: 83470\taverage walk length: 9.0605\ttrainig time: 20.5894\n",
      "building a DeepWalk model...\tnumber of walks: 83470\taverage walk length: 9.0894\ttrainig time: 21.7412\n",
      "building a node2vec model...\tnumber of walks: 83470\taverage walk length: 9.0631\ttrainig time: 22.8486\n",
      "building a DeepWalk model...\tnumber of walks: 83470\taverage walk length: 9.0894\ttrainig time: 18.8419\n",
      "building a node2vec model...\tnumber of walks: 83470\taverage walk length: 9.0768\ttrainig time: 19.7898\n",
      "building a DeepWalk model...\tnumber of walks: 83470\taverage walk length: 9.0894\ttrainig time: 19.5908\n",
      "building a node2vec model...\tnumber of walks: 83470\taverage walk length: 9.0744\ttrainig time: 22.3260\n",
      "building a DeepWalk model...\tnumber of walks: 83470\taverage walk length: 9.0894\ttrainig time: 19.0606\n",
      "building a node2vec model...\tnumber of walks: 83470\taverage walk length: 9.0798\ttrainig time: 19.4517\n",
      "building a DeepWalk model...\tnumber of walks: 83470\taverage walk length: 9.0894\ttrainig time: 19.5600\n",
      "building a node2vec model...\tnumber of walks: 83470\taverage walk length: 9.0770\ttrainig time: 20.6512\n",
      "building a DeepWalk model...\tnumber of walks: 83470\taverage walk length: 9.0894\ttrainig time: 20.4021\n",
      "building a node2vec model...\tnumber of walks: 83470\taverage walk length: 9.0854\ttrainig time: 20.6682\n",
      "building a DeepWalk model...\tnumber of walks: 83470\taverage walk length: 9.0894\ttrainig time: 18.9412\n",
      "building a node2vec model...\tnumber of walks: 83470\taverage walk length: 9.0830\ttrainig time: 20.4034\n",
      "building a DeepWalk model...\tnumber of walks: 83470\taverage walk length: 9.0894\ttrainig time: 18.9711\n",
      "building a node2vec model...\tnumber of walks: 83470\taverage walk length: 9.0881\ttrainig time: 19.2894\n",
      "building a DeepWalk model...\tnumber of walks: 83470\taverage walk length: 9.0894\ttrainig time: 19.6756\n",
      "building a node2vec model...\tnumber of walks: 83470\taverage walk length: 9.0604\ttrainig time: 19.7682\n",
      "building a DeepWalk model...\tnumber of walks: 83470\taverage walk length: 9.0894\ttrainig time: 19.1727\n",
      "building a node2vec model...\tnumber of walks: 83470\taverage walk length: 9.0652\ttrainig time: 23.8032\n",
      "building a DeepWalk model...\tnumber of walks: 83470\taverage walk length: 9.0894\ttrainig time: 20.7910\n",
      "building a node2vec model...\tnumber of walks: 83470\taverage walk length: 9.0633\ttrainig time: 19.8440\n",
      "building a DeepWalk model...\tnumber of walks: 83470\taverage walk length: 9.0894\ttrainig time: 19.4784\n",
      "building a node2vec model...\tnumber of walks: 83470\taverage walk length: 9.0669\ttrainig time: 19.4706\n",
      "building a DeepWalk model...\tnumber of walks: 83470\taverage walk length: 9.0894\ttrainig time: 17.8827\n",
      "building a node2vec model...\tnumber of walks: 83470\taverage walk length: 9.0719\ttrainig time: 19.9413\n",
      "building a DeepWalk model...\tnumber of walks: 83470\taverage walk length: 9.0894\ttrainig time: 19.1339\n",
      "building a node2vec model...\tnumber of walks: 83470\taverage walk length: 9.0733\ttrainig time: 19.4562\n",
      "building a DeepWalk model...\tnumber of walks: 83470\taverage walk length: 9.0894\ttrainig time: 18.9463\n",
      "building a node2vec model...\tnumber of walks: 83470\taverage walk length: 9.0772\ttrainig time: 20.0218\n",
      "building a DeepWalk model...\tnumber of walks: 83470\taverage walk length: 9.0894\ttrainig time: 21.5817\n",
      "building a node2vec model...\tnumber of walks: 83470\taverage walk length: 9.0790\ttrainig time: 20.8476\n",
      "building a DeepWalk model...\tnumber of walks: 83470\taverage walk length: 9.0894\ttrainig time: 19.3938\n",
      "building a node2vec model...\tnumber of walks: 83470\taverage walk length: 9.0835\ttrainig time: 21.5154\n",
      "building a DeepWalk model...\tnumber of walks: 83470\taverage walk length: 9.0894\ttrainig time: 22.4218\n",
      "building a node2vec model...\tnumber of walks: 83470\taverage walk length: 9.0894\ttrainig time: 24.9146\n"
     ]
    }
   ],
   "source": [
    "np.random.seed(0)\n",
    "\n",
    "node_dim = 10\n",
    "num_walks = 10  \n",
    "walk_length = 10 \n",
    "p_list = [0.1,0.2,0.3,0.4,0.5,0.6,0.7,0.8,0.9,1.0]\n",
    "q_list = [0.1,0.2,0.3,0.4,0.5,0.6,0.7,0.8,0.9,1.0]\n",
    "\n",
    "deepwalk_auc_scores = list()\n",
    "node2vec_auc_scores = list()\n",
    "\n",
    "# generate the same validation size of false edges\n",
    "false_edges = generate_false_edges(edges, num_false_edges=40000-len(valid_edges))\n",
    "\n",
    "# construct the graph and preprocess transition probabilities\n",
    "graph = construct_graph_from_edges(train_edges)\n",
    "\n",
    "for p in p_list:\n",
    "    \n",
    "    deepwalk_scores = list()\n",
    "    node2vec_scores = list()\n",
    "    \n",
    "    for q in q_list:\n",
    "        alias_nodes, alias_edges = preprocess_transition_probs(graph, p=p, q=q)\n",
    "\n",
    "        # build models and get auc scores\n",
    "        model_deepwalk = build_deepwalk(graph, alias_nodes,\n",
    "                            node_dim=node_dim, num_walks=num_walks, walk_length=walk_length)\n",
    "        deepwalk_scores.append(get_auc_score(model_deepwalk, valid_edges, false_edges))\n",
    "    \n",
    "        model_node2vec = build_node2vec(graph, alias_nodes, alias_edges,\n",
    "                            node_dim=node_dim, num_walks=num_walks, walk_length=walk_length)\n",
    "        node2vec_scores.append(get_auc_score(model_node2vec, valid_edges, false_edges))\n",
    "    \n",
    "    deepwalk_auc_scores.append(deepwalk_scores)\n",
    "    node2vec_auc_scores.append(node2vec_scores)\n",
    "    \n",
    "deepwalk_auc_scores = np.array(deepwalk_auc_scores)\n",
    "node2vec_auc_scores = np.array(node2vec_auc_scores)"
   ]
  },
  {
   "cell_type": "code",
   "execution_count": 14,
   "metadata": {},
   "outputs": [],
   "source": [
    "import matplotlib.pyplot as plt\n",
    "import seaborn as sns"
   ]
  },
  {
   "cell_type": "code",
   "execution_count": 107,
   "metadata": {},
   "outputs": [
    {
     "data": {
      "image/png": "[encoded data removed]",
      "text/plain": [
       "<Figure size 432x288 with 2 Axes>"
      ]
     },
     "metadata": {
      "needs_background": "light"
     },
     "output_type": "display_data"
    }
   ],
   "source": [
    "ax_deepwalk = sns.heatmap(deepwalk_auc_scores, linewidth=0.5, xticklabels=q_list, yticklabels=p_list)\n",
    "ax_deepwalk.set_title(\"Tune p,q Deepwalk\")\n",
    "plt.show()"
   ]
  },
  {
   "cell_type": "code",
   "execution_count": 108,
   "metadata": {},
   "outputs": [
    {
     "data": {
      "image/png": "[encoded data removed]",
      "text/plain": [
       "<Figure size 432x288 with 2 Axes>"
      ]
     },
     "metadata": {
      "needs_background": "light"
     },
     "output_type": "display_data"
    }
   ],
   "source": [
    "ax_node2vec = sns.heatmap(node2vec_auc_scores, linewidth=0.5, xticklabels=q_list, yticklabels=p_list)\n",
    "ax_node2vec.set_title(\"Tune p,q node2vec\")\n",
    "plt.show()"
   ]
  },
  {
   "cell_type": "markdown",
   "metadata": {},
   "source": [
    "- num_walks / walk_length"
   ]
  },
  {
   "cell_type": "code",
   "execution_count": 109,
   "metadata": {
    "scrolled": true
   },
   "outputs": [
    {
     "name": "stdout",
     "output_type": "stream",
     "text": [
      "building a DeepWalk model...\tnumber of walks: 83470\taverage walk length: 9.0894\ttrainig time: 22.3993\n",
      "building a DeepWalk model...\tnumber of walks: 83470\taverage walk length: 13.4127\ttrainig time: 28.5518\n",
      "building a DeepWalk model...\tnumber of walks: 83470\taverage walk length: 17.6472\ttrainig time: 35.6653\n",
      "building a DeepWalk model...\tnumber of walks: 83470\taverage walk length: 21.7593\ttrainig time: 42.5877\n",
      "building a DeepWalk model...\tnumber of walks: 83470\taverage walk length: 25.7928\ttrainig time: 55.5147\n",
      "building a DeepWalk model...\tnumber of walks: 125205\taverage walk length: 9.0864\ttrainig time: 25.8593\n",
      "building a DeepWalk model...\tnumber of walks: 125205\taverage walk length: 13.4104\ttrainig time: 44.6126\n",
      "building a DeepWalk model...\tnumber of walks: 125205\taverage walk length: 17.6439\ttrainig time: 56.1777\n",
      "building a DeepWalk model...\tnumber of walks: 125205\taverage walk length: 21.7568\ttrainig time: 69.8039\n",
      "building a DeepWalk model...\tnumber of walks: 125205\taverage walk length: 25.8040\ttrainig time: 73.5112\n",
      "building a DeepWalk model...\tnumber of walks: 166940\taverage walk length: 9.0859\ttrainig time: 35.1518\n",
      "building a DeepWalk model...\tnumber of walks: 166940\taverage walk length: 13.4092\ttrainig time: 54.3461\n",
      "building a DeepWalk model...\tnumber of walks: 166940\taverage walk length: 17.6393\ttrainig time: 69.6235\n",
      "building a DeepWalk model...\tnumber of walks: 166940\taverage walk length: 21.7531\ttrainig time: 83.7042\n",
      "building a DeepWalk model...\tnumber of walks: 166940\taverage walk length: 25.8061\ttrainig time: 105.4625\n",
      "building a DeepWalk model...\tnumber of walks: 208675\taverage walk length: 9.0855\ttrainig time: 47.7562\n",
      "building a DeepWalk model...\tnumber of walks: 208675\taverage walk length: 13.4092\ttrainig time: 68.0379\n",
      "building a DeepWalk model...\tnumber of walks: 208675\taverage walk length: 17.6386\ttrainig time: 92.1724\n",
      "building a DeepWalk model...\tnumber of walks: 208675\taverage walk length: 21.7598\ttrainig time: 106.9110\n",
      "building a DeepWalk model...\tnumber of walks: 208675\taverage walk length: 25.8089\ttrainig time: 122.4564\n",
      "building a DeepWalk model...\tnumber of walks: 250410\taverage walk length: 9.0854\ttrainig time: 53.1927\n",
      "building a DeepWalk model...\tnumber of walks: 250410\taverage walk length: 13.4093\ttrainig time: 79.6092\n",
      "building a DeepWalk model...\tnumber of walks: 250410\taverage walk length: 17.6372\ttrainig time: 103.3513\n",
      "building a DeepWalk model...\tnumber of walks: 250410\taverage walk length: 21.7623\ttrainig time: 127.2757\n",
      "building a DeepWalk model...\tnumber of walks: 250410\taverage walk length: 25.8127\ttrainig time: 141.0354\n"
     ]
    }
   ],
   "source": [
    "## For Deepwalk model\n",
    "np.random.seed(0)\n",
    "\n",
    "node_dim = 10\n",
    "num_walks_list = [10,15,20,25,30]  # 10-30\n",
    "walk_length_list =[10,15,20,25,30]  # 10-30\n",
    "p = 1.0\n",
    "q = 1.0\n",
    "\n",
    "deepwalk_auc_scores = list()\n",
    "\n",
    "alias_nodes, alias_edges = preprocess_transition_probs(graph, p=p, q=q)\n",
    "\n",
    "for num_walks in num_walks_list:\n",
    "    \n",
    "    deepwalk_scores = list()\n",
    "    \n",
    "    for walk_length in walk_length_list:\n",
    "        \n",
    "        # build models and get auc scores\n",
    "        model_deepwalk = build_deepwalk(graph, alias_nodes,\n",
    "                            node_dim=node_dim, num_walks=num_walks, walk_length=walk_length)\n",
    "        deepwalk_scores.append(get_auc_score(model_deepwalk, valid_edges, false_edges))\n",
    "    \n",
    "    \n",
    "    deepwalk_auc_scores.append(deepwalk_scores)\n",
    "    \n",
    "deepwalk_auc_scores = np.array(deepwalk_auc_scores)"
   ]
  },
  {
   "cell_type": "code",
   "execution_count": 112,
   "metadata": {},
   "outputs": [
    {
     "data": {
      "image/png": "[encoded data removed]",
      "text/plain": [
       "<Figure size 432x288 with 2 Axes>"
      ]
     },
     "metadata": {
      "needs_background": "light"
     },
     "output_type": "display_data"
    }
   ],
   "source": [
    "ax_deepwalk_2 = sns.heatmap(deepwalk_auc_scores,annot=True,fmt='.4g', linewidth=0.5, xticklabels=walk_length_list, yticklabels=num_walks_list)\n",
    "ax_deepwalk_2.set_title(\"Tune num_walks/walk_length Deepwalk\")\n",
    "plt.show()"
   ]
  },
  {
   "cell_type": "code",
   "execution_count": 113,
   "metadata": {
    "scrolled": true
   },
   "outputs": [
    {
     "name": "stdout",
     "output_type": "stream",
     "text": [
      "building a node2vec model...\tnumber of walks: 83470\taverage walk length: 9.1194\ttrainig time: 21.2057\n",
      "building a node2vec model...\tnumber of walks: 83470\taverage walk length: 13.4894\ttrainig time: 30.5670\n",
      "building a node2vec model...\tnumber of walks: 83470\taverage walk length: 17.7569\ttrainig time: 37.6256\n",
      "building a node2vec model...\tnumber of walks: 83470\taverage walk length: 21.9401\ttrainig time: 52.9797\n",
      "building a node2vec model...\tnumber of walks: 83470\taverage walk length: 26.0209\ttrainig time: 57.6160\n",
      "building a node2vec model...\tnumber of walks: 125205\taverage walk length: 9.1183\ttrainig time: 28.0697\n",
      "building a node2vec model...\tnumber of walks: 125205\taverage walk length: 13.4846\ttrainig time: 44.3527\n",
      "building a node2vec model...\tnumber of walks: 125205\taverage walk length: 17.7566\ttrainig time: 51.0496\n",
      "building a node2vec model...\tnumber of walks: 125205\taverage walk length: 21.9394\ttrainig time: 68.7102\n",
      "building a node2vec model...\tnumber of walks: 125205\taverage walk length: 26.0310\ttrainig time: 79.9411\n",
      "building a node2vec model...\tnumber of walks: 166940\taverage walk length: 9.1161\ttrainig time: 37.9012\n",
      "building a node2vec model...\tnumber of walks: 166940\taverage walk length: 13.4839\ttrainig time: 52.9903\n",
      "building a node2vec model...\tnumber of walks: 166940\taverage walk length: 17.7579\ttrainig time: 76.5078\n",
      "building a node2vec model...\tnumber of walks: 166940\taverage walk length: 21.9397\ttrainig time: 96.5235\n",
      "building a node2vec model...\tnumber of walks: 166940\taverage walk length: 26.0250\ttrainig time: 113.2740\n",
      "building a node2vec model...\tnumber of walks: 208675\taverage walk length: 9.1145\ttrainig time: 47.5755\n",
      "building a node2vec model...\tnumber of walks: 208675\taverage walk length: 13.4840\ttrainig time: 61.3363\n",
      "building a node2vec model...\tnumber of walks: 208675\taverage walk length: 17.7535\ttrainig time: 80.0997\n",
      "building a node2vec model...\tnumber of walks: 208675\taverage walk length: 21.9333\ttrainig time: 99.0823\n",
      "building a node2vec model...\tnumber of walks: 208675\taverage walk length: 26.0339\ttrainig time: 117.4458\n",
      "building a node2vec model...\tnumber of walks: 250410\taverage walk length: 9.1150\ttrainig time: 49.0266\n",
      "building a node2vec model...\tnumber of walks: 250410\taverage walk length: 13.4828\ttrainig time: 72.2210\n",
      "building a node2vec model...\tnumber of walks: 250410\taverage walk length: 17.7522\ttrainig time: 94.8824\n",
      "building a node2vec model...\tnumber of walks: 250410\taverage walk length: 21.9304\ttrainig time: 117.1987\n",
      "building a node2vec model...\tnumber of walks: 250410\taverage walk length: 26.0317\ttrainig time: 139.0324\n"
     ]
    }
   ],
   "source": [
    "## For node2vec model\n",
    "np.random.seed(0)\n",
    "\n",
    "node_dim = 10\n",
    "num_walks_list = [10,15,20,25,30]  # 10-30\n",
    "walk_length_list =[10,15,20,25,30]  # 10-30\n",
    "p = 0.1\n",
    "q = 0.6\n",
    "\n",
    "node2vec_auc_scores = list()\n",
    "\n",
    "alias_nodes, alias_edges = preprocess_transition_probs(graph, p=p, q=q)\n",
    "\n",
    "for num_walks in num_walks_list:\n",
    "    \n",
    "    node2vec_scores = list()\n",
    "    \n",
    "    for walk_length in walk_length_list:\n",
    "        \n",
    "        # build models and get auc scores\n",
    "        model_node2vec = build_node2vec(graph, alias_nodes, alias_edges,\n",
    "                            node_dim=node_dim, num_walks=num_walks, walk_length=walk_length)\n",
    "        node2vec_scores.append(get_auc_score(model_node2vec, valid_edges, false_edges))\n",
    "    \n",
    "    \n",
    "    node2vec_auc_scores.append(node2vec_scores)\n",
    "    \n",
    "node2vec_auc_scores = np.array(node2vec_auc_scores)"
   ]
  },
  {
   "cell_type": "code",
   "execution_count": 114,
   "metadata": {},
   "outputs": [
    {
     "data": {
      "image/png": "[encoded data removed]",
      "text/plain": [
       "<Figure size 432x288 with 2 Axes>"
      ]
     },
     "metadata": {
      "needs_background": "light"
     },
     "output_type": "display_data"
    }
   ],
   "source": [
    "ax_node2vec_2 = sns.heatmap(node2vec_auc_scores, annot=True, fmt='.4g', linewidth=0.5, xticklabels=walk_length_list, yticklabels=num_walks_list)\n",
    "ax_node2vec_2.set_title(\"Tune num_walks/walk_length node2vec\")\n",
    "plt.show()"
   ]
  },
  {
   "cell_type": "markdown",
   "metadata": {},
   "source": [
    "- Final adjustment: DeepWalk"
   ]
  },
  {
   "cell_type": "code",
   "execution_count": 34,
   "metadata": {
    "scrolled": true
   },
   "outputs": [
    {
     "name": "stdout",
     "output_type": "stream",
     "text": [
      "building a DeepWalk model...\tnumber of walks: 125205\taverage walk length: 17.6439\ttrainig time: 50.2957\n",
      "building a DeepWalk model...\tnumber of walks: 125205\taverage walk length: 17.6439\ttrainig time: 56.3030\n",
      "building a DeepWalk model...\tnumber of walks: 125205\taverage walk length: 17.6439\ttrainig time: 55.2976\n",
      "building a DeepWalk model...\tnumber of walks: 125205\taverage walk length: 17.6439\ttrainig time: 54.6571\n",
      "building a DeepWalk model...\tnumber of walks: 125205\taverage walk length: 17.6439\ttrainig time: 52.7521\n",
      "building a DeepWalk model...\tnumber of walks: 125205\taverage walk length: 17.6439\ttrainig time: 57.8562\n",
      "building a DeepWalk model...\tnumber of walks: 125205\taverage walk length: 17.6439\ttrainig time: 52.2092\n",
      "building a DeepWalk model...\tnumber of walks: 125205\taverage walk length: 17.6439\ttrainig time: 49.9793\n",
      "building a DeepWalk model...\tnumber of walks: 125205\taverage walk length: 17.6439\ttrainig time: 57.8034\n",
      "building a DeepWalk model...\tnumber of walks: 125205\taverage walk length: 17.6439\ttrainig time: 50.3280\n",
      "building a DeepWalk model...\tnumber of walks: 125205\taverage walk length: 17.6439\ttrainig time: 49.3290\n",
      "building a DeepWalk model...\tnumber of walks: 125205\taverage walk length: 17.6439\ttrainig time: 49.8522\n",
      "building a DeepWalk model...\tnumber of walks: 125205\taverage walk length: 17.6439\ttrainig time: 51.3620\n",
      "building a DeepWalk model...\tnumber of walks: 125205\taverage walk length: 17.6439\ttrainig time: 49.9094\n",
      "building a DeepWalk model...\tnumber of walks: 125205\taverage walk length: 17.6439\ttrainig time: 53.1092\n",
      "building a DeepWalk model...\tnumber of walks: 125205\taverage walk length: 17.6439\ttrainig time: 49.8351\n",
      "building a DeepWalk model...\tnumber of walks: 125205\taverage walk length: 17.6439\ttrainig time: 50.1299\n",
      "building a DeepWalk model...\tnumber of walks: 125205\taverage walk length: 17.6439\ttrainig time: 50.3024\n",
      "building a DeepWalk model...\tnumber of walks: 125205\taverage walk length: 17.6439\ttrainig time: 56.3752\n",
      "building a DeepWalk model...\tnumber of walks: 125205\taverage walk length: 17.6439\ttrainig time: 49.9065\n",
      "building a DeepWalk model...\tnumber of walks: 125205\taverage walk length: 17.6439\ttrainig time: 50.3772\n",
      "building a DeepWalk model...\tnumber of walks: 125205\taverage walk length: 17.6439\ttrainig time: 60.4253\n",
      "building a DeepWalk model...\tnumber of walks: 125205\taverage walk length: 17.6439\ttrainig time: 52.6994\n",
      "building a DeepWalk model...\tnumber of walks: 125205\taverage walk length: 17.6439\ttrainig time: 50.0309\n",
      "building a DeepWalk model...\tnumber of walks: 125205\taverage walk length: 17.6439\ttrainig time: 50.8997\n"
     ]
    }
   ],
   "source": [
    "np.random.seed(0)\n",
    "\n",
    "node_dim = 10\n",
    "num_walks = 15  \n",
    "walk_length = 20 \n",
    "p_list = [0.6,0.7,0.8,0.9,1.0]\n",
    "q_list = [0.6,0.7,0.8,0.9,1.0]\n",
    "\n",
    "deepwalk_auc_scores = list()\n",
    "\n",
    "for p in p_list:\n",
    "    \n",
    "    deepwalk_scores = list()\n",
    "    \n",
    "    for q in q_list:\n",
    "        alias_nodes, alias_edges = preprocess_transition_probs(graph, p=p, q=q)\n",
    "\n",
    "        # build models and get auc scores\n",
    "        model_deepwalk = build_deepwalk(graph, alias_nodes,\n",
    "                            node_dim=node_dim, num_walks=num_walks, walk_length=walk_length)\n",
    "        deepwalk_scores.append(get_auc_score(model_deepwalk, valid_edges, false_edges))\n",
    "    \n",
    "    deepwalk_auc_scores.append(deepwalk_scores)\n",
    "    \n",
    "deepwalk_auc_scores = np.array(deepwalk_auc_scores)"
   ]
  },
  {
   "cell_type": "code",
   "execution_count": 35,
   "metadata": {},
   "outputs": [
    {
     "data": {
      "image/png": "[encoded data removed]",
      "text/plain": [
       "<Figure size 432x288 with 2 Axes>"
      ]
     },
     "metadata": {
      "needs_background": "light"
     },
     "output_type": "display_data"
    }
   ],
   "source": [
    "ax_deepwalk = sns.heatmap(deepwalk_auc_scores, linewidth=0.5, xticklabels=q_list, yticklabels=p_list)\n",
    "ax_deepwalk.set_title(\"Tune p,q Deepwalk\")\n",
    "plt.show()"
   ]
  },
  {
   "cell_type": "markdown",
   "metadata": {},
   "source": [
    "- Final adjustment: Node2Vec"
   ]
  },
  {
   "cell_type": "code",
   "execution_count": 19,
   "metadata": {
    "scrolled": true
   },
   "outputs": [
    {
     "name": "stdout",
     "output_type": "stream",
     "text": [
      "building a node2vec model...\tnumber of walks: 166940\taverage walk length: 13.4839\ttrainig time: 50.8250\n",
      "building a node2vec model...\tnumber of walks: 166940\taverage walk length: 13.5013\ttrainig time: 49.9165\n",
      "building a node2vec model...\tnumber of walks: 166940\taverage walk length: 13.4970\ttrainig time: 57.4324\n",
      "building a node2vec model...\tnumber of walks: 166940\taverage walk length: 13.5132\ttrainig time: 50.1158\n",
      "building a node2vec model...\tnumber of walks: 166940\taverage walk length: 13.5147\ttrainig time: 49.7539\n",
      "building a node2vec model...\tnumber of walks: 166940\taverage walk length: 13.4373\ttrainig time: 56.9756\n",
      "building a node2vec model...\tnumber of walks: 166940\taverage walk length: 13.4575\ttrainig time: 50.4950\n",
      "building a node2vec model...\tnumber of walks: 166940\taverage walk length: 13.4669\ttrainig time: 50.2633\n",
      "building a node2vec model...\tnumber of walks: 166940\taverage walk length: 13.4715\ttrainig time: 50.5327\n",
      "building a node2vec model...\tnumber of walks: 166940\taverage walk length: 13.4807\ttrainig time: 51.7700\n",
      "building a node2vec model...\tnumber of walks: 166940\taverage walk length: 13.4243\ttrainig time: 50.2084\n",
      "building a node2vec model...\tnumber of walks: 166940\taverage walk length: 13.4317\ttrainig time: 50.3843\n",
      "building a node2vec model...\tnumber of walks: 166940\taverage walk length: 13.4369\ttrainig time: 53.1937\n",
      "building a node2vec model...\tnumber of walks: 166940\taverage walk length: 13.4473\ttrainig time: 50.7910\n",
      "building a node2vec model...\tnumber of walks: 166940\taverage walk length: 13.4619\ttrainig time: 51.1964\n",
      "building a node2vec model...\tnumber of walks: 166940\taverage walk length: 13.4096\ttrainig time: 58.1764\n",
      "building a node2vec model...\tnumber of walks: 166940\taverage walk length: 13.4136\ttrainig time: 50.4440\n",
      "building a node2vec model...\tnumber of walks: 166940\taverage walk length: 13.4311\ttrainig time: 50.2725\n",
      "building a node2vec model...\tnumber of walks: 166940\taverage walk length: 13.4294\ttrainig time: 56.6584\n",
      "building a node2vec model...\tnumber of walks: 166940\taverage walk length: 13.4354\ttrainig time: 50.1608\n",
      "building a node2vec model...\tnumber of walks: 166940\taverage walk length: 13.4025\ttrainig time: 50.9058\n",
      "building a node2vec model...\tnumber of walks: 166940\taverage walk length: 13.4102\ttrainig time: 50.5980\n",
      "building a node2vec model...\tnumber of walks: 166940\taverage walk length: 13.4142\ttrainig time: 50.5679\n",
      "building a node2vec model...\tnumber of walks: 166940\taverage walk length: 13.4331\ttrainig time: 51.0364\n",
      "building a node2vec model...\tnumber of walks: 166940\taverage walk length: 13.4295\ttrainig time: 50.9347\n"
     ]
    }
   ],
   "source": [
    "np.random.seed(0)\n",
    "\n",
    "node_dim = 10\n",
    "num_walks = 20  \n",
    "walk_length = 15 \n",
    "p_list = [0.1,0.2,0.3,0.4,0.5]\n",
    "q_list = [0.6,0.7,0.8,0.9,1.0]\n",
    "\n",
    "node2vec_auc_scores = list()\n",
    "\n",
    "for p in p_list:\n",
    "    \n",
    "    node2vec_scores = list()\n",
    "    \n",
    "    for q in q_list:\n",
    "        alias_nodes, alias_edges = preprocess_transition_probs(graph, p=p, q=q)\n",
    "\n",
    "        # build models and get auc scores\n",
    "        model_node2vec = build_node2vec(graph, alias_nodes, alias_edges,\n",
    "                            node_dim=node_dim, num_walks=num_walks, walk_length=walk_length)\n",
    "        node2vec_scores.append(get_auc_score(model_node2vec, valid_edges, false_edges))\n",
    "    \n",
    "    \n",
    "    node2vec_auc_scores.append(node2vec_scores)\n",
    "    \n",
    "node2vec_auc_scores = np.array(node2vec_auc_scores)"
   ]
  },
  {
   "cell_type": "code",
   "execution_count": 20,
   "metadata": {},
   "outputs": [
    {
     "data": {
      "image/png": "[encoded data removed]",
      "text/plain": [
       "<Figure size 432x288 with 2 Axes>"
      ]
     },
     "metadata": {
      "needs_background": "light"
     },
     "output_type": "display_data"
    }
   ],
   "source": [
    "ax_node2vec = sns.heatmap(node2vec_auc_scores, linewidth=0.5, xticklabels=q_list, yticklabels=p_list)\n",
    "ax_node2vec.set_title(\"Tune p,q Node2vec\")\n",
    "plt.show()"
   ]
  },
  {
   "cell_type": "markdown",
   "metadata": {},
   "source": [
    "# Final Model"
   ]
  },
  {
   "cell_type": "markdown",
   "metadata": {},
   "source": [
    "## Deepwalk model"
   ]
  },
  {
   "cell_type": "code",
   "execution_count": 15,
   "metadata": {},
   "outputs": [],
   "source": [
    "np.random.seed(0)\n",
    "\n",
    "node_dim = 10\n",
    "num_walks = 15\n",
    "walk_length = 20\n",
    "p = 0.9\n",
    "q = 0.9"
   ]
  },
  {
   "cell_type": "code",
   "execution_count": 16,
   "metadata": {},
   "outputs": [
    {
     "name": "stdout",
     "output_type": "stream",
     "text": [
      "number of nodes: 8347\n",
      "number of edges: 100000\n"
     ]
    }
   ],
   "source": [
    "# generate the same validation size of false edges\n",
    "false_edges = generate_false_edges(edges, num_false_edges=40000-len(valid_edges))\n",
    "\n",
    "# construct the graph and preprocess transition probabilities\n",
    "graph = construct_graph_from_edges(train_edges)"
   ]
  },
  {
   "cell_type": "code",
   "execution_count": 17,
   "metadata": {},
   "outputs": [
    {
     "name": "stdout",
     "output_type": "stream",
     "text": [
      "building a DeepWalk model...\tnumber of walks: 125205\taverage walk length: 17.6439\ttrainig time: 57.4633\n",
      "DeepWalk: auc score: 0.9321\n"
     ]
    }
   ],
   "source": [
    "alias_nodes, alias_edges = preprocess_transition_probs(graph, p=p, q=q)\n",
    "\n",
    "# build models and get auc scores\n",
    "model_deepwalk = build_deepwalk(graph, alias_nodes,\n",
    "                            node_dim=node_dim, num_walks=num_walks, walk_length=walk_length)\n",
    "deepwalk_auc_score = get_auc_score(model_deepwalk, valid_edges, false_edges)\n",
    "\n",
    "print(\"DeepWalk: auc score: %.4f\" %(deepwalk_auc_score )) "
   ]
  },
  {
   "cell_type": "code",
   "execution_count": 18,
   "metadata": {},
   "outputs": [],
   "source": [
    "def get_pred_score(model, true_edges, false_edges):\n",
    "   \n",
    "    y_score = list()\n",
    "    for e in true_edges:\n",
    "        y_score.append(get_cosine_sim(model, e[0], e[1]))\n",
    "    for e in false_edges:\n",
    "        y_score.append(get_cosine_sim(model, e[0], e[1]))\n",
    "    \n",
    "    return y_score"
   ]
  },
  {
   "cell_type": "code",
   "execution_count": 19,
   "metadata": {},
   "outputs": [],
   "source": [
    "pre_score = get_pred_score(model_deepwalk, valid_edges, false_edges)"
   ]
  },
  {
   "cell_type": "code",
   "execution_count": 20,
   "metadata": {},
   "outputs": [],
   "source": [
    "write_predictions('valid_pred.csv', src, dst, pre_score)"
   ]
  },
  {
   "cell_type": "markdown",
   "metadata": {},
   "source": [
    "# AUC Score"
   ]
  },
  {
   "cell_type": "code",
   "execution_count": 21,
   "metadata": {},
   "outputs": [
    {
     "name": "stdout",
     "output_type": "stream",
     "text": [
      "auc score: 0.926213494799093\n"
     ]
    }
   ],
   "source": [
    "ans = pd.read_csv(\"data/valid_ans.csv\", usecols=[\"src\", \"dst\", \"score\"])\n",
    "pred = pd.read_csv(r\"data/valid_pred.csv\", usecols=[\"src\", \"dst\", \"score\"])\n",
    "df = pd.merge(ans, pred, how=\"left\", on=[\"src\", \"dst\"])\n",
    "df.fillna(0, inplace=True)\n",
    "auc_score = roc_auc_score(df[\"score_x\"], df[\"score_y\"])\n",
    "print(\"auc score:\", auc_score)"
   ]
  },
  {
   "cell_type": "markdown",
   "metadata": {},
   "source": [
    "# Write Prediction on Testing data"
   ]
  },
  {
   "cell_type": "code",
   "execution_count": 166,
   "metadata": {},
   "outputs": [],
   "source": [
    "test = pd.read_csv(\"data/test.csv\")\n",
    "test = test.drop(columns=\"score\")"
   ]
  },
  {
   "cell_type": "code",
   "execution_count": 167,
   "metadata": {},
   "outputs": [],
   "source": [
    "test_edges = list(test.to_records(index=False))"
   ]
  },
  {
   "cell_type": "code",
   "execution_count": 170,
   "metadata": {},
   "outputs": [],
   "source": [
    "def get_test_score(model, test_edges):\n",
    "   \n",
    "    y_score = list()\n",
    "    for e in test_edges:\n",
    "        y_score.append(get_cosine_sim(model, e[0], e[1]))\n",
    "    \n",
    "    return y_score"
   ]
  },
  {
   "cell_type": "code",
   "execution_count": 171,
   "metadata": {},
   "outputs": [],
   "source": [
    "pre_score = get_test_score(model_deepwalk, test_edges)"
   ]
  },
  {
   "cell_type": "code",
   "execution_count": 185,
   "metadata": {},
   "outputs": [],
   "source": [
    "write_predictions('test_pred.csv', list(test[\"src\"]), list(test[\"dst\"]), pre_score)"
   ]
  }
 ],
 "metadata": {
  "kernelspec": {
   "display_name": "Python 3",
   "language": "python",
   "name": "python3"
  },
  "language_info": {
   "codemirror_mode": {
    "name": "ipython",
    "version": 3
   },
   "file_extension": ".py",
   "mimetype": "text/x-python",
   "name": "python",
   "nbconvert_exporter": "python",
   "pygments_lexer": "ipython3",
   "version": "3.6.10"
  }
 },
 "nbformat": 4,
 "nbformat_minor": 4
}
